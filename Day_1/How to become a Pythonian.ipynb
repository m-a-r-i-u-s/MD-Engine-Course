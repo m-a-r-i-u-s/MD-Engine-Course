{
 "cells": [
  {
   "cell_type": "markdown",
   "metadata": {},
   "source": [
    "# A (very) brief introduction into Python"
   ]
  },
  {
   "cell_type": "markdown",
   "metadata": {},
   "source": [
    "***Why Python?***"
   ]
  },
  {
   "cell_type": "markdown",
   "metadata": {},
   "source": [
    "Python is a widley used programming language with a dynamic interpretation, a simple syntax, a big user community and a large number of different open source extensions. It is therefore advantageous to learn the fundamentals of this versatile language. On the first day of our course you will learn the basics of Python and some of its most important extensions."
   ]
  },
  {
   "cell_type": "markdown",
   "metadata": {},
   "source": [
    "![title](Pictures/let-the-adventure-begin.jpg)"
   ]
  },
  {
   "cell_type": "markdown",
   "metadata": {},
   "source": [
    "***How will we use Python?***"
   ]
  },
  {
   "cell_type": "markdown",
   "metadata": {},
   "source": [
    "There are several ways to write and execute Python code. For this course we decided to use **Jupyter-Notebooks**, since they make it easier for you to write clean and structured code. You can write, comment and execute your written programs directly in a browser which is much easier than to use a high level IDE or a \"simple\" text editor."
   ]
  },
  {
   "cell_type": "markdown",
   "metadata": {},
   "source": [
    "***Some notes about Jupyter?***"
   ]
  },
  {
   "cell_type": "markdown",
   "metadata": {},
   "source": [
    "There are two main groups of ***cells***:"
   ]
  },
  {
   "cell_type": "markdown",
   "metadata": {},
   "source": [
    "This is a **markdown** cell. You can write plain text or embed LaTEX equations inside:\n",
    "\\begin{align}\n",
    "a^{2} + b^{2} = c^{2}\n",
    "\\end{align}"
   ]
  },
  {
   "cell_type": "markdown",
   "metadata": {},
   "source": [
    "The next cell is a **code** cell. They allow you to write and execute Python code directly in the notebook. To run the cell you have to select it (simply click on it) and press the run button above or use *STRG+Enter*. Try it! :)"
   ]
  },
  {
   "cell_type": "code",
   "execution_count": null,
   "metadata": {
    "scrolled": true
   },
   "outputs": [],
   "source": [
    "print('Hello World! I am a code cell! :-)')\n",
    "\n",
    "#I am a comment and this is a for-loop:\n",
    "for i in range(10): #Iterate over all numbers from 0 to 9.\n",
    "    \n",
    "    print(i) #Print the iteration variable i"
   ]
  },
  {
   "cell_type": "markdown",
   "metadata": {},
   "source": [
    "There a two ways to edit a cell:\n",
    "\n",
    "* The **Edit** mode allows you to modify the content of a cell.\n",
    "\n",
    "\n",
    "* The **Command** model allows you to modify the cell (e.g. copy, cut, move, ...)"
   ]
  },
  {
   "cell_type": "markdown",
   "metadata": {},
   "source": [
    "The modes are distinguished by the colour of their frames. The **Edit** mode has a green frame, while the **Command** mode has a blue frame."
   ]
  },
  {
   "cell_type": "markdown",
   "metadata": {},
   "source": [
    "## Python is just a calculator..."
   ]
  },
  {
   "cell_type": "markdown",
   "metadata": {},
   "source": [
    "**...with a vast number of different possibilities!**"
   ]
  },
  {
   "cell_type": "markdown",
   "metadata": {},
   "source": [
    "Python supports simple artihmetic operations with integers, floats and complex numbers:"
   ]
  },
  {
   "cell_type": "code",
   "execution_count": null,
   "metadata": {},
   "outputs": [],
   "source": [
    "1 + 1, (1 + 1j) + (1 - 1j), 3.14 + 1.41 #Addition"
   ]
  },
  {
   "cell_type": "markdown",
   "metadata": {},
   "source": [
    "<div class=\"alert alert-danger\">\n",
    "\n",
    "<b>Be careful!</b>\n",
    "\n",
    "The imaginary part of a complex number is j and not i in Python!\n",
    "\n",
    "</div>"
   ]
  },
  {
   "cell_type": "code",
   "execution_count": null,
   "metadata": {},
   "outputs": [],
   "source": [
    "2 - 4, (3 + 6j) - (5 + 7j), 4.2 - 2.4 #Subtraction"
   ]
  },
  {
   "cell_type": "markdown",
   "metadata": {},
   "source": [
    "<div class=\"alert alert-danger\">\n",
    "\n",
    "<b>Be careful!</b>\n",
    "\n",
    "Python, as well as every programming language, is not perfect! Operations with floats on a machine will probably lead to inaccuracies!\n",
    "\n",
    "</div>"
   ]
  },
  {
   "cell_type": "code",
   "execution_count": null,
   "metadata": {},
   "outputs": [],
   "source": [
    "2 * 8, (2 + 2j) * (4 + 4j), 4.5 * 5.6 #Multiplication"
   ]
  },
  {
   "cell_type": "code",
   "execution_count": null,
   "metadata": {},
   "outputs": [],
   "source": [
    "4 / 5, (2 + 7j) / 19, 6.7 / 7.6 #Division"
   ]
  },
  {
   "cell_type": "code",
   "execution_count": null,
   "metadata": {},
   "outputs": [],
   "source": [
    "max(1,2,3, 100), min(3,2,1,-1) #Maximum/Minimum"
   ]
  },
  {
   "cell_type": "code",
   "execution_count": null,
   "metadata": {},
   "outputs": [],
   "source": [
    "abs(-2.7), abs(4 + 4j) #Absolute value"
   ]
  },
  {
   "cell_type": "code",
   "execution_count": null,
   "metadata": {},
   "outputs": [],
   "source": [
    "round(3.41), round(1.41, 1), round(3.33, 0), round(23.2354532432, 4) #Rounding to any number after the decimal point"
   ]
  },
  {
   "cell_type": "code",
   "execution_count": null,
   "metadata": {},
   "outputs": [],
   "source": [
    "3**3, (2 + 3j)**5, 4.4**4 #Powers"
   ]
  },
  {
   "cell_type": "code",
   "execution_count": null,
   "metadata": {},
   "outputs": [],
   "source": [
    "2 // 3, 2.3 // 4.5, 6 // 3.5 #Floor division"
   ]
  },
  {
   "cell_type": "code",
   "execution_count": null,
   "metadata": {},
   "outputs": [],
   "source": [
    "7 % 5, 7.2 % 2.5 #Modulus"
   ]
  },
  {
   "cell_type": "markdown",
   "metadata": {},
   "source": [
    "## Variables"
   ]
  },
  {
   "cell_type": "markdown",
   "metadata": {},
   "source": [
    "It is common to define variables during programming to save intermediate results or to write an readable script. In Python you can define a variable with the **assignment statement**: \"=\"."
   ]
  },
  {
   "cell_type": "code",
   "execution_count": null,
   "metadata": {},
   "outputs": [],
   "source": [
    "x = 42"
   ]
  },
  {
   "cell_type": "code",
   "execution_count": null,
   "metadata": {},
   "outputs": [],
   "source": [
    "print(x)"
   ]
  },
  {
   "cell_type": "code",
   "execution_count": null,
   "metadata": {},
   "outputs": [],
   "source": [
    "type(x)"
   ]
  },
  {
   "cell_type": "markdown",
   "metadata": {},
   "source": [
    "<div class=\"alert alert-danger\">\n",
    "\n",
    "<b>Be careful!</b>\n",
    "\n",
    "Python recognizes the type of a variable by itself (e.g. float, int, etc.). This is done by the interpreter on a \"lower\" machine level. However, this results in an overhead during the execution leading to a performance bottleneck in more sophisticated programs. \n",
    "\n",
    "</div>"
   ]
  },
  {
   "cell_type": "markdown",
   "metadata": {},
   "source": [
    "Variables can be used or modified like normal numbers:"
   ]
  },
  {
   "cell_type": "code",
   "execution_count": null,
   "metadata": {},
   "outputs": [],
   "source": [
    "y = x+8\n",
    "print(y)\n",
    "x += 10\n",
    "print(x)"
   ]
  },
  {
   "cell_type": "markdown",
   "metadata": {},
   "source": [
    "It is also possible to define different variables in the same line:"
   ]
  },
  {
   "cell_type": "code",
   "execution_count": null,
   "metadata": {},
   "outputs": [],
   "source": [
    "a = b = c = 0   # careful with mutable objects like lists!!\n",
    "print(a, b, c)\n",
    "\n",
    "j, k = 0, 1\n",
    "print(j, k)"
   ]
  },
  {
   "cell_type": "markdown",
   "metadata": {},
   "source": [
    "<div class=\"alert alert-success\">\n",
    "\n",
    "<b>Try it yourself!</b>\n",
    "\n",
    "What is the output of the next cell? Think about it first!\n",
    "\n",
    "</div>"
   ]
  },
  {
   "cell_type": "code",
   "execution_count": null,
   "metadata": {},
   "outputs": [],
   "source": [
    "j, k = k, j\n",
    "print(j, k)"
   ]
  },
  {
   "cell_type": "markdown",
   "metadata": {},
   "source": [
    "In general, you can use any sequence of characters to define an assignment statement. However, there are some exceptions:"
   ]
  },
  {
   "cell_type": "code",
   "execution_count": null,
   "metadata": {},
   "outputs": [],
   "source": [
    "some@mix = 7 #No special characters (e.g. @ are used as decorators in Python)"
   ]
  },
  {
   "cell_type": "code",
   "execution_count": null,
   "metadata": {},
   "outputs": [],
   "source": [
    "test.test = 7 #Dots are used to call attributes of a class"
   ]
  },
  {
   "cell_type": "code",
   "execution_count": null,
   "metadata": {},
   "outputs": [],
   "source": [
    "lambda = 7 #In-built funktions (like lambda) should be not overwritten!"
   ]
  },
  {
   "cell_type": "markdown",
   "metadata": {},
   "source": [
    "Python throws also an error, if you try to call an undefined variable:"
   ]
  },
  {
   "cell_type": "code",
   "execution_count": null,
   "metadata": {},
   "outputs": [],
   "source": [
    "defined = 0"
   ]
  },
  {
   "cell_type": "code",
   "execution_count": null,
   "metadata": {},
   "outputs": [],
   "source": [
    "print(defined)\n",
    "print(not_defined)"
   ]
  },
  {
   "cell_type": "markdown",
   "metadata": {},
   "source": [
    "## Scopes of variables"
   ]
  },
  {
   "cell_type": "markdown",
   "metadata": {},
   "source": [
    "The scope of a variable in Python defines if you or the function you call can access the variable of interest. The Python interpreter follows thereby the **LEGB** rule: \n",
    "\n",
    "* **L**ocal\n",
    "* **E**nclosing\n",
    "* **G**lobal\n",
    "* **B**uilt-in "
   ]
  },
  {
   "cell_type": "markdown",
   "metadata": {},
   "source": [
    "***Local***"
   ]
  },
  {
   "cell_type": "markdown",
   "metadata": {},
   "source": [
    "The rule states that Python first searches in the local scope, i.e. a function or a lambda expression, to find a variable. For example, in the next cell a function is defined which contains a local variable. This variable can be only accessed inside this function, if you would try to modify the variable outside of its scope you will receive an error!"
   ]
  },
  {
   "cell_type": "code",
   "execution_count": null,
   "metadata": {},
   "outputs": [],
   "source": [
    "def dummy_function(): #A function is initialized with the def-statement in Python -> A more detailed explanation of function can be found below\n",
    "    \n",
    "    local_variable = 5 #This variable is in the local scope of the function and can be only accessed inside this function\n",
    "    \n",
    "    return 0\n",
    "\n",
    "dummy_function() #Call dummy_function"
   ]
  },
  {
   "cell_type": "code",
   "execution_count": null,
   "metadata": {},
   "outputs": [],
   "source": [
    "local_variable + 5"
   ]
  },
  {
   "cell_type": "markdown",
   "metadata": {},
   "source": [
    "The code inside a function is executed **every** time you call the function! Local variables are only temporarily stored and are overwritten each time!"
   ]
  },
  {
   "cell_type": "markdown",
   "metadata": {},
   "source": [
    "***Enclosing***"
   ]
  },
  {
   "cell_type": "markdown",
   "metadata": {},
   "source": [
    "This scope contains variables in nested functions or loops. We will extend our previously defined function to give you a practical example of this scope:"
   ]
  },
  {
   "cell_type": "code",
   "execution_count": null,
   "metadata": {},
   "outputs": [],
   "source": [
    "def dummy_function(): \n",
    "    \n",
    "    local_variable = 5 #This variable is in the local scope of the dummy_function()\n",
    "    \n",
    "    def inner_dummy_function():\n",
    "        \n",
    "        enclosing_variable = 5 #The enclosing variable is defined in the local scope of the inner_dummy_function\n",
    "        \n",
    "        return 0\n",
    "    \n",
    "    inner_dummy_function()\n",
    "    \n",
    "    print(enclosing_variable) #This line will throw an error since the enclosing variable cannot be accessed by the local scope of the dummy_function\n",
    "    \n",
    "    return 0\n",
    "\n",
    "dummy_function()"
   ]
  },
  {
   "cell_type": "markdown",
   "metadata": {},
   "source": [
    "The next example reveal also another interesting fact about nested functions. Do you understand what happens in the next cell and why it will not work? Try to fix it!"
   ]
  },
  {
   "cell_type": "code",
   "execution_count": null,
   "metadata": {},
   "outputs": [],
   "source": [
    "def dummy_function(): \n",
    "    \n",
    "    def inner_dummy_function():\n",
    "        \n",
    "        enclosing_variable = 5 + local_variable\n",
    "    \n",
    "        return 0\n",
    "    \n",
    "    inner_dummy_function()\n",
    "    \n",
    "    local_variable = 5\n",
    "    \n",
    "    return 0\n",
    "\n",
    "dummy_function()"
   ]
  },
  {
   "cell_type": "markdown",
   "metadata": {},
   "source": [
    "***Global***"
   ]
  },
  {
   "cell_type": "markdown",
   "metadata": {},
   "source": [
    "The global scope is the most prominent scope inside a Python program. Everytime you define a variable outside of a function it will become **global**. This fact is very important in the case of jupyter-notebooks. If you define a variable in a cell it can be accessed by each cell in your notebook:"
   ]
  },
  {
   "cell_type": "code",
   "execution_count": null,
   "metadata": {},
   "outputs": [],
   "source": [
    "global_variable = 5"
   ]
  },
  {
   "cell_type": "code",
   "execution_count": null,
   "metadata": {},
   "outputs": [],
   "source": [
    "print(global_variable)"
   ]
  },
  {
   "cell_type": "markdown",
   "metadata": {},
   "source": [
    "Global variables can be also accessed inside a function:"
   ]
  },
  {
   "cell_type": "code",
   "execution_count": null,
   "metadata": {},
   "outputs": [],
   "source": [
    "def dummy_function():\n",
    "    \n",
    "    local_variable = 5 + global_variable\n",
    "    \n",
    "    return local_variable\n",
    "\n",
    "dummy_function()"
   ]
  },
  {
   "cell_type": "markdown",
   "metadata": {},
   "source": [
    "Interestingly, it is not allowed to print or modify a global variable in a local scope. Python throws this error, because it was tried to overwrite the global variable with a local variable."
   ]
  },
  {
   "cell_type": "code",
   "execution_count": null,
   "metadata": {},
   "outputs": [],
   "source": [
    "def dummy_function():\n",
    "    \n",
    "    print(global_variable)\n",
    "    \n",
    "    global_variable += 5\n",
    "    \n",
    "    return global_variable\n",
    "\n",
    "dummy_function()"
   ]
  },
  {
   "cell_type": "code",
   "execution_count": null,
   "metadata": {},
   "outputs": [],
   "source": [
    "def dummy_function():\n",
    "    \n",
    "    global global_variable #The global statement can circumvent thsi problem, but it is not recommend to do so!!!\n",
    "    \n",
    "    print(global_variable)\n",
    "    \n",
    "    global_variable += 5\n",
    "    \n",
    "    return global_variable\n",
    "\n",
    "dummy_function()"
   ]
  },
  {
   "cell_type": "markdown",
   "metadata": {},
   "source": [
    "<div class=\"alert alert-danger\">\n",
    "\n",
    "<b>Be careful!</b>\n",
    "\n",
    "It is **not** recommended to make functions dependent of global variables or modify global variables inside a function!\n",
    "\n",
    "</div>"
   ]
  },
  {
   "cell_type": "markdown",
   "metadata": {},
   "source": [
    "***Built-ins***"
   ]
  },
  {
   "cell_type": "markdown",
   "metadata": {},
   "source": [
    "Built-ins refer to functions which are already loaded into the global scope of a programm upon its initilization. There are a bunch of useful built-in functions in Python like an min/max-function, type()-function, abs()-function, etc... A full list of all built-in functions can be found via:"
   ]
  },
  {
   "cell_type": "code",
   "execution_count": null,
   "metadata": {},
   "outputs": [],
   "source": [
    "dir(__builtins__)"
   ]
  },
  {
   "cell_type": "markdown",
   "metadata": {},
   "source": [
    "It is recommended that this built-in variables should be **not** overwritten. If it happens by accident you can free the variable by typing:"
   ]
  },
  {
   "cell_type": "code",
   "execution_count": null,
   "metadata": {},
   "outputs": [],
   "source": [
    "abs = \"This is not a good idea\"\n",
    "\n",
    "del abs #Free the variable\n",
    "\n",
    "abs(-5)"
   ]
  },
  {
   "cell_type": "markdown",
   "metadata": {},
   "source": [
    "## Types in Python"
   ]
  },
  {
   "cell_type": "markdown",
   "metadata": {},
   "source": [
    "There are different *types* of variables. The list below comprehends some of the most common ones:\n",
    "\n",
    "* **Numbers**: integers, floats, complex numbers\n",
    "* **Boolean**: True, False\n",
    "* **Strings**: \"I'm a string\"\n",
    "* **Lists**: [1, 2, 3]\n",
    "* **Tuples**: (a, b, c)\n",
    "* **Dictionaries**: {'a': 1, 'b': \"Inhalt\", 'c': [0,1,2]}\n",
    "* **Sets**: set([3,2,3])\n",
    "* **None**\n"
   ]
  },
  {
   "cell_type": "markdown",
   "metadata": {},
   "source": [
    "### Boolean"
   ]
  },
  {
   "cell_type": "markdown",
   "metadata": {},
   "source": [
    "A **Boolean** is whether **True** or **False**."
   ]
  },
  {
   "cell_type": "code",
   "execution_count": null,
   "metadata": {},
   "outputs": [],
   "source": [
    "True, False"
   ]
  },
  {
   "cell_type": "code",
   "execution_count": null,
   "metadata": {},
   "outputs": [],
   "source": [
    "True == True, False == False"
   ]
  },
  {
   "cell_type": "code",
   "execution_count": null,
   "metadata": {},
   "outputs": [],
   "source": [
    "True == False, False == True"
   ]
  },
  {
   "cell_type": "code",
   "execution_count": null,
   "metadata": {},
   "outputs": [],
   "source": [
    "False and False, True and True, True and False"
   ]
  },
  {
   "cell_type": "markdown",
   "metadata": {},
   "source": [
    "### String"
   ]
  },
  {
   "cell_type": "markdown",
   "metadata": {},
   "source": [
    "A **String** is sequence of characters, special characters or numbers. It is always embed between two **quotation marks**."
   ]
  },
  {
   "cell_type": "code",
   "execution_count": null,
   "metadata": {},
   "outputs": [],
   "source": [
    "\"I am a string!\""
   ]
  },
  {
   "cell_type": "code",
   "execution_count": null,
   "metadata": {},
   "outputs": [],
   "source": [
    "'I am a string, too!'"
   ]
  },
  {
   "cell_type": "code",
   "execution_count": null,
   "metadata": {},
   "outputs": [],
   "source": [
    "'''I\n",
    "am\n",
    "also\n",
    "a\n",
    "string!'''"
   ]
  },
  {
   "cell_type": "markdown",
   "metadata": {},
   "source": [
    "<div class=\"alert alert-danger\">\n",
    "\n",
    "<b>Be careful!</b>\n",
    "\n",
    "A new line is displayed with \\n!\n",
    "</div>"
   ]
  },
  {
   "cell_type": "code",
   "execution_count": null,
   "metadata": {},
   "outputs": [],
   "source": [
    "\"I am \n",
    "not a string\""
   ]
  },
  {
   "cell_type": "code",
   "execution_count": null,
   "metadata": {},
   "outputs": [],
   "source": [
    "\"I am \\\n",
    "working\""
   ]
  },
  {
   "cell_type": "markdown",
   "metadata": {},
   "source": [
    "<div class=\"alert alert-danger\">\n",
    "\n",
    "<b>Be careful!</b>\n",
    "\n",
    "A multi-Line string always starts with 3 quotation marks or by using \\!\n",
    "\n",
    "</div>"
   ]
  },
  {
   "cell_type": "markdown",
   "metadata": {},
   "source": [
    "### Lists"
   ]
  },
  {
   "cell_type": "markdown",
   "metadata": {},
   "source": [
    "A list consists of multiple elements with the same or with different types. A list is enumerated and mutable! "
   ]
  },
  {
   "cell_type": "code",
   "execution_count": null,
   "metadata": {},
   "outputs": [],
   "source": [
    "first_list = ['A', 'list', 'uses', 'square brackets', 'and', 'commas']"
   ]
  },
  {
   "cell_type": "markdown",
   "metadata": {},
   "source": [
    "Call the elements of a list:"
   ]
  },
  {
   "cell_type": "code",
   "execution_count": null,
   "metadata": {},
   "outputs": [],
   "source": [
    "first_list[0], first_list[1], first_list[2], first_list[3], first_list[4], first_list[5]"
   ]
  },
  {
   "cell_type": "markdown",
   "metadata": {},
   "source": [
    "<div class=\"alert alert-danger\">\n",
    "\n",
    "<b>Be careful!</b>\n",
    "\n",
    "The enumeration in Python starts with <b>0</b> and <b>not</b> with <b>1</b>!\n",
    "\n",
    "</div>\n",
    "\n"
   ]
  },
  {
   "cell_type": "markdown",
   "metadata": {},
   "source": [
    "The in-built function **len()** returns the number of elements in a list."
   ]
  },
  {
   "cell_type": "code",
   "execution_count": null,
   "metadata": {},
   "outputs": [],
   "source": [
    "len(first_list)"
   ]
  },
  {
   "cell_type": "markdown",
   "metadata": {},
   "source": [
    "To extend a list you can...\n",
    "\n",
    "...**add** two lists.."
   ]
  },
  {
   "cell_type": "code",
   "execution_count": null,
   "metadata": {},
   "outputs": [],
   "source": [
    "second_list = [0, 1, 2, 3, 4]\n",
    "third_list = [5, 6, 7, 8, 9]\n",
    "\n",
    "second_list += third_list\n",
    "\n",
    "print(second_list)"
   ]
  },
  {
   "cell_type": "markdown",
   "metadata": {},
   "source": [
    "...or use the **append()** command:"
   ]
  },
  {
   "cell_type": "code",
   "execution_count": null,
   "metadata": {},
   "outputs": [],
   "source": [
    "empty_list = []\n",
    "print(empty_list)\n",
    "empty_list.append(\"Add an element\")\n",
    "print(empty_list)"
   ]
  },
  {
   "cell_type": "markdown",
   "metadata": {},
   "source": [
    "You can use the \"**:**\" symbol to extract parts of a list:"
   ]
  },
  {
   "cell_type": "code",
   "execution_count": null,
   "metadata": {},
   "outputs": [],
   "source": [
    "second_list[0:5]"
   ]
  },
  {
   "cell_type": "markdown",
   "metadata": {},
   "source": [
    "This is called **slicing** and can be arbitrarily complex..."
   ]
  },
  {
   "cell_type": "code",
   "execution_count": null,
   "metadata": {},
   "outputs": [],
   "source": [
    "second_list[5:10][2:5][2]"
   ]
  },
  {
   "cell_type": "markdown",
   "metadata": {},
   "source": [
    "You can apply \"**in**\" to check if an object is in a list:"
   ]
  },
  {
   "cell_type": "code",
   "execution_count": null,
   "metadata": {},
   "outputs": [],
   "source": [
    "print(123 in first_list)\n",
    "print('and' in first_list)"
   ]
  },
  {
   "cell_type": "markdown",
   "metadata": {},
   "source": [
    "### Tuple"
   ]
  },
  {
   "cell_type": "markdown",
   "metadata": {},
   "source": [
    "A **Tuple** is like a list, but it is **immutable**!"
   ]
  },
  {
   "cell_type": "code",
   "execution_count": null,
   "metadata": {},
   "outputs": [],
   "source": [
    "(\"A\", \"tuple\", (\"uses\", \"parantheses\"))"
   ]
  },
  {
   "cell_type": "code",
   "execution_count": null,
   "metadata": {},
   "outputs": [],
   "source": [
    "\"But\", \"it\", \"is\", \"not\", \"mandatory\""
   ]
  },
  {
   "cell_type": "markdown",
   "metadata": {},
   "source": [
    "Let's define a **tuple** and a **list** to clearify the difference!"
   ]
  },
  {
   "cell_type": "code",
   "execution_count": null,
   "metadata": {},
   "outputs": [],
   "source": [
    "tu = ('abcd', 786 , 2.23, 'john', 70.2)\n",
    "li = ['abcd', 786 , 2.23, 'john', 70.2]"
   ]
  },
  {
   "cell_type": "markdown",
   "metadata": {},
   "source": [
    "This is possible with a **list**..."
   ]
  },
  {
   "cell_type": "code",
   "execution_count": null,
   "metadata": {},
   "outputs": [],
   "source": [
    "li[2] = 1000"
   ]
  },
  {
   "cell_type": "code",
   "execution_count": null,
   "metadata": {},
   "outputs": [],
   "source": [
    "li += ['42']\n",
    "print(li)"
   ]
  },
  {
   "cell_type": "markdown",
   "metadata": {},
   "source": [
    "..., but not with a **tuple**:"
   ]
  },
  {
   "cell_type": "code",
   "execution_count": null,
   "metadata": {},
   "outputs": [],
   "source": [
    "tu[2] = 1000  "
   ]
  },
  {
   "cell_type": "code",
   "execution_count": null,
   "metadata": {},
   "outputs": [],
   "source": [
    "x = (1,2,[3,4])\n",
    "x[-1] += [5, 6] "
   ]
  },
  {
   "cell_type": "markdown",
   "metadata": {},
   "source": [
    "### Dictionaries"
   ]
  },
  {
   "cell_type": "markdown",
   "metadata": {},
   "source": [
    "**Dictionaries** consist of *keys* and *values*. A *value* could be any object (integer, list, etc.), but instead of numerical indices *keys* are deployed to label the object."
   ]
  },
  {
   "cell_type": "code",
   "execution_count": null,
   "metadata": {},
   "outputs": [],
   "source": [
    "First_Dict = {'a': 1, 'b': 'hello world', 'c': [123, 'mouse']}"
   ]
  },
  {
   "cell_type": "markdown",
   "metadata": {},
   "source": [
    "*Values* in a **dictionary** are called by their *keys*!"
   ]
  },
  {
   "cell_type": "code",
   "execution_count": null,
   "metadata": {},
   "outputs": [],
   "source": [
    "First_Dict['a'], First_Dict['b'], First_Dict['c']"
   ]
  },
  {
   "cell_type": "markdown",
   "metadata": {},
   "source": [
    "You can access lists of the available *keys* and *values* with..."
   ]
  },
  {
   "cell_type": "code",
   "execution_count": null,
   "metadata": {},
   "outputs": [],
   "source": [
    "First_Dict.keys() #Returns a list of keys"
   ]
  },
  {
   "cell_type": "code",
   "execution_count": null,
   "metadata": {},
   "outputs": [],
   "source": [
    "First_Dict.values() #Returns a list of values"
   ]
  },
  {
   "cell_type": "markdown",
   "metadata": {},
   "source": [
    "### Sets"
   ]
  },
  {
   "cell_type": "markdown",
   "metadata": {},
   "source": [
    "**Sets** are similar to lists or tuples, but they are **not ordered**. This means that their elements do not possess a specific key or index. Moreover, they do not allow duplicates which makes them helpful to get only unique elements in a object."
   ]
  },
  {
   "cell_type": "code",
   "execution_count": null,
   "metadata": {},
   "outputs": [],
   "source": [
    "Sets = set((\"Apfel\", \"Banane\", \"4\", \"3\", \"3\", \"Apfel\", \"Erdbeere\"))"
   ]
  },
  {
   "cell_type": "code",
   "execution_count": null,
   "metadata": {},
   "outputs": [],
   "source": [
    "Sets"
   ]
  },
  {
   "cell_type": "markdown",
   "metadata": {},
   "source": [
    "### How can you get the type of an unkown object?"
   ]
  },
  {
   "cell_type": "code",
   "execution_count": null,
   "metadata": {},
   "outputs": [],
   "source": [
    "type(9), type(4.554), type('String'), type(['List'])"
   ]
  },
  {
   "cell_type": "markdown",
   "metadata": {},
   "source": [
    "The type() function returns the type of any object!"
   ]
  },
  {
   "cell_type": "markdown",
   "metadata": {},
   "source": [
    "## Control structures"
   ]
  },
  {
   "cell_type": "markdown",
   "metadata": {},
   "source": [
    "### if-Statement"
   ]
  },
  {
   "cell_type": "markdown",
   "metadata": {},
   "source": [
    "![title](Pictures/if.png)"
   ]
  },
  {
   "cell_type": "markdown",
   "metadata": {},
   "source": [
    "An **if** statement can be used to check if a given condition is **true** or **false**."
   ]
  },
  {
   "cell_type": "code",
   "execution_count": null,
   "metadata": {},
   "outputs": [],
   "source": [
    "if 5 < 10: #Check the conditions\n",
    "    print(\"True! 5 is smaller than 10.\") #Code if the condition is true"
   ]
  },
  {
   "cell_type": "markdown",
   "metadata": {},
   "source": [
    "<div class=\"alert alert-success\">\n",
    "\n",
    "<b>Try it yourself!</b>\n",
    "\n",
    "Change the if statment to prevent the code from printing the sentence!\n",
    "    \n",
    "</div>"
   ]
  },
  {
   "cell_type": "code",
   "execution_count": null,
   "metadata": {},
   "outputs": [],
   "source": []
  },
  {
   "cell_type": "markdown",
   "metadata": {},
   "source": [
    "### if-else-Statement"
   ]
  },
  {
   "cell_type": "markdown",
   "metadata": {},
   "source": [
    "**If-else** statements are an extension of **if** statements. They allow to change the output of the code if a certain condition is false."
   ]
  },
  {
   "cell_type": "markdown",
   "metadata": {},
   "source": [
    "![title](Pictures/ifelse.png)"
   ]
  },
  {
   "cell_type": "code",
   "execution_count": null,
   "metadata": {},
   "outputs": [],
   "source": [
    "if 5 > 10: #Check the condition\n",
    "    print(\"Houston, we have a problem!\") #Code if the condition is true\n",
    "else:\n",
    "    print(\"False! 10 is not smaller than 5!\") #Code if the condition is false"
   ]
  },
  {
   "cell_type": "markdown",
   "metadata": {},
   "source": [
    "## Can it become even more complicated...?! -> if-elif-else-Statements"
   ]
  },
  {
   "cell_type": "markdown",
   "metadata": {},
   "source": [
    "![title](Pictures/ifelifelse.png)"
   ]
  },
  {
   "cell_type": "code",
   "execution_count": null,
   "metadata": {},
   "outputs": [],
   "source": [
    "if 5 > 10:\n",
    "    print(\"That is impossible!\")\n",
    "\n",
    "elif 5 == 10:\n",
    "    print(\"Are you kidding?!\")\n",
    "    \n",
    "else:\n",
    "    print(\"False! 10 is not smaller than 5!\")"
   ]
  },
  {
   "cell_type": "markdown",
   "metadata": {},
   "source": [
    "## Loopings"
   ]
  },
  {
   "cell_type": "markdown",
   "metadata": {},
   "source": [
    "### While-Loops"
   ]
  },
  {
   "cell_type": "markdown",
   "metadata": {},
   "source": [
    "Repeat a while loop...\n",
    "  * ...infinitely...\n",
    "  * ...or until a certain condition is true/false...\n",
    " or until you stop it manually."
   ]
  },
  {
   "cell_type": "markdown",
   "metadata": {},
   "source": [
    "![title](Pictures/while.png)"
   ]
  },
  {
   "cell_type": "markdown",
   "metadata": {},
   "source": [
    "Example of an infinite loop (Try to **circumvent** it in your code!!!)"
   ]
  },
  {
   "cell_type": "code",
   "execution_count": null,
   "metadata": {},
   "outputs": [],
   "source": [
    "while True:\n",
    "    print(\"It will never stop...\")"
   ]
  },
  {
   "cell_type": "markdown",
   "metadata": {},
   "source": [
    "Stop the loop with **Stop** button next to the **Run** button above!"
   ]
  },
  {
   "cell_type": "code",
   "execution_count": null,
   "metadata": {},
   "outputs": [],
   "source": [
    "i = 0\n",
    "while i < 10: #This while loop terminates automatically after i is larger than or equal to 10\n",
    "    print(i)\n",
    "    i += 1"
   ]
  },
  {
   "cell_type": "markdown",
   "metadata": {},
   "source": [
    "<div class=\"alert alert-success\">\n",
    "\n",
    "<b>Try it yourself!</b>\n",
    "\n",
    "Write a **while**-loop to create a list with all numbers from 1 to 100.\n",
    "\n",
    "</div>"
   ]
  },
  {
   "cell_type": "code",
   "execution_count": null,
   "metadata": {},
   "outputs": [],
   "source": []
  },
  {
   "cell_type": "markdown",
   "metadata": {},
   "source": [
    "## For-Schleifen"
   ]
  },
  {
   "cell_type": "markdown",
   "metadata": {},
   "source": [
    "**While**-loops are sometimes impractical to implement. You can therefore use **for**-loops to iterate over a certain range of numbers or over elements in an object."
   ]
  },
  {
   "cell_type": "markdown",
   "metadata": {},
   "source": [
    "![title](Pictures/for.png)"
   ]
  },
  {
   "cell_type": "code",
   "execution_count": null,
   "metadata": {},
   "outputs": [],
   "source": [
    "for i in range(5): #Iterate over all numbers from 0 to 4\n",
    "    print(i)"
   ]
  },
  {
   "cell_type": "code",
   "execution_count": null,
   "metadata": {},
   "outputs": [],
   "source": [
    "a = [0, 1, 2, 3, 4]\n",
    "\n",
    "for item in a: #Iterate over all elements in a\n",
    "    print(item)"
   ]
  },
  {
   "cell_type": "code",
   "execution_count": null,
   "metadata": {},
   "outputs": [],
   "source": [
    "Liste = [\"Baume\", \"Apfel\", \"2\", \"3\"]\n",
    "\n",
    "for index, entry in enumerate(Liste): #Iterate over all elements in a and their respective indices\n",
    "    \n",
    "    print(\"Index:\", index)\n",
    "    print(\"Entry:\", entry)"
   ]
  },
  {
   "cell_type": "markdown",
   "metadata": {},
   "source": [
    "## Break und Continue\n",
    "\n",
    "* **break**: Stop and leave the loop\n",
    "* **continue**: Continue with the loop\n",
    "* **pass**: Continue"
   ]
  },
  {
   "cell_type": "markdown",
   "metadata": {},
   "source": [
    "![title](Pictures/breakcontinue.png)"
   ]
  },
  {
   "cell_type": "markdown",
   "metadata": {},
   "source": [
    "### Beispiele:"
   ]
  },
  {
   "cell_type": "markdown",
   "metadata": {},
   "source": [
    "### Continue"
   ]
  },
  {
   "cell_type": "code",
   "execution_count": null,
   "metadata": {
    "scrolled": true
   },
   "outputs": [],
   "source": [
    "a = 5\n",
    "\n",
    "#This for-loop iterates over all integeres between 1 and 10\n",
    "for i in range(1, 11):\n",
    "    \n",
    "    if i >= a:\n",
    "        \n",
    "        print(i)\n",
    "        \n",
    "    else: continue"
   ]
  },
  {
   "cell_type": "markdown",
   "metadata": {},
   "source": [
    "### Break"
   ]
  },
  {
   "cell_type": "code",
   "execution_count": null,
   "metadata": {},
   "outputs": [],
   "source": [
    "a = 5\n",
    "\n",
    "for i in range(1, 11):\n",
    "    if i >= a:\n",
    "        print(i)\n",
    "        break"
   ]
  },
  {
   "cell_type": "markdown",
   "metadata": {},
   "source": [
    "### Pass"
   ]
  },
  {
   "cell_type": "code",
   "execution_count": null,
   "metadata": {},
   "outputs": [],
   "source": [
    "a = 5\n",
    "\n",
    "for i in range(1, 11):\n",
    "    if i >= a:\n",
    "        print(i)\n",
    "        \n",
    "    else: pass"
   ]
  },
  {
   "cell_type": "markdown",
   "metadata": {},
   "source": [
    "# Some words about numerical accuracy..."
   ]
  },
  {
   "cell_type": "markdown",
   "metadata": {},
   "source": [
    "Before you finish the basic Python section we want to remind you that computers are **imperfect**! As a programmer you are responsible for your code and you should be sure that it works correctly. Python handles already a lot of stuff for us under its hood (in contrast to more low level languages like C or Fortran), but you have to consider some things: (*)"
   ]
  },
  {
   "cell_type": "markdown",
   "metadata": {},
   "source": [
    "### Rounding error"
   ]
  },
  {
   "cell_type": "markdown",
   "metadata": {},
   "source": [
    "Python does not store an infinite amount of digits after the decimal point. This called rounding error could accumulate over time leading **maybe** to imperfect results:"
   ]
  },
  {
   "cell_type": "code",
   "execution_count": null,
   "metadata": {},
   "outputs": [],
   "source": [
    "import numpy as np #The meaning of the line and the library numpy will be explained in the next section"
   ]
  },
  {
   "cell_type": "code",
   "execution_count": null,
   "metadata": {},
   "outputs": [],
   "source": [
    "print('Value of pi in NumPy:', np.pi) \n",
    "print('True value of pi:', 3.1415926535897932384626, '...')"
   ]
  },
  {
   "cell_type": "markdown",
   "metadata": {},
   "source": [
    "Python stores only significant 16 digits for a number. This is especially delicate for floating-point numbers with more digits after the decimal point. However, it can be also problematic for seemingly \"easy\" operations: "
   ]
  },
  {
   "cell_type": "code",
   "execution_count": null,
   "metadata": {},
   "outputs": [],
   "source": [
    "x = 1.1 + 2.2 + 1.0 #Seems easy peasy, but ...\n",
    "print(x) #... the result is not correct!!!"
   ]
  },
  {
   "cell_type": "markdown",
   "metadata": {},
   "source": [
    "Usually, the deviations are not so large and we can live with it. However, you should be aware of such things to understand a possible misbehavior of your code!"
   ]
  },
  {
   "cell_type": "markdown",
   "metadata": {},
   "source": [
    "Examples of more severe errors are given in the next cells:"
   ]
  },
  {
   "cell_type": "code",
   "execution_count": null,
   "metadata": {},
   "outputs": [],
   "source": [
    "#We assign two variables with large floats \n",
    "a = 100000000000000000000000000.0\n",
    "b = 100000000000000000000000001.2345\n",
    "\n",
    "#If you subtract them \"analytically\" you should get: 1.2345\n",
    "#However, if you subtract them \"numerically\" you will get...\n",
    "\n",
    "print('Output of the subtraction:', b - a)\n",
    "\n",
    "#A similar picture is drawn by their addition...\n",
    "\n",
    "print('Output of the addition:', b + a)"
   ]
  },
  {
   "cell_type": "markdown",
   "metadata": {},
   "source": [
    "<div class=\"alert alert-danger\">\n",
    "\n",
    "<b>Be careful!</b>\n",
    "\n",
    "Be careful if the difference between two numbers is smaller than the precision of your machine!\n",
    "\n",
    "</div>\n",
    "\n"
   ]
  },
  {
   "cell_type": "markdown",
   "metadata": {},
   "source": [
    "Another related example is:"
   ]
  },
  {
   "cell_type": "code",
   "execution_count": null,
   "metadata": {},
   "outputs": [],
   "source": [
    "x = 1\n",
    "y = 1 + 10**(-14) * np.sqrt(2)"
   ]
  },
  {
   "cell_type": "markdown",
   "metadata": {},
   "source": [
    "Trivially:\n",
    "\n",
    "$$10^{14} \\cdot (y - x) = \\sqrt{2} = 1.414213562... $$\n",
    "\n",
    "If you use Python to calculate the result you will get:"
   ]
  },
  {
   "cell_type": "code",
   "execution_count": null,
   "metadata": {},
   "outputs": [],
   "source": [
    "print('First result:',10**(14)*(y - x))\n",
    "print('Second result:', np.sqrt(2))"
   ]
  },
  {
   "cell_type": "markdown",
   "metadata": {},
   "source": [
    "(\\*) This section was mainly taken from the book: *Computational Physics* by Mark Newman"
   ]
  },
  {
   "cell_type": "markdown",
   "metadata": {},
   "source": [
    "# NumPy - Make math great again!"
   ]
  },
  {
   "cell_type": "markdown",
   "metadata": {},
   "source": [
    "Until now, you only looked at Python's in-built functions. To faciliate and accelerate the writing and execution of your code additional libraries can be loaded to extend the number of available functions. The most popular library is **NumPy**, it consists of a variety of different mathematical tools and adds also a new type to our pythonic life, the **array**!"
   ]
  },
  {
   "cell_type": "code",
   "execution_count": null,
   "metadata": {},
   "outputs": [],
   "source": [
    "import numpy as np #Libraries are called with import in Python"
   ]
  },
  {
   "cell_type": "markdown",
   "metadata": {},
   "source": [
    "### Arrays"
   ]
  },
  {
   "cell_type": "markdown",
   "metadata": {},
   "source": [
    "Arrays are quite similar to lists, but there are some significant differences:"
   ]
  },
  {
   "cell_type": "code",
   "execution_count": null,
   "metadata": {},
   "outputs": [],
   "source": [
    "a = np.array([0, 1, 2, 3, 4]) #Define an array of integers\n",
    "\n",
    "print(a)\n",
    "\n",
    "print(type(a))"
   ]
  },
  {
   "cell_type": "code",
   "execution_count": null,
   "metadata": {},
   "outputs": [],
   "source": [
    "b = [0, 1, 2, 3, 4] #Define a list of integeres\n",
    "\n",
    "print(type(b))\n",
    "\n",
    "b = np.array(b) #You can transform a list to an array\n",
    "\n",
    "print(type(b))"
   ]
  },
  {
   "cell_type": "markdown",
   "metadata": {},
   "source": [
    "**NumPy** arrays allow only **one** type of object:"
   ]
  },
  {
   "cell_type": "code",
   "execution_count": null,
   "metadata": {},
   "outputs": [],
   "source": [
    "b = ['String', 12]\n",
    "print(b)\n",
    "print(type(b[0]))\n",
    "print(type(b[1]))"
   ]
  },
  {
   "cell_type": "code",
   "execution_count": null,
   "metadata": {},
   "outputs": [],
   "source": [
    "b = np.array(['String', 12])\n",
    "print(b)\n",
    "print(type(b[0]))\n",
    "print(type(b[1]))"
   ]
  },
  {
   "cell_type": "markdown",
   "metadata": {},
   "source": [
    "You can see that integer 12 was transformed to a string!"
   ]
  },
  {
   "cell_type": "markdown",
   "metadata": {},
   "source": [
    "**NumPy** arrays can be handled like vectors and matrices:"
   ]
  },
  {
   "cell_type": "code",
   "execution_count": null,
   "metadata": {},
   "outputs": [],
   "source": [
    "Mat = np.array([[0, 1, 2, 3] , [4, 5, 6, 7], [8, 9, 10, 11], [12, 13, 14, 15]])\n",
    "print(Mat)"
   ]
  },
  {
   "cell_type": "markdown",
   "metadata": {},
   "source": [
    "There was also a specific type for matrices in **NumPy**, but if you now check the documentation you will get the following warning:\n",
    "\n",
    "\"It is no longer recommended to use this class, even for linear algebra. Instead use regular arrays. The class may be removed in the future.\" - (https://docs.scipy.org/doc/numpy/reference/generated/numpy.matrix.html)"
   ]
  },
  {
   "cell_type": "markdown",
   "metadata": {},
   "source": [
    "The slicing of a multi-dimensional array can be much more complex:"
   ]
  },
  {
   "cell_type": "code",
   "execution_count": null,
   "metadata": {},
   "outputs": [],
   "source": [
    "print(Mat[:, 0]) #Returns the first columns of a matrix\n",
    "print(Mat[0, :]) #Returns the first row of a matrix"
   ]
  },
  {
   "cell_type": "markdown",
   "metadata": {},
   "source": [
    "To get the i-th entry in the j-th columns you could write:"
   ]
  },
  {
   "cell_type": "code",
   "execution_count": null,
   "metadata": {},
   "outputs": [],
   "source": [
    "i = 1\n",
    "j = 3\n",
    "\n",
    "print(Mat[i, j])"
   ]
  },
  {
   "cell_type": "markdown",
   "metadata": {},
   "source": [
    "There are a bunch of other complex slicing options:"
   ]
  },
  {
   "cell_type": "code",
   "execution_count": null,
   "metadata": {},
   "outputs": [],
   "source": [
    "Mat[:, 2:] #All columns after the second column"
   ]
  },
  {
   "cell_type": "code",
   "execution_count": null,
   "metadata": {},
   "outputs": [],
   "source": [
    "Mat[2:, :] #All columns after the second row"
   ]
  },
  {
   "cell_type": "code",
   "execution_count": null,
   "metadata": {},
   "outputs": [],
   "source": [
    "Mat[2:, 2:] #Alle entries after the second row and the second column"
   ]
  },
  {
   "cell_type": "code",
   "execution_count": null,
   "metadata": {},
   "outputs": [],
   "source": [
    "Mat[1:3, 1:3] #All entries between the second and the third row and the second and the third column."
   ]
  },
  {
   "cell_type": "markdown",
   "metadata": {},
   "source": [
    "To get the shape of an array you can write:"
   ]
  },
  {
   "cell_type": "code",
   "execution_count": null,
   "metadata": {},
   "outputs": [],
   "source": [
    "np.shape(Mat)"
   ]
  },
  {
   "cell_type": "markdown",
   "metadata": {},
   "source": [
    "## Array operations"
   ]
  },
  {
   "cell_type": "markdown",
   "metadata": {},
   "source": [
    "An important feature of arrays is that you can perform arithmetic or functional operations over their axes. Some examples:"
   ]
  },
  {
   "cell_type": "markdown",
   "metadata": {},
   "source": [
    "To get the sum over all columns in the Mat array you could either write a nested for-loop..."
   ]
  },
  {
   "cell_type": "code",
   "execution_count": null,
   "metadata": {},
   "outputs": [],
   "source": [
    "Mat_Shape = np.shape(Mat) #Get the number of rows and columns of Mat\n",
    "\n",
    "Sum = np.zeros((Mat_Shape[0])) #Initialize a storage vector for the sum\n",
    "\n",
    "for i in range(Mat_Shape[0]):\n",
    "    for j in range(Mat_Shape[1]):\n",
    "    \n",
    "        Sum[j] += Mat[i, j]\n",
    "print(Sum)"
   ]
  },
  {
   "cell_type": "markdown",
   "metadata": {},
   "source": [
    "...or use the np.sum() function and add over the zeroth axis:"
   ]
  },
  {
   "cell_type": "code",
   "execution_count": null,
   "metadata": {},
   "outputs": [],
   "source": [
    "Sum = np.sum(Mat, axis = 0)\n",
    "print(Sum)"
   ]
  },
  {
   "cell_type": "markdown",
   "metadata": {},
   "source": [
    "Next to a more elegant code you get also a performance gain since NumPy functions are usually based on underlying C++/Fortran libraries."
   ]
  },
  {
   "cell_type": "markdown",
   "metadata": {},
   "source": [
    "<div class=\"alert alert-success\">\n",
    "\n",
    "<b>Try it yourself!</b>\n",
    "\n",
    "Calculate the mean over all possible axes in the array a. First, solve the exercise with multiple nested loops and use then the function **np.mean** with the axis argument.\n",
    "\n",
    "</div>"
   ]
  },
  {
   "cell_type": "code",
   "execution_count": null,
   "metadata": {},
   "outputs": [],
   "source": [
    "a = np.arange(32).reshape(2, 4, 2, 2)"
   ]
  },
  {
   "cell_type": "code",
   "execution_count": null,
   "metadata": {},
   "outputs": [],
   "source": []
  },
  {
   "cell_type": "markdown",
   "metadata": {},
   "source": [
    "Another nice feature of **NumPy** is *broadcasting* which allows you to add or multiplicate scalars to a whole array:"
   ]
  },
  {
   "cell_type": "code",
   "execution_count": null,
   "metadata": {},
   "outputs": [],
   "source": [
    "Ones = np.ones((4, 4)) #Make a 4x4 array full of 1\n",
    "print(Ones)"
   ]
  },
  {
   "cell_type": "code",
   "execution_count": null,
   "metadata": {},
   "outputs": [],
   "source": [
    "Ones + 2 #Add 2 to each element"
   ]
  },
  {
   "cell_type": "code",
   "execution_count": null,
   "metadata": {},
   "outputs": [],
   "source": [
    "Ones * 0.001 #Multiplicate 0.001 to each element"
   ]
  },
  {
   "cell_type": "markdown",
   "metadata": {},
   "source": [
    "## Matrix-Matrix multiplication"
   ]
  },
  {
   "cell_type": "markdown",
   "metadata": {},
   "source": [
    "Arrays can be multiplicated element-by-element...."
   ]
  },
  {
   "cell_type": "code",
   "execution_count": null,
   "metadata": {},
   "outputs": [],
   "source": [
    "Mat * Mat"
   ]
  },
  {
   "cell_type": "markdown",
   "metadata": {},
   "source": [
    "...or with a matrix-matrix multiplication:"
   ]
  },
  {
   "cell_type": "code",
   "execution_count": null,
   "metadata": {},
   "outputs": [],
   "source": [
    "print(np.matmul(Mat, Mat))"
   ]
  },
  {
   "cell_type": "code",
   "execution_count": null,
   "metadata": {},
   "outputs": [],
   "source": [
    "print(np.dot(Mat, Mat))"
   ]
  },
  {
   "cell_type": "markdown",
   "metadata": {},
   "source": [
    "## Transpose"
   ]
  },
  {
   "cell_type": "markdown",
   "metadata": {},
   "source": [
    "An array can be transposed with:"
   ]
  },
  {
   "cell_type": "code",
   "execution_count": null,
   "metadata": {},
   "outputs": [],
   "source": [
    "np.transpose(Mat)"
   ]
  },
  {
   "cell_type": "markdown",
   "metadata": {},
   "source": [
    "## Matplotlib - Visualize your results!"
   ]
  },
  {
   "cell_type": "markdown",
   "metadata": {},
   "source": [
    "**Matplotlib** contains a vast number of plotting functions to visualize plain numbers. It enables you to easily take a look at the course of a function or to create publication-ready images."
   ]
  },
  {
   "cell_type": "code",
   "execution_count": null,
   "metadata": {},
   "outputs": [],
   "source": [
    "import matplotlib.pyplot as plt #We will only use the pyplot part of the bigger matplotlib-library"
   ]
  },
  {
   "cell_type": "markdown",
   "metadata": {},
   "source": [
    "### Line plots"
   ]
  },
  {
   "cell_type": "markdown",
   "metadata": {},
   "source": [
    "An example of a quick sketch of the function:\n",
    "\n",
    "\\begin{align}\n",
    "f(x) = x^{2}\n",
    "\\end{align}\n",
    "\n",
    "can be found in the next code cells."
   ]
  },
  {
   "cell_type": "code",
   "execution_count": null,
   "metadata": {},
   "outputs": [],
   "source": [
    "#This is a example shows you how you can define a function in Python.\n",
    "\n",
    "#It starts with the \"def\" statement followed by the name of your function and a list of input arguments\n",
    "def funct(x):\n",
    "    \n",
    "    '''\n",
    "    A doc string can be used to document the input, code and output of your function:\n",
    "    \n",
    "    The function funct takes x as an input and returns its squared value\n",
    "    '''\n",
    "    \n",
    "    output = x ** 2 #Actual code\n",
    "    \n",
    "    return output #The \"return\" statment returns the calculated result\n"
   ]
  },
  {
   "cell_type": "code",
   "execution_count": null,
   "metadata": {},
   "outputs": [],
   "source": [
    "x = np.arange(-5, 5, 0.1) #np.arange returns an array containing numbers between -5 and 5 with a spacing of 0.1\n",
    "\n",
    "fx = funct(x) #Our defined function operates element-wise on the input array\n",
    "\n",
    "plt.plot(x, fx, color = 'green') #Plot our function\n",
    "\n",
    "#Add some labelling to the x- and y-axis\n",
    "plt.ylabel('fx')\n",
    "plt.xlabel('x')\n",
    "\n",
    "#Add some grid lines to the plot\n",
    "plt.grid(True)\n",
    "\n",
    "#Add a title\n",
    "plt.title('Quadratic Function!')"
   ]
  },
  {
   "cell_type": "markdown",
   "metadata": {},
   "source": [
    "We can make it even more complex if we add an second input to our previous function:"
   ]
  },
  {
   "cell_type": "markdown",
   "metadata": {},
   "source": [
    "<div class=\"alert alert-success\">\n",
    "\n",
    "<b>Try it yourself!</b>\n",
    "\n",
    "Re-write the function to take the order of the polynom as an input argument and plot the function with increasing order (1-10) in a single image!\n",
    "    \n",
    "</div>"
   ]
  },
  {
   "cell_type": "markdown",
   "metadata": {},
   "source": [
    "### Scatter plots"
   ]
  },
  {
   "cell_type": "markdown",
   "metadata": {},
   "source": [
    "Next to a simple line plot we can also make a scatterplot between two arrays:"
   ]
  },
  {
   "cell_type": "code",
   "execution_count": null,
   "metadata": {
    "scrolled": true
   },
   "outputs": [],
   "source": [
    "Array_1 = np.random.randn(100)\n",
    "Array_2 = np.random.randn(100)\n",
    "\n",
    "plt.scatter(Array_1, Array_2, marker = '^', color = 'red') #Call the scatter-plot function\n",
    "\n",
    "#Label the axes...\n",
    "plt.xlabel('Array_1')\n",
    "plt.ylabel('Array_2')\n",
    "\n",
    "#Add a title\n",
    "plt.title('This is a title!', fontweight = 'bold', fontsize = 20)\n",
    "\n",
    "#Add some grid lines to the plot\n",
    "plt.grid(True)"
   ]
  },
  {
   "cell_type": "markdown",
   "metadata": {},
   "source": [
    "<div class=\"alert alert-success\">\n",
    "\n",
    "<b>Try it yourself!</b>\n",
    "\n",
    "Load the data in 'Correlation.txt' and plot the **Per capita consumption of mozzerella cheese (Pounds)** against the **Civil engineering doctorates awarded (Numbers)** in the US between 2000 and 2009. You can use the **NumPy**-function np.loadtxt() for the exercise (Skip the first row since it contains only the heading of the data). Why should you **never** trust pure correlations?\n",
    "    \n",
    "Source: https://tylervigen.com/old-version.html\n",
    "</div>"
   ]
  },
  {
   "cell_type": "markdown",
   "metadata": {},
   "source": [
    "### Histograms"
   ]
  },
  {
   "cell_type": "markdown",
   "metadata": {},
   "source": [
    "Another important visualization tool are histograms! For a first try you can use the np.random.normal() function to generate 1000 samples from a standard normal distribution and plot the corresponding histogram."
   ]
  },
  {
   "cell_type": "code",
   "execution_count": null,
   "metadata": {},
   "outputs": [],
   "source": [
    "#NumPy enables us to sample from a large pool of different random distributions\n",
    "sample = np.random.normal(loc = 0, scale = 1, size = 1000)\n",
    "\n",
    "#The hist function allows you to plot the histogram of the sample array. \n",
    "ax = plt.hist(sample, bins = 50, density = True)\n",
    "ax = plt.title('This is a histogram!')\n",
    "ax = plt.ylabel('Probability density')\n",
    "ax = plt.xlabel('Sample interval')"
   ]
  },
  {
   "cell_type": "markdown",
   "metadata": {},
   "source": [
    "<div class=\"alert alert-success\">\n",
    "\n",
    "<b>Try it yourself!</b>\n",
    "\n",
    "Use the uniform distribution (U~(0,1)) and the inverse function of the exponential distribution (aka Quantile-Funtion) to generate random numbers from the distribution. Finally, display the empirical probability density function of your sample with plt.hist. Try different number of samples!\n",
    " \n",
    "</div>"
   ]
  },
  {
   "cell_type": "markdown",
   "metadata": {},
   "source": [
    "### Subplots"
   ]
  },
  {
   "cell_type": "markdown",
   "metadata": {},
   "source": [
    "Sometimes you want to display different plots in a figure. A simple solution would be the plt.subplot function of **Matplotlib** which has a slightly different user interface:"
   ]
  },
  {
   "cell_type": "code",
   "execution_count": null,
   "metadata": {},
   "outputs": [],
   "source": [
    "x = np.arange(-3 * np.pi, 3 * np.pi, 0.01) #Define a input array\n",
    "\n",
    "#For our dummy example we generate four different output arrays\n",
    "Im1 = np.sin(x)\n",
    "Im2 = np.cos(x)\n",
    "Im3 = np.tan(x)\n",
    "Im4 = np.cosh(x)"
   ]
  },
  {
   "cell_type": "code",
   "execution_count": null,
   "metadata": {},
   "outputs": [],
   "source": [
    "fig, ax = plt.subplots(2, 2, figsize = (10, 10)) #Let's start with the initialization of a figure object\n",
    "                                                 #The ax-variable is the entry point to the different subplots\n",
    "\n",
    "#Access the first subplot\n",
    "ax[0, 0].set_title('Sinus')\n",
    "ax[0, 0].plot(x, Im1, color = 'green', linewidth = 2.0)\n",
    "\n",
    "#Access the second subplot\n",
    "ax[0, 1].set_title('Cosinus')\n",
    "ax[0, 1].plot(x, Im2, color = 'magenta', linewidth = 3.0)\n",
    "\n",
    "#Access the third subplot\n",
    "ax[1, 0].set_title('Tangens')\n",
    "ax[1, 0].plot(x, Im3, color = 'orange', linewidth = 4.0)\n",
    "\n",
    "#Access the fourth subplot\n",
    "ax[1, 1].set_title('Cosh')\n",
    "ax[1, 1].plot(x, Im4, color = 'red', linewidth = 5.0)\n",
    "\n",
    "#The input argument linewidth allows you to increase the line thickness of the plots\n",
    "\n",
    "#You can also iterate over the different axes to reduce the amout of typing work\n",
    "for i in range(2):\n",
    "    for j in range(2):\n",
    "    \n",
    "        ax[i, j].set_ylabel('Y') #You must now use set_ylabel instead of ylabel to label our y-axis!\n",
    "        ax[i, j].set_ylabel('X')\n",
    "        \n",
    "plt.tight_layout() #Prevent the plots from overlapping"
   ]
  },
  {
   "cell_type": "markdown",
   "metadata": {},
   "source": [
    "# If you want to dive deeper:"
   ]
  },
  {
   "cell_type": "markdown",
   "metadata": {},
   "source": [
    "Weitere Informationen über Python finden sich auf folgenden Seite:\n",
    "\n",
    "* http://www.python.org\n",
    "* http://www.tutorialspoint.com/python\n",
    "* http://anh.cs.luc.edu/python/hands-on/3.1/handsonHtml/index.html\n",
    "* http://en.wikibooks.org/wiki/Python_Programming\n",
    "* http://en.wikibooks.org/wiki/Non-Programmer’s_Tutorial_for_Python_3\n",
    "* https://matplotlib.org/3.1.1/index.html\n",
    "* https://numpy.org/"
   ]
  },
  {
   "cell_type": "markdown",
   "metadata": {},
   "source": [
    "Images:\n",
    "\n",
    "* https://memegenerator.net/instance/83688030/hobbit-going-on-an-adventure-let-the-adventure-begin"
   ]
  }
 ],
 "metadata": {
  "kernelspec": {
   "display_name": "Python 3",
   "language": "python",
   "name": "python3"
  },
  "language_info": {
   "codemirror_mode": {
    "name": "ipython",
    "version": 3
   },
   "file_extension": ".py",
   "mimetype": "text/x-python",
   "name": "python",
   "nbconvert_exporter": "python",
   "pygments_lexer": "ipython3",
   "version": "3.8.5"
  }
 },
 "nbformat": 4,
 "nbformat_minor": 4
}

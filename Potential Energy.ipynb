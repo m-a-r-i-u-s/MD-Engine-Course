{
 "cells": [
  {
   "cell_type": "code",
   "execution_count": 1,
   "id": "03d32016",
   "metadata": {},
   "outputs": [],
   "source": [
    "import numpy as np\n",
    "import matplotlib.pyplot as plt\n",
    "from scipy import constants\n",
    "from tqdm import tqdm\n",
    "import numba\n",
    "import time"
   ]
  },
  {
   "cell_type": "markdown",
   "id": "b6976d21",
   "metadata": {},
   "source": [
    "# MD - Code"
   ]
  },
  {
   "cell_type": "code",
   "execution_count": 2,
   "id": "e38be013",
   "metadata": {},
   "outputs": [],
   "source": [
    "def init_pos(N, Grid, L):\n",
    "    \n",
    "    xmin = ymin = zmin = Grid\n",
    "    xmax = ymax = zmax = L\n",
    "    \n",
    "    X, Y, Z = np.mgrid[xmin:xmax:Grid, ymin:ymax:Grid, zmin:zmax:Grid]\n",
    "    positions = np.vstack([X.ravel(), Y.ravel(), Z.ravel()])\n",
    "    init = np.random.choice(len(positions.T), replace = False, size = N)\n",
    "    \n",
    "    return positions.T[init]\n",
    "\n",
    "def init_vel(N, SD, DIS):\n",
    "    \n",
    "    if DIS == 'normal':\n",
    "        assert SD > 0, 'STD should be > 0'\n",
    "        \n",
    "        return np.random.normal(size = (N, 3), loc = 0, scale = SD)\n",
    "    \n",
    "    if DIS == 'uniform':\n",
    "        \n",
    "        return np.random.uniform(size = (N, 3))\n",
    "    \n",
    "def init(N, Grid, L, SD, DIS):\n",
    "    \n",
    "    return init_pos(N, Grid, L), init_vel(N, SD, DIS)"
   ]
  },
  {
   "cell_type": "code",
   "execution_count": 3,
   "id": "bdab5f6c",
   "metadata": {},
   "outputs": [],
   "source": [
    "def write_file(FILE1, FILE2, FILE3, FILE4, coords, vels, PE, KE, n_iter, names):\n",
    "\n",
    "\n",
    "    #Coordinates are round to the second decimal position to faciliate saving\n",
    "    round_ = 2\n",
    "\n",
    "    #Write head for each frame12     \n",
    "    FILE1.write('Model {}\\n'.format(n_iter)) #Start of a frame\n",
    "    FILE2.write('Model {}\\n'.format(n_iter)) #Start of a frame\n",
    "    N = coords.shape[0]\n",
    "\n",
    "    #Just iterate over all coordinates and write them down line per line\n",
    "    for i in range(N):\n",
    "\n",
    "        #The PDB-formate is really strict the line below is from: https://cupnet.net/pdb-format/\n",
    "\n",
    "        #ATOM  #ID   #NAME     #RESN      #RESID          #X    #Y     #Z\n",
    "        coord_str = \"{:6s}{:5d} {:^4s}{:1s}{:3s} {:1s}{:4d}{:1s}   {:8.3f}{:8.3f}{:8.3f}{:6.2f}{:6.2f}          {:>2s}{:2s}\\n\".format('ATOM', int(i),\n",
    "                                                                                                                         'PAR', ' ', names[i],\n",
    "                                                                                                                         ' ', int(i), ' ',\n",
    "                                                                                                                         np.round(coords[i][0], round_)*10,\n",
    "                                                                                                                         np.round(coords[i][1], round_)*10,\n",
    "                                                                                                                         np.round(coords[i][2], round_)*10,\n",
    "                                                                                                                          1.0, 1.0, names[i], ' ')\n",
    "\n",
    "\n",
    "        FILE1.write(coord_str) #Write coordinates\n",
    "        FILE2.write('{}\\t\\t{}\\t\\t{}\\n'.format(vels[i][0], vels[i][1], vels[i][2])) #Write velocities\n",
    "    FILE1.write('TER\\nENDMDL\\n') #End of a frame\n",
    "\n",
    "    #Write down Temperature, Pressure and Volume\n",
    "    FILE3.write('{};{}\\n'.format(n_iter, PE))\n",
    "    FILE4.write('{};{}\\n'.format(n_iter, KE))\n",
    "                                                "
   ]
  },
  {
   "cell_type": "code",
   "execution_count": 14,
   "id": "4767e2e5",
   "metadata": {},
   "outputs": [],
   "source": [
    "@numba.jit(nopython = True, fastmath = True)\n",
    "def ideal_volume(T, N, P):\n",
    "    \n",
    "    return ((T * N * 1.38) / (P * 1E+1))**(1./3.)"
   ]
  },
  {
   "cell_type": "code",
   "execution_count": 4,
   "id": "216e399f",
   "metadata": {},
   "outputs": [],
   "source": [
    "@numba.jit(nopython = True, fastmath = True)\n",
    "def pbc_dist(r_ij, L):\n",
    "    \n",
    "    dist_vec = np.zeros(3)\n",
    "    \n",
    "    for i in range(3):\n",
    "        \n",
    "        abs_liste = np.array([r_ij[i], r_ij[i] + L, r_ij[i] - L])\n",
    "        argmin_abs = np.argmin(np.abs(abs_liste))\n",
    "        \n",
    "        dist_vec[i] = abs_liste[argmin_abs]\n",
    "        \n",
    "    dist = np.linalg.norm(dist_vec)\n",
    "        \n",
    "    return dist, dist_vec"
   ]
  },
  {
   "cell_type": "code",
   "execution_count": 5,
   "id": "3cdc81c4",
   "metadata": {},
   "outputs": [],
   "source": [
    "@numba.jit(nopython = True, fastmath = True)\n",
    "def pair_list(r, N, rc, L):\n",
    "    \n",
    "    pair_list_x = []\n",
    "    pair_list_y = []\n",
    "    \n",
    "    for i in range(0, N):\n",
    "        for j in range(i+1, N):\n",
    "            \n",
    "            diff_ij = r[i] - r[j]\n",
    "            \n",
    "            dr_ij, r_ij = pbc_dist(diff_ij, L)\n",
    "            \n",
    "            if dr_ij <= rc: \n",
    "                pair_list_x.append(i)\n",
    "                pair_list_y.append(j)\n",
    "                \n",
    "            else: pass\n",
    "    \n",
    "    return np.array([pair_list_x, pair_list_y], dtype = np.int32)"
   ]
  },
  {
   "cell_type": "code",
   "execution_count": 31,
   "id": "12e55e2c",
   "metadata": {},
   "outputs": [],
   "source": [
    "@numba.jit(nopython = True, fastmath = True)\n",
    "def kinetic(v, m):\n",
    "    \n",
    "    return 0.5 * np.sum(m * v**2)"
   ]
  },
  {
   "cell_type": "code",
   "execution_count": 16,
   "id": "05623029",
   "metadata": {},
   "outputs": [],
   "source": [
    "@numba.jit(nopython = True, fastmath = True)\n",
    "def pbc(r, v, L):\n",
    "    \n",
    "    r %= L\n",
    "    \n",
    "    mean = np.zeros(3)\n",
    "    counter = 0\n",
    "    for vec in v:\n",
    "        mean += vec\n",
    "        counter +=1\n",
    "    mean /= counter\n",
    "    v -= mean #np.mean(a = v, axis = 0)\n",
    "    \n",
    "    return r, v"
   ]
  },
  {
   "cell_type": "code",
   "execution_count": 28,
   "id": "1d0012f6",
   "metadata": {},
   "outputs": [],
   "source": [
    "@numba.jit(nopython = True, fastmath = True)\n",
    "def pressure(N, V, T, dV):\n",
    "    \n",
    "    NA = 6.02214086\n",
    "    \n",
    "    S1 = N * constants.R * 1E-3 * T\n",
    "    \n",
    "    S2 = 1.0/3.0 * dV\n",
    "\n",
    "    return (S1 + S2) * (1/V) * 1E+2 / NA\n",
    "\n",
    "@numba.jit(nopython = True, fastmath = True)\n",
    "def force(rdt, N, sig, eps, pair_mask, L, rc, T, idx_arr):\n",
    "    \n",
    "    f = np.zeros((N, 3))\n",
    "    \n",
    "    Vol = L * L * L\n",
    "    \n",
    "    dV_sum = 0\n",
    "    \n",
    "    pote = 0\n",
    "    \n",
    "    for pair in pair_mask.T:\n",
    "        \n",
    "        i, j = pair\n",
    "        k, l = idx_arr[i], idx_arr[j]\n",
    "            \n",
    "        diff_ij = rdt[i] - rdt[j]\n",
    "            \n",
    "        dr_ij, r_ij = pbc_dist(diff_ij, L)\n",
    "        \n",
    "        if dr_ij <= rc:\n",
    "            \n",
    "            dV = 48. * eps[k, l] * ((sig[k, l]**12)*(dr_ij**-13) - 0.5 *  (sig[k, l]**6)*(dr_ij**-7))\n",
    "        \n",
    "            f_ij = dV / dr_ij * r_ij\n",
    "\n",
    "            f[i] += f_ij\n",
    "            f[j] -= f_ij\n",
    "        \n",
    "            pote += 4. * eps[k, l] * ((sig[k, l]/dr_ij)**12 - (sig[k, l]/dr_ij)**6)\n",
    "            \n",
    "            dV_sum += dV * dr_ij\n",
    "            \n",
    "    p = pressure(N, Vol, T, dV_sum)\n",
    "    \n",
    "    return f, pote, p\n",
    "\n",
    "@numba.jit(nopython = True, fastmath = True)\n",
    "def velocity_verlet(r, v, f, m, eps, sig, dt, boundary, N, L, pair_list_update, rc, rb, step, pair_mask, T, IndexArray):\n",
    "    \n",
    "    rdt = r + dt * v + f * dt**2 / 2 / m\n",
    "\n",
    "    rdt, v = boundary(rdt, v, L)\n",
    "    \n",
    "    if not step % pair_list_update: pair_mask = pair_list(rdt, N, rb, L)\n",
    "    \n",
    "    fdt, pote, press = force(rdt, N, sig, eps, pair_mask, L, rc, T, IndexArray) \n",
    "    \n",
    "    vdt = v + dt * (f + fdt) / 2 / m\n",
    "    \n",
    "    return rdt, vdt, fdt, pote, pair_mask, press\n",
    "    \n",
    "    "
   ]
  },
  {
   "cell_type": "code",
   "execution_count": 42,
   "id": "5497ac79",
   "metadata": {},
   "outputs": [],
   "source": [
    "@numba.jit(nopython = True, fastmath = True)\n",
    "def temperature(v, m, N):\n",
    "    \n",
    "    return (1E+3 * np.sum(m * v**2)) / (3 * N * constants.R)\n",
    "\n",
    "@numba.jit(nopython = True, fastmath = True)\n",
    "def berendsen_thermostat(T0, T, dt, tau, v):\n",
    "    \n",
    "    v *= np.sqrt(1 + (dt/tau) * (T0/T - 1))\n",
    "    \n",
    "    return v\n",
    "\n",
    "@numba.jit(nopython = True, fastmath = True)\n",
    "def berendsen_barostat(P0, P, dt, beta, tau, L, r):\n",
    "    \n",
    "    mu = (1 + dt * beta * (P - P0) / tau)**(1./3.)\n",
    "    \n",
    "    L *= mu\n",
    "    r *= mu\n",
    "    \n",
    "    return L, r"
   ]
  },
  {
   "cell_type": "code",
   "execution_count": 43,
   "id": "9d64ea51",
   "metadata": {},
   "outputs": [],
   "source": [
    "def interaction_matrix(sig, eps):\n",
    "    \n",
    "    sig_matrix = np.zeros((len(sig), len(sig)))\n",
    "    eps_matrix = np.zeros((len(eps), len(eps)))\n",
    "    \n",
    "    for i in range(len(sig)):\n",
    "        for j in range(len(sig)):\n",
    "            \n",
    "            sig_matrix[i, j] = (sig[i] + sig[j]) / 2\n",
    "            eps_matrix[i, j] = np.sqrt((eps[i] * eps[j]))\n",
    "            \n",
    "    return sig_matrix, eps_matrix"
   ]
  },
  {
   "cell_type": "code",
   "execution_count": 45,
   "id": "bbae4cd2",
   "metadata": {},
   "outputs": [],
   "source": [
    "def main(n_steps, N, L, dt, v_static, p_static, TEMPS, TEMP0, PRESS0, init_random, boundary, update, pair_list_update, rc, rb, tauT, tauP, file1, file2, file3, file4, r_init = 0, v_init = 0, distri = 'normal', modL = 1., write_pdb = True):\n",
    "    \n",
    "    #Argon\n",
    "    #m = 39.948 #a.m.u.\n",
    "    #sig = 0.34\n",
    "    #eps = 1.0\n",
    "    \n",
    "    #Neon\n",
    "    #m = 20.180 #a.m.u.\n",
    "    #sig = 0.28\n",
    "    #eps = 0.3\n",
    "    \n",
    "    ##########################\n",
    "    #Define atomic parameters#\n",
    "    ##########################\n",
    "    \n",
    "    nam = np.array(['ARG', 'NEO'])\n",
    "    m = np.array([39.948, 20.180])\n",
    "    Sigma = np.array([0.34, 0.28])\n",
    "    Epsilon = np.array([1.0, 0.3])\n",
    "    \n",
    "    ##############################\n",
    "    #Calculate interaction matrix#\n",
    "    ##############################\n",
    "    \n",
    "    sig, eps = interaction_matrix(Sigma, Epsilon)\n",
    "    \n",
    "    #######################################\n",
    "    #Make index array for accessing values#\n",
    "    #######################################\n",
    "    \n",
    "    if type(N) == int: pass\n",
    "    \n",
    "    elif type(N) == list:\n",
    "        \n",
    "        TotalN = sum(N)\n",
    "        \n",
    "        IndexArray = np.zeros(TotalN, dtype = np.int32)\n",
    "        \n",
    "        N_CumSum = np.cumsum(N)\n",
    "        \n",
    "        for idx in N_CumSum: IndexArray[idx:]+=1\n",
    "            \n",
    "    m = m[IndexArray].reshape((-1, 1))\n",
    "    nam = nam[IndexArray]\n",
    "        \n",
    "    beta = 1.8*10**(-4)\n",
    "    \n",
    "    f1, f2, f3, f4 = open(file1, 'w'), open(file2, 'w'), open(file3, 'w'), open(file4, 'w')\n",
    "    \n",
    "    s = str('CRYST1'+ str(\"{:9.3f}{:9.3f}{:9.3f}\".format(L*10,L*10,L*10)) + \"  90.00  90.00  90.00 P 1           1\\n\")\n",
    "   # f1.write(s)\n",
    "    \n",
    "    if init_random: \n",
    "        \n",
    "        mass_mean = np.mean(m)\n",
    "        \n",
    "        sd = np.sqrt(constants.R * 0.001 * TEMPS / mass_mean)\n",
    "        r, v = init(TotalN, 0.5, L, sd, distri)\n",
    "        \n",
    "        if boundary == pbc: v -= np.mean(v, axis = 0)\n",
    "        \n",
    "    else:\n",
    "        \n",
    "        r = r_init\n",
    "        v = v_init\n",
    "        \n",
    "    kin_ener = np.zeros(int(n_steps / update))\n",
    "    pot_ener = np.zeros(int(n_steps / update))\n",
    "    temp = np.zeros(int(n_steps / update))\n",
    "    pressure = np.zeros(int(n_steps / update))\n",
    "    vel_store = np.zeros((int(n_steps / update), TotalN, 3))\n",
    "    volume = np.zeros(int(n_steps / update))\n",
    "    \n",
    "    T = temperature(v, m, TotalN)\n",
    "    pair_mask = pair_list(r, TotalN, rb, L)\n",
    "    f, pote, press = force(r, TotalN, sig, eps, pair_mask, L, rc, T, IndexArray)\n",
    "    \n",
    "    kine = kinetic(v, m)\n",
    "    \n",
    "    kin_ener[0] = kine\n",
    "    pot_ener[0] = pote\n",
    "    vel_store[0] = v\n",
    "    temp[0] = T\n",
    "    pressure[0] = press\n",
    "    volume[0] = L**3\n",
    "    \n",
    "    write_file(f1, f2, f3, f4, r, v, pote, kine, 0, nam)\n",
    "        \n",
    "    c = 1\n",
    "    \n",
    "    for step in tqdm(range(1, n_steps)):\n",
    "        \n",
    "        r, v, f, pote, pair_mask, press = velocity_verlet(r, v, f, m, eps, sig, dt, boundary, TotalN, L,\n",
    "                                                          pair_list_update, rc, rb, step, pair_mask, T,\n",
    "                                                          IndexArray)\n",
    "        \n",
    "        if v_static:\n",
    "            v = berendsen_thermostat(T0 = TEMP0, T = T, dt = dt, tau = tauT, v = v)\n",
    "            \n",
    "        if p_static:\n",
    "            L, r = berendsen_barostat(P0 = PRESS0, P = press, dt = dt, beta = beta, tau = tauP, L = L, r = r)\n",
    "        else:\n",
    "            L*=modL\n",
    "            r*=modL\n",
    "        \n",
    "        T = temperature(v, m, TotalN)\n",
    "        \n",
    "        \n",
    "        if not step % update: \n",
    "            \n",
    "            if write_pdb: write_file(f1, f2, f3, f4, r, v, pote, kine, step, nam)\n",
    "            \n",
    "            kine = kinetic(v, m)\n",
    "            \n",
    "            kin_ener[c] = kine\n",
    "            pot_ener[c] = pote\n",
    "            vel_store[c] = v\n",
    "            temp[c] = T\n",
    "            pressure[c] = press\n",
    "            volume[c] = L**3\n",
    "            \n",
    "            c+=1\n",
    "            \n",
    "    return kin_ener, pot_ener, vel_store, temp, pressure, volume"
   ]
  },
  {
   "cell_type": "code",
   "execution_count": 95,
   "id": "ce2881c4",
   "metadata": {},
   "outputs": [
    {
     "name": "stderr",
     "output_type": "stream",
     "text": [
      "100%|██████████| 499999/499999 [01:06<00:00, 7526.87it/s]\n"
     ]
    }
   ],
   "source": [
    "OUT = main(n_steps = 500000,\n",
    "           N = [1, 1],\n",
    "           L = 10, #ideal_volume(50, 200, 1),\n",
    "           r_init = np.array([[5., 5., 5.], [5., 5., 6.]]),\n",
    "           v_init = np.array([[0., 0., 0.], [0., 0., 0.]]),\n",
    "           dt = 1E-3,\n",
    "           TEMPS = 50,\n",
    "           TEMP0 = 50,\n",
    "           PRESS0 = 1.,\n",
    "           init_random = False,\n",
    "           boundary = pbc,\n",
    "           update = 10,\n",
    "           pair_list_update = 1,\n",
    "           rc = 1000.,\n",
    "           rb = 1500.,\n",
    "           file1 = 'ARG_NEO.pdb',\n",
    "           file2 = 'Vel_ARG_NEO.txt',\n",
    "           file3 = 'POTE_ARG_NEO.txt',\n",
    "           file4 = 'KINE_ARG_NEO.txt',\n",
    "           v_static = False,\n",
    "           p_static = False,\n",
    "           tauT = 1.0,\n",
    "           tauP = .1,\n",
    "           modL = 1,\n",
    "           write_pdb = True)"
   ]
  },
  {
   "cell_type": "code",
   "execution_count": 96,
   "id": "13c2fe8a",
   "metadata": {},
   "outputs": [],
   "source": [
    "PDBraw = np.loadtxt('ARG_NEO.pdb', comments = ['Model', 'TER', 'ENDMDL'], dtype = str)"
   ]
  },
  {
   "cell_type": "code",
   "execution_count": 97,
   "id": "94868949",
   "metadata": {},
   "outputs": [],
   "source": [
    "PDB = PDBraw.reshape((50000, 2, 11))"
   ]
  },
  {
   "cell_type": "code",
   "execution_count": 98,
   "id": "832119fc",
   "metadata": {},
   "outputs": [],
   "source": [
    "coords = np.array(PDB[:, :, 5:8], dtype = float) / 10"
   ]
  },
  {
   "cell_type": "code",
   "execution_count": 99,
   "id": "22544589",
   "metadata": {},
   "outputs": [],
   "source": [
    "dist = np.sqrt(np.sum((coords[:, 0, :] - coords[:, 1, :])**2, axis = 1))"
   ]
  },
  {
   "cell_type": "code",
   "execution_count": 106,
   "id": "d90e8289",
   "metadata": {},
   "outputs": [],
   "source": [
    "sig_argon_neon = (0.34 + 0.28)/2\n",
    "eps_argon_neon = (1.0 * 0.3)**(1/2)"
   ]
  },
  {
   "cell_type": "code",
   "execution_count": 105,
   "id": "654a8223",
   "metadata": {},
   "outputs": [],
   "source": [
    "def len_jon(sig, eps, dist):\n",
    "    \n",
    "    return 4. * eps * ((sig/dist)**12 - (sig/dist)**6)"
   ]
  },
  {
   "cell_type": "code",
   "execution_count": 112,
   "id": "25601455",
   "metadata": {},
   "outputs": [],
   "source": [
    "d = np.linspace(0.32, 1.0, 1000)"
   ]
  },
  {
   "cell_type": "code",
   "execution_count": 116,
   "id": "9095f826",
   "metadata": {},
   "outputs": [
    {
     "data": {
      "text/plain": [
       "(-1.1, 0.5)"
      ]
     },
     "execution_count": 116,
     "metadata": {},
     "output_type": "execute_result"
    },
    {
     "data": {
      "image/png": "[encoded data removed]",
      "text/plain": [
       "<Figure size 432x288 with 1 Axes>"
      ]
     },
     "metadata": {
      "needs_background": "light"
     },
     "output_type": "display_data"
    }
   ],
   "source": [
    "plt.plot(dist, OUT[1])\n",
    "plt.plot(d, len_jon(sig_argon_neon, eps_argon_neon, d))\n",
    "plt.plot(d, len_jon(sig_argon_neon, eps_argon_neon, d))\n",
    "plt.plot(d, len_jon(0.34, 1.0, d))\n",
    "plt.plot(d, len_jon(0.28, 0.3, d))\n",
    "plt.ylim(-1.1, 0.5)"
   ]
  },
  {
   "cell_type": "code",
   "execution_count": 60,
   "id": "6e7f4454",
   "metadata": {
    "scrolled": true
   },
   "outputs": [
    {
     "data": {
      "text/plain": [
       "(array([ 10.,  10.,  39., 123., 176., 139.,  72.,  23.,   7.,   1.]),\n",
       " array([-0.41346107, -0.32541233, -0.23736359, -0.14931485, -0.0612661 ,\n",
       "         0.02678264,  0.11483138,  0.20288012,  0.29092886,  0.3789776 ,\n",
       "         0.46702634]),\n",
       " <BarContainer object of 10 artists>)"
      ]
     },
     "execution_count": 60,
     "metadata": {},
     "output_type": "execute_result"
    },
    {
     "data": {
      "image/png": "[encoded data removed]",
      "text/plain": [
       "<Figure size 432x288 with 1 Axes>"
      ]
     },
     "metadata": {
      "needs_background": "light"
     },
     "output_type": "display_data"
    }
   ],
   "source": [
    "plt.hist(OUT[2][-1, :, :].flatten())"
   ]
  },
  {
   "cell_type": "code",
   "execution_count": 53,
   "id": "c2990430",
   "metadata": {},
   "outputs": [
    {
     "data": {
      "text/plain": [
       "[<matplotlib.lines.Line2D at 0x7fcb0cf604c0>]"
      ]
     },
     "execution_count": 53,
     "metadata": {},
     "output_type": "execute_result"
    },
    {
     "data": {
      "image/png": "[encoded data removed]",
      "text/plain": [
       "<Figure size 432x288 with 1 Axes>"
      ]
     },
     "metadata": {
      "needs_background": "light"
     },
     "output_type": "display_data"
    }
   ],
   "source": [
    "plt.plot(OUT[3])"
   ]
  },
  {
   "cell_type": "code",
   "execution_count": 54,
   "id": "739665be",
   "metadata": {},
   "outputs": [
    {
     "data": {
      "text/plain": [
       "[<matplotlib.lines.Line2D at 0x7fcb0d04a370>]"
      ]
     },
     "execution_count": 54,
     "metadata": {},
     "output_type": "execute_result"
    },
    {
     "data": {
      "image/png": "[encoded data removed]",
      "text/plain": [
       "<Figure size 432x288 with 1 Axes>"
      ]
     },
     "metadata": {
      "needs_background": "light"
     },
     "output_type": "display_data"
    }
   ],
   "source": [
    "plt.plot(OUT[4])"
   ]
  },
  {
   "cell_type": "code",
   "execution_count": 56,
   "id": "5a0b3c1e",
   "metadata": {},
   "outputs": [
    {
     "data": {
      "text/plain": [
       "[<matplotlib.lines.Line2D at 0x7fcb0d45d430>]"
      ]
     },
     "execution_count": 56,
     "metadata": {},
     "output_type": "execute_result"
    },
    {
     "data": {
      "image/png": "[encoded data removed]",
      "text/plain": [
       "<Figure size 432x288 with 1 Axes>"
      ]
     },
     "metadata": {
      "needs_background": "light"
     },
     "output_type": "display_data"
    }
   ],
   "source": [
    "plt.plot(OUT[5])"
   ]
  }
 ],
 "metadata": {
  "kernelspec": {
   "display_name": "Python 3",
   "language": "python",
   "name": "python3"
  },
  "language_info": {
   "codemirror_mode": {
    "name": "ipython",
    "version": 3
   },
   "file_extension": ".py",
   "mimetype": "text/x-python",
   "name": "python",
   "nbconvert_exporter": "python",
   "pygments_lexer": "ipython3",
   "version": "3.8.5"
  }
 },
 "nbformat": 4,
 "nbformat_minor": 5
}

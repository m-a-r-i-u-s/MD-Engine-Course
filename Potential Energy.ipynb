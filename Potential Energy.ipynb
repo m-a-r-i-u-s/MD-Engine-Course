{
 "cells": [
  {
   "cell_type": "code",
   "execution_count": 149,
   "id": "2e8352a8",
   "metadata": {},
   "outputs": [],
   "source": [
    "import numpy as np\n",
    "import matplotlib.pyplot as plt\n",
    "from scipy import constants\n",
    "from tqdm import tqdm\n",
    "import numba\n",
    "import time"
   ]
  },
  {
   "cell_type": "markdown",
   "id": "58070db6",
   "metadata": {},
   "source": [
    "# Introduction to NUMBA"
   ]
  },
  {
   "cell_type": "markdown",
   "id": "51a1cfb1",
   "metadata": {},
   "source": [
    "## What is NUMBA? "
   ]
  },
  {
   "cell_type": "markdown",
   "id": "1f447240",
   "metadata": {},
   "source": [
    "NUMBA is a just-in-time compiler (JIT) to translate code written in Python into **optimized** machine code! It replaces thereby the slower Python interpreter to modify and compile your code. An huge advantage of NUMBA is its\n",
    "compatibility with for-loops *and* with numpy functions! Our trade-off between manual code modifications and performance gain should be therefore minimal."
   ]
  },
  {
   "cell_type": "markdown",
   "id": "bc505e7e",
   "metadata": {},
   "source": [
    "## Gimme speed!!!"
   ]
  },
  {
   "cell_type": "code",
   "execution_count": 150,
   "id": "ce755c68-0322-495c-8207-749074c32764",
   "metadata": {},
   "outputs": [],
   "source": [
    "def example(pos):\n",
    "    \n",
    "    N = len(pos)\n",
    "    distances = np.zeros(N)\n",
    "    \n",
    "    i = 0\n",
    "    \n",
    "    for r1 in pos:\n",
    "        for r2 in pos:\n",
    "            \n",
    "            distances[i] = np.sqrt(np.sum((r1-r2)**2))\n",
    "            \n",
    "    return 'Success'"
   ]
  },
  {
   "cell_type": "code",
   "execution_count": 151,
   "id": "ebed6db1-4d5d-48da-bdf9-c67c9cb77c42",
   "metadata": {},
   "outputs": [],
   "source": [
    "@numba.jit(nopython = True, fastmath = True)\n",
    "def example_with_numba(pos):\n",
    "    \n",
    "    N = len(pos)\n",
    "    distances = np.zeros(N)\n",
    "    \n",
    "    i = 0\n",
    "    \n",
    "    for r1 in pos:\n",
    "        for r2 in pos:\n",
    "            \n",
    "            distances[i] = np.sqrt(np.sum((r1-r2)**2))\n",
    "            \n",
    "    return 'Success'"
   ]
  },
  {
   "cell_type": "code",
   "execution_count": 152,
   "id": "a7a5e9a5-7d30-4b53-849e-d5c3e57169d5",
   "metadata": {},
   "outputs": [],
   "source": [
    "POS = np.random.randn(200, 3)"
   ]
  },
  {
   "cell_type": "code",
   "execution_count": 153,
   "id": "ecc6bebb-c77e-4d07-acd5-af433c7e3b2a",
   "metadata": {},
   "outputs": [
    {
     "name": "stdout",
     "output_type": "stream",
     "text": [
      "348 ms ± 1.12 ms per loop (mean ± std. dev. of 7 runs, 1 loop each)\n"
     ]
    }
   ],
   "source": [
    "%timeit example(POS)"
   ]
  },
  {
   "cell_type": "code",
   "execution_count": 154,
   "id": "f18a3a74-dd7d-4772-bfd4-8701133388c5",
   "metadata": {},
   "outputs": [
    {
     "name": "stdout",
     "output_type": "stream",
     "text": [
      "2.96 ms ± 48.4 µs per loop (mean ± std. dev. of 7 runs, 1 loop each)\n"
     ]
    }
   ],
   "source": [
    "%timeit example_with_numba(POS)"
   ]
  },
  {
   "cell_type": "code",
   "execution_count": 155,
   "id": "bf30c783-1228-4276-9d85-e7282ba738e6",
   "metadata": {},
   "outputs": [],
   "source": [
    "#Caveat 1 - First compilation!"
   ]
  },
  {
   "cell_type": "code",
   "execution_count": 156,
   "id": "f4bef3fc-1952-4df2-ab75-c5591fb15179",
   "metadata": {},
   "outputs": [
    {
     "name": "stdout",
     "output_type": "stream",
     "text": [
      "First compilation: 0.15744447708129883\n",
      "Second compilation: 0.0030133724212646484\n"
     ]
    }
   ],
   "source": [
    "try: del example_with_numba_caveat\n",
    "except: pass\n",
    "\n",
    "@numba.jit(nopython = True, fastmath = True)\n",
    "def example_with_numba_caveat(pos):\n",
    "    \n",
    "    N = len(pos)\n",
    "    distances = np.zeros(N)\n",
    "    \n",
    "    i = 0\n",
    "    \n",
    "    for r1 in pos:\n",
    "        for r2 in pos:\n",
    "            \n",
    "            distances[i] = np.sqrt(np.sum((r1-r2)**2))\n",
    "            \n",
    "    return 'Success'\n",
    "\n",
    "POS = np.random.randn(200, 3)\n",
    "start_time = time.time()\n",
    "example_with_numba_caveat(POS)\n",
    "print('First compilation:', time.time() - start_time)\n",
    "start_time = time.time()\n",
    "example_with_numba_caveat(POS)\n",
    "print('Second compilation:', time.time() - start_time)"
   ]
  },
  {
   "cell_type": "code",
   "execution_count": 157,
   "id": "42650e38-d338-4c15-a781-ad52e1538079",
   "metadata": {},
   "outputs": [],
   "source": [
    "#Caveat 2 - Cryptic Errors!"
   ]
  },
  {
   "cell_type": "code",
   "execution_count": 158,
   "id": "04e71746-5567-42f8-aec3-fa8b0134326a",
   "metadata": {},
   "outputs": [],
   "source": [
    "@numba.jit(nopython = True, fastmath = True)\n",
    "def example_with_numba_caveat_2(pos):\n",
    "    \n",
    "    Mean = np.mean(pos, axis = 0)\n",
    "            \n",
    "    return Mean"
   ]
  },
  {
   "cell_type": "code",
   "execution_count": 159,
   "id": "904633a7-b24e-4600-b809-0c6eb45c733c",
   "metadata": {},
   "outputs": [
    {
     "ename": "TypingError",
     "evalue": "Failed in nopython mode pipeline (step: nopython frontend)\nNo implementation of function Function(<function mean at 0x7fd6680a1ee0>) found for signature:\n \n >>> mean(array(float64, 2d, C), axis=Literal[int](0))\n \nThere are 2 candidate implementations:\n  - Of which 2 did not match due to:\n  Overload in function 'Numpy_method_redirection.generic': File: numba/core/typing/npydecl.py: Line 348.\n    With argument(s): '(array(float64, 2d, C), axis=Literal[int](0))':\n   Rejected as the implementation raised a specific error:\n     TypingError: numba doesn't support kwarg for mean\n  raised from /home/rrzelinuxhome/xy35beqy/.conda/envs/MD-Engine/lib/python3.9/site-packages/numba/core/typing/npydecl.py:370\n\nDuring: resolving callee type: Function(<function mean at 0x7fd6680a1ee0>)\nDuring: typing of call at <ipython-input-158-7c0cca029ba5> (4)\n\n\nFile \"<ipython-input-158-7c0cca029ba5>\", line 4:\ndef example_with_numba_caveat_2(pos):\n    <source elided>\n    \n    Mean = np.mean(pos, axis = 0)\n    ^\n",
     "output_type": "error",
     "traceback": [
      "\u001b[0;31m---------------------------------------------------------------------------\u001b[0m",
      "\u001b[0;31mTypingError\u001b[0m                               Traceback (most recent call last)",
      "\u001b[0;32m<ipython-input-159-9d107f20d117>\u001b[0m in \u001b[0;36m<module>\u001b[0;34m\u001b[0m\n\u001b[1;32m      1\u001b[0m \u001b[0mPOS\u001b[0m \u001b[0;34m=\u001b[0m \u001b[0mnp\u001b[0m\u001b[0;34m.\u001b[0m\u001b[0mrandom\u001b[0m\u001b[0;34m.\u001b[0m\u001b[0mrandn\u001b[0m\u001b[0;34m(\u001b[0m\u001b[0;36m200\u001b[0m\u001b[0;34m,\u001b[0m \u001b[0;36m3\u001b[0m\u001b[0;34m)\u001b[0m\u001b[0;34m\u001b[0m\u001b[0;34m\u001b[0m\u001b[0m\n\u001b[0;32m----> 2\u001b[0;31m \u001b[0mexample_with_numba_caveat_2\u001b[0m\u001b[0;34m(\u001b[0m\u001b[0mPOS\u001b[0m\u001b[0;34m)\u001b[0m\u001b[0;34m\u001b[0m\u001b[0;34m\u001b[0m\u001b[0m\n\u001b[0m",
      "\u001b[0;32m~/.conda/envs/MD-Engine/lib/python3.9/site-packages/numba/core/dispatcher.py\u001b[0m in \u001b[0;36m_compile_for_args\u001b[0;34m(self, *args, **kws)\u001b[0m\n\u001b[1;32m    418\u001b[0m                 \u001b[0me\u001b[0m\u001b[0;34m.\u001b[0m\u001b[0mpatch_message\u001b[0m\u001b[0;34m(\u001b[0m\u001b[0mmsg\u001b[0m\u001b[0;34m)\u001b[0m\u001b[0;34m\u001b[0m\u001b[0;34m\u001b[0m\u001b[0m\n\u001b[1;32m    419\u001b[0m \u001b[0;34m\u001b[0m\u001b[0m\n\u001b[0;32m--> 420\u001b[0;31m             \u001b[0merror_rewrite\u001b[0m\u001b[0;34m(\u001b[0m\u001b[0me\u001b[0m\u001b[0;34m,\u001b[0m \u001b[0;34m'typing'\u001b[0m\u001b[0;34m)\u001b[0m\u001b[0;34m\u001b[0m\u001b[0;34m\u001b[0m\u001b[0m\n\u001b[0m\u001b[1;32m    421\u001b[0m         \u001b[0;32mexcept\u001b[0m \u001b[0merrors\u001b[0m\u001b[0;34m.\u001b[0m\u001b[0mUnsupportedError\u001b[0m \u001b[0;32mas\u001b[0m \u001b[0me\u001b[0m\u001b[0;34m:\u001b[0m\u001b[0;34m\u001b[0m\u001b[0;34m\u001b[0m\u001b[0m\n\u001b[1;32m    422\u001b[0m             \u001b[0;31m# Something unsupported is present in the user code, add help info\u001b[0m\u001b[0;34m\u001b[0m\u001b[0;34m\u001b[0m\u001b[0;34m\u001b[0m\u001b[0m\n",
      "\u001b[0;32m~/.conda/envs/MD-Engine/lib/python3.9/site-packages/numba/core/dispatcher.py\u001b[0m in \u001b[0;36merror_rewrite\u001b[0;34m(e, issue_type)\u001b[0m\n\u001b[1;32m    359\u001b[0m                 \u001b[0;32mraise\u001b[0m \u001b[0me\u001b[0m\u001b[0;34m\u001b[0m\u001b[0;34m\u001b[0m\u001b[0m\n\u001b[1;32m    360\u001b[0m             \u001b[0;32melse\u001b[0m\u001b[0;34m:\u001b[0m\u001b[0;34m\u001b[0m\u001b[0;34m\u001b[0m\u001b[0m\n\u001b[0;32m--> 361\u001b[0;31m                 \u001b[0;32mraise\u001b[0m \u001b[0me\u001b[0m\u001b[0;34m.\u001b[0m\u001b[0mwith_traceback\u001b[0m\u001b[0;34m(\u001b[0m\u001b[0;32mNone\u001b[0m\u001b[0;34m)\u001b[0m\u001b[0;34m\u001b[0m\u001b[0;34m\u001b[0m\u001b[0m\n\u001b[0m\u001b[1;32m    362\u001b[0m \u001b[0;34m\u001b[0m\u001b[0m\n\u001b[1;32m    363\u001b[0m         \u001b[0margtypes\u001b[0m \u001b[0;34m=\u001b[0m \u001b[0;34m[\u001b[0m\u001b[0;34m]\u001b[0m\u001b[0;34m\u001b[0m\u001b[0;34m\u001b[0m\u001b[0m\n",
      "\u001b[0;31mTypingError\u001b[0m: Failed in nopython mode pipeline (step: nopython frontend)\nNo implementation of function Function(<function mean at 0x7fd6680a1ee0>) found for signature:\n \n >>> mean(array(float64, 2d, C), axis=Literal[int](0))\n \nThere are 2 candidate implementations:\n  - Of which 2 did not match due to:\n  Overload in function 'Numpy_method_redirection.generic': File: numba/core/typing/npydecl.py: Line 348.\n    With argument(s): '(array(float64, 2d, C), axis=Literal[int](0))':\n   Rejected as the implementation raised a specific error:\n     TypingError: numba doesn't support kwarg for mean\n  raised from /home/rrzelinuxhome/xy35beqy/.conda/envs/MD-Engine/lib/python3.9/site-packages/numba/core/typing/npydecl.py:370\n\nDuring: resolving callee type: Function(<function mean at 0x7fd6680a1ee0>)\nDuring: typing of call at <ipython-input-158-7c0cca029ba5> (4)\n\n\nFile \"<ipython-input-158-7c0cca029ba5>\", line 4:\ndef example_with_numba_caveat_2(pos):\n    <source elided>\n    \n    Mean = np.mean(pos, axis = 0)\n    ^\n"
     ]
    }
   ],
   "source": [
    "POS = np.random.randn(200, 3)\n",
    "example_with_numba_caveat_2(POS)"
   ]
  },
  {
   "cell_type": "markdown",
   "id": "bbea0239",
   "metadata": {},
   "source": [
    "# MD - Code"
   ]
  },
  {
   "cell_type": "code",
   "execution_count": null,
   "id": "8bba1d67-e22a-4806-acf4-7e32bf6a11bf",
   "metadata": {},
   "outputs": [],
   "source": [
    "def init_pos(N, Grid, L):\n",
    "    \n",
    "    xmin = ymin = zmin = Grid\n",
    "    xmax = ymax = zmax = L\n",
    "    \n",
    "    X, Y, Z = np.mgrid[xmin:xmax:Grid, ymin:ymax:Grid, zmin:zmax:Grid]\n",
    "    positions = np.vstack([X.ravel(), Y.ravel(), Z.ravel()])\n",
    "    init = np.random.choice(len(positions.T), replace = False, size = N)\n",
    "    \n",
    "    return positions.T[init]\n",
    "\n",
    "def init_vel(N, SD, DIS):\n",
    "    \n",
    "    if DIS == 'normal':\n",
    "        assert SD > 0, 'STD should be > 0'\n",
    "        \n",
    "        return np.random.normal(size = (N, 3), loc = 0, scale = SD)\n",
    "    \n",
    "    if DIS == 'uniform':\n",
    "        \n",
    "        return np.random.uniform(size = (N, 3))\n",
    "    \n",
    "def init(N, Grid, L, SD, DIS):\n",
    "    \n",
    "    return init_pos(N, Grid, L), init_vel(N, SD, DIS)"
   ]
  },
  {
   "cell_type": "code",
   "execution_count": null,
   "id": "8435b13e",
   "metadata": {},
   "outputs": [],
   "source": [
    "def write_file(FILE1, FILE2, FILE3, FILE4, coords, vels, PE, KE, n_iter):\n",
    "\n",
    "\n",
    "    #Coordinates are round to the second decimal position to faciliate saving\n",
    "    round_ = 2\n",
    "\n",
    "    #Write head for each frame12     \n",
    "    FILE1.write('Model {}\\n'.format(n_iter)) #Start of a frame\n",
    "    FILE2.write('Model {}\\n'.format(n_iter)) #Start of a frame\n",
    "    N = coords.shape[0]\n",
    "\n",
    "    #Just iterate over all coordinates and write them down line per line\n",
    "    for i in range(N):\n",
    "\n",
    "        #The PDB-formate is really strict the line below is from: https://cupnet.net/pdb-format/\n",
    "\n",
    "        #ATOM  #ID   #NAME     #RESN      #RESID          #X    #Y     #Z\n",
    "        coord_str = \"{:6s}{:5d} {:^4s}{:1s}{:3s} {:1s}{:4d}{:1s}   {:8.3f}{:8.3f}{:8.3f}{:6.2f}{:6.2f}          {:>2s}{:2s}\\n\".format('ATOM', int(i),\n",
    "                                                                                                                         'PAR', ' ', 'ARG',\n",
    "                                                                                                                         ' ', int(i), ' ',\n",
    "                                                                                                                         np.round(coords[i][0], round_)*10,\n",
    "                                                                                                                         np.round(coords[i][1], round_)*10,\n",
    "                                                                                                                         np.round(coords[i][2], round_)*10,\n",
    "                                                                                                                          1.0, 1.0, 'ARG', ' ')\n",
    "\n",
    "\n",
    "        FILE1.write(coord_str) #Write coordinates\n",
    "        FILE2.write('{}\\t\\t{}\\t\\t{}\\n'.format(vels[i][0], vels[i][1], vels[i][2])) #Write velocities\n",
    "    FILE1.write('TER\\nENDMDL\\n') #End of a frame\n",
    "\n",
    "    #Write down Temperature, Pressure and Volume\n",
    "    FILE3.write('{};{}\\n'.format(n_iter, PE))\n",
    "    FILE4.write('{};{}\\n'.format(n_iter, KE))\n",
    "                                                "
   ]
  },
  {
   "cell_type": "code",
   "execution_count": null,
   "id": "f93467a6",
   "metadata": {},
   "outputs": [],
   "source": [
    "@numba.jit(nopython = True, fastmath = True)\n",
    "def pbc_dist(r_ij, L):\n",
    "    \n",
    "    dist_vec = np.zeros(3)\n",
    "    \n",
    "    for i in range(3):\n",
    "        \n",
    "        abs_liste = np.array([r_ij[i], r_ij[i] + L, r_ij[i] - L])\n",
    "        argmin_abs = np.argmin(np.abs(abs_liste))\n",
    "        \n",
    "        dist_vec[i] = abs_liste[argmin_abs]\n",
    "        \n",
    "    dist = np.linalg.norm(dist_vec)\n",
    "        \n",
    "    return dist, dist_vec"
   ]
  },
  {
   "cell_type": "code",
   "execution_count": null,
   "id": "7320a999",
   "metadata": {},
   "outputs": [],
   "source": [
    "@numba.jit(nopython = True, fastmath = True)\n",
    "def pair_list(r, N, rc, L):\n",
    "    \n",
    "    pair_list_x = []\n",
    "    pair_list_y = []\n",
    "    \n",
    "    for i in range(0, N):\n",
    "        for j in range(i+1, N):\n",
    "            \n",
    "            diff_ij = r[i] - r[j]\n",
    "            \n",
    "            dr_ij, r_ij = pbc_dist(diff_ij, L)\n",
    "            \n",
    "            if dr_ij <= rc: \n",
    "                pair_list_x.append(i)\n",
    "                pair_list_y.append(j)\n",
    "                \n",
    "            else: pass\n",
    "    \n",
    "    return np.array([pair_list_x, pair_list_y], dtype = np.int32)"
   ]
  },
  {
   "cell_type": "code",
   "execution_count": null,
   "id": "79a8ed25",
   "metadata": {},
   "outputs": [],
   "source": [
    "@numba.jit(nopython = True, fastmath = True)\n",
    "def kinetic(v, m):\n",
    "    \n",
    "    return 0.5 * m * np.sum(v**2)"
   ]
  },
  {
   "cell_type": "code",
   "execution_count": null,
   "id": "976edd5c-f7f3-4468-9a56-90ee12841c5b",
   "metadata": {},
   "outputs": [],
   "source": [
    "#@numba.jit(nopython = True, fastmath = True)\n",
    "#def pbc(r, v, L):\n",
    "#    r %= L\n",
    "#    v -= np.mean(a = v, axis = 0)   \n",
    "#    return r, v\n",
    "\n",
    "@numba.jit(nopython = True, fastmath = True)\n",
    "def pbc(r, v, L):\n",
    "    \n",
    "    r %= L\n",
    "    \n",
    "    mean = np.zeros(3)\n",
    "    counter = 0\n",
    "    for vec in v:\n",
    "        mean += vec\n",
    "        counter +=1\n",
    "    mean /= counter\n",
    "    v -= mean #np.mean(a = v, axis = 0)\n",
    "    \n",
    "    return r, v"
   ]
  },
  {
   "cell_type": "code",
   "execution_count": null,
   "id": "3d1c6777",
   "metadata": {},
   "outputs": [],
   "source": [
    "@numba.jit(nopython = True, fastmath = True)\n",
    "def pressure(N, V, T, dV):\n",
    "    \n",
    "    NA = 6.02214086\n",
    "    \n",
    "    S1 = N * constants.R * 1E-3 * T\n",
    "    \n",
    "    S2 = 1.0/3.0 * dV\n",
    "    \n",
    "  #  print('Ideal part:', S1, 'Real part:', S2)\n",
    "    \n",
    "    return (S1 + S2) * (1/V) * 1E+2 / NA\n",
    "\n",
    "@numba.jit(nopython = True, fastmath = True)\n",
    "def force(rdt, N, sig, eps, pair_mask, L, rc, T):\n",
    "    \n",
    "    f = np.zeros((N, 3))\n",
    "    \n",
    "    Vol = L * L * L\n",
    "    \n",
    "    dV_sum = 0\n",
    "    \n",
    "    pote = 0\n",
    "    \n",
    "    for pair in pair_mask.T:\n",
    "        \n",
    "        i, j = pair\n",
    "            \n",
    "        diff_ij = rdt[i] - rdt[j]\n",
    "            \n",
    "        dr_ij, r_ij = pbc_dist(diff_ij, L)\n",
    "        \n",
    "        if dr_ij <= rc:\n",
    "            \n",
    "            dV = 48. * eps * ((sig**12)*(dr_ij**-13) - 0.5 *  (sig**6)*(dr_ij**-7))\n",
    "        \n",
    "            f_ij = dV / dr_ij * r_ij\n",
    "\n",
    "            f[i] += f_ij\n",
    "            f[j] -= f_ij\n",
    "        \n",
    "            pote += 4. * eps * ((sig/dr_ij)**12 - (sig/dr_ij)**6)\n",
    "            \n",
    "            dV_sum += dV * dr_ij\n",
    "            \n",
    "    p = pressure(N, Vol, T, dV_sum)\n",
    "    \n",
    "    return f, pote, p\n",
    "\n",
    "@numba.jit(nopython = True, fastmath = True)\n",
    "def velocity_verlet(r, v, f, m, eps, sig, dt, boundary, N, L, pair_list_update, rc, rb, step, pair_mask, T):\n",
    "    \n",
    "    rdt = r + dt * v + f * dt**2 / 2 / m\n",
    "\n",
    "    rdt, v = boundary(rdt, v, L)\n",
    "    \n",
    "    if not step % pair_list_update: pair_mask = pair_list(rdt, N, rb, L)\n",
    "    \n",
    "    fdt, pote, press = force(rdt, N, sig, eps, pair_mask, L, rc, T) \n",
    "    \n",
    "    vdt = v + dt * (f + fdt) / 2 / m\n",
    "    \n",
    "    return rdt, vdt, fdt, pote, pair_mask, press\n",
    "    \n",
    "    "
   ]
  },
  {
   "cell_type": "code",
   "execution_count": 160,
   "id": "0295fa02-4535-435e-8ea0-431e598da409",
   "metadata": {},
   "outputs": [],
   "source": [
    "@numba.jit(nopython = True, fastmath = True)\n",
    "def temperature(v, m, N):\n",
    "    \n",
    "    return (m * 1E+3 * np.sum(v**2)) / (3 * N * constants.R)\n",
    "\n",
    "@numba.jit(nopython = True, fastmath = True)\n",
    "def berendsen_thermostat(T0, T, dt, tau, v):\n",
    "    \n",
    "    v *= np.sqrt(1 + (dt/tau) * (T0/T - 1))\n",
    "    \n",
    "    return v\n",
    "\n",
    "@numba.jit(nopython = True, fastmath = True)\n",
    "def berendsen_barostat(P0, P, dt, beta, tau, L, r):\n",
    "    \n",
    "    mu = (1 + dt * beta * (P - P0) / tau)**(1./3.)\n",
    "    \n",
    "    L *= mu\n",
    "    r *= mu\n",
    "    \n",
    "    return L, r"
   ]
  },
  {
   "cell_type": "code",
   "execution_count": 161,
   "id": "32d9d202",
   "metadata": {},
   "outputs": [],
   "source": [
    "def main(n_steps, N, L, dt, static, TEMPS, TEMP0, PRESS0, init_random, boundary, update, pair_list_update, rc, rb, tauT, tauP, file1, file2, file3, file4, r_init = 0, v_init = 0, distri = 'normal'):\n",
    "    \n",
    "    m = 39.948 #a.m.u.\n",
    "    sig = 0.34\n",
    "    eps = 1.0\n",
    "    beta = 1.8*10**(-4)\n",
    "    \n",
    "   # f1, f2, f3, f4 = open(file1, 'w'), open(file2, 'w'), open(file3, 'w'), open(file4, 'w')\n",
    "    \n",
    "    s = str('CRYST1'+ str(\"{:9.3f}{:9.3f}{:9.3f}\".format(L*10,L*10,L*10)) + \"  90.00  90.00  90.00 P 1           1\\n\")\n",
    "   # f1.write(s)\n",
    "    \n",
    "    if init_random: \n",
    "        sd = np.sqrt(constants.R * 0.001 * TEMPS / m)\n",
    "        r, v = init(N, 0.5, L, sd, distri)\n",
    "        \n",
    "        if boundary == pbc: v -= np.mean(v, axis = 0)\n",
    "        \n",
    "    else:\n",
    "        r = r_init\n",
    "        v = v_init\n",
    "        \n",
    "    kin_ener = np.zeros(int(n_steps / update))\n",
    "    pot_ener = np.zeros(int(n_steps / update))\n",
    "    temp = np.zeros(int(n_steps / update))\n",
    "    pressure = np.zeros(int(n_steps / update))\n",
    "    vel_store = np.zeros((int(n_steps / update), N, 3))\n",
    "    volume = np.zeros(int(n_steps / update))\n",
    "    \n",
    "    T = temperature(v, m, N)\n",
    "    pair_mask = pair_list(r, N, rb, L)\n",
    "    f, pote, press = force(r, N, sig, eps, pair_mask, L, rc, T)\n",
    "    \n",
    "    \n",
    "    kine = kinetic(v, m)\n",
    "    \n",
    "    kin_ener[0] = kine\n",
    "    pot_ener[0] = pote\n",
    "    vel_store[0] = v\n",
    "    temp[0] = T\n",
    "    pressure[0] = press\n",
    "    volume[0] = L**3\n",
    "    \n",
    "    #write_file(f1, f2, f3, f4, r, v, pote, kine, 0)\n",
    "        \n",
    "    c = 1\n",
    "    \n",
    "    for step in tqdm(range(1, n_steps)):\n",
    "        \n",
    "        r, v, f, pote, pair_mask, press = velocity_verlet(r, v, f, m, eps, sig, dt, boundary, N, L,\n",
    "                                                          pair_list_update, rc, rb, step, pair_mask, T)\n",
    "        \n",
    "        if static:\n",
    "            v = berendsen_thermostat(T0 = TEMP0, T = T, dt = dt, tau = tauT, v = v)\n",
    "            L, r = berendsen_barostat(P0 = PRESS0, P = press, dt = dt, beta = beta, tau = tauP, L = L, r = r)\n",
    "        \n",
    "        T = temperature(v, m, N)\n",
    "        \n",
    "        if not step % update: \n",
    "           # write_file(f1, f2, f3, f4, r, v, pote, kine, 0)\n",
    "            \n",
    "            kine = kinetic(v, m)\n",
    "            \n",
    "            kin_ener[c] = kine\n",
    "            pot_ener[c] = pote\n",
    "            vel_store[c] = v\n",
    "            temp[c] = T\n",
    "            pressure[c] = press\n",
    "            volume[c] = L**3\n",
    "            #print(L**3)\n",
    "            c+=1\n",
    "            \n",
    "    return kin_ener, pot_ener, vel_store, temp, pressure, volume"
   ]
  },
  {
   "cell_type": "code",
   "execution_count": 162,
   "id": "07b0880a-810c-45b1-9d85-78475daf318e",
   "metadata": {},
   "outputs": [
    {
     "data": {
      "text/plain": [
       "11.133362815209516"
      ]
     },
     "execution_count": 162,
     "metadata": {},
     "output_type": "execute_result"
    }
   ],
   "source": [
    "ideal_volume(T = 100, N =100, P = 1)"
   ]
  },
  {
   "cell_type": "code",
   "execution_count": 163,
   "id": "930e45db-b210-49d8-b664-d2bc7589ea64",
   "metadata": {},
   "outputs": [
    {
     "name": "stderr",
     "output_type": "stream",
     "text": [
      " 12%|█▏        | 12379/99999 [00:05<00:41, 2111.24it/s]\n"
     ]
    },
    {
     "ename": "KeyboardInterrupt",
     "evalue": "",
     "output_type": "error",
     "traceback": [
      "\u001b[0;31m---------------------------------------------------------------------------\u001b[0m",
      "\u001b[0;31mKeyboardInterrupt\u001b[0m                         Traceback (most recent call last)",
      "\u001b[0;32m<ipython-input-163-8babb52be3d9>\u001b[0m in \u001b[0;36m<module>\u001b[0;34m\u001b[0m\n\u001b[0;32m----> 1\u001b[0;31m KINE_No_Static, POTE_No_Static, VEL_No_Static, TEMP_No_Static, PRESS_No_Static, VOL_No_Static = main(n_steps = 100000, N = 100, L = 11, dt = 1E-3, TEMPS = 100, TEMP0 = 100, PRESS0 = 4,\n\u001b[0m\u001b[1;32m      2\u001b[0m                                                                                                      \u001b[0minit_random\u001b[0m \u001b[0;34m=\u001b[0m \u001b[0;36m1\u001b[0m\u001b[0;34m,\u001b[0m \u001b[0mboundary\u001b[0m \u001b[0;34m=\u001b[0m \u001b[0mpbc\u001b[0m\u001b[0;34m,\u001b[0m \u001b[0mupdate\u001b[0m \u001b[0;34m=\u001b[0m \u001b[0;36m100\u001b[0m\u001b[0;34m,\u001b[0m \u001b[0mpair_list_update\u001b[0m \u001b[0;34m=\u001b[0m \u001b[0;36m10\u001b[0m\u001b[0;34m,\u001b[0m \u001b[0mrc\u001b[0m \u001b[0;34m=\u001b[0m \u001b[0;36m1.\u001b[0m\u001b[0;34m,\u001b[0m \u001b[0mrb\u001b[0m \u001b[0;34m=\u001b[0m \u001b[0;36m1.5\u001b[0m\u001b[0;34m,\u001b[0m\u001b[0;34m\u001b[0m\u001b[0;34m\u001b[0m\u001b[0m\n\u001b[1;32m      3\u001b[0m                                                                                                      tauT = 1.0, tauP = .5, static = True, file1 = 'Test.pdb', file2 = 'Vel.txt', file3 = 'POTE.txt', file4 = 'KINE.txt')\n",
      "\u001b[0;32m<ipython-input-161-cccfff3a3ee9>\u001b[0m in \u001b[0;36mmain\u001b[0;34m(n_steps, N, L, dt, static, TEMPS, TEMP0, PRESS0, init_random, boundary, update, pair_list_update, rc, rb, tauT, tauP, file1, file2, file3, file4, r_init, v_init, distri)\u001b[0m\n\u001b[1;32m     48\u001b[0m     \u001b[0;32mfor\u001b[0m \u001b[0mstep\u001b[0m \u001b[0;32min\u001b[0m \u001b[0mtqdm\u001b[0m\u001b[0;34m(\u001b[0m\u001b[0mrange\u001b[0m\u001b[0;34m(\u001b[0m\u001b[0;36m1\u001b[0m\u001b[0;34m,\u001b[0m \u001b[0mn_steps\u001b[0m\u001b[0;34m)\u001b[0m\u001b[0;34m)\u001b[0m\u001b[0;34m:\u001b[0m\u001b[0;34m\u001b[0m\u001b[0;34m\u001b[0m\u001b[0m\n\u001b[1;32m     49\u001b[0m \u001b[0;34m\u001b[0m\u001b[0m\n\u001b[0;32m---> 50\u001b[0;31m         r, v, f, pote, pair_mask, press = velocity_verlet(r, v, f, m, eps, sig, dt, boundary, N, L,\n\u001b[0m\u001b[1;32m     51\u001b[0m                                                           pair_list_update, rc, rb, step, pair_mask, T)\n\u001b[1;32m     52\u001b[0m \u001b[0;34m\u001b[0m\u001b[0m\n",
      "\u001b[0;31mKeyboardInterrupt\u001b[0m: "
     ]
    }
   ],
   "source": [
    "KINE_No_Static, POTE_No_Static, VEL_No_Static, TEMP_No_Static, PRESS_No_Static, VOL_No_Static = main(n_steps = 100000, N = 100, L = 11, dt = 1E-3, TEMPS = 100, TEMP0 = 100, PRESS0 = 4,\n",
    "                                                                                                     init_random = 1, boundary = pbc, update = 100, pair_list_update = 10, rc = 1., rb = 1.5, \n",
    "                                                                                                     tauT = 1.0, tauP = .5, static = True, file1 = 'Test.pdb', file2 = 'Vel.txt', file3 = 'POTE.txt', file4 = 'KINE.txt')"
   ]
  },
  {
   "cell_type": "code",
   "execution_count": null,
   "id": "7c6a2cea",
   "metadata": {},
   "outputs": [],
   "source": [
    "plt.plot(PRESS_No_Static)\n",
    "plt.ylabel('bar')"
   ]
  },
  {
   "cell_type": "code",
   "execution_count": 124,
   "id": "a67d068a",
   "metadata": {},
   "outputs": [],
   "source": [
    "#@numba.jit(nopython = True, fastmath = True)\n",
    "def test(pos):\n",
    "    \n",
    "    return np.where(pos < 0.5, np.where(pos < 0.1))"
   ]
  },
  {
   "cell_type": "code",
   "execution_count": 125,
   "id": "534eae3e",
   "metadata": {},
   "outputs": [
    {
     "ename": "ValueError",
     "evalue": "either both or neither of x and y should be given",
     "output_type": "error",
     "traceback": [
      "\u001b[0;31m---------------------------------------------------------------------------\u001b[0m",
      "\u001b[0;31mValueError\u001b[0m                                Traceback (most recent call last)",
      "\u001b[0;32m<ipython-input-125-eba85600cbc2>\u001b[0m in \u001b[0;36m<module>\u001b[0;34m\u001b[0m\n\u001b[0;32m----> 1\u001b[0;31m \u001b[0mtest\u001b[0m\u001b[0;34m(\u001b[0m\u001b[0mnp\u001b[0m\u001b[0;34m.\u001b[0m\u001b[0mrandom\u001b[0m\u001b[0;34m.\u001b[0m\u001b[0mrandn\u001b[0m\u001b[0;34m(\u001b[0m\u001b[0;36m100\u001b[0m\u001b[0;34m)\u001b[0m\u001b[0;34m)\u001b[0m\u001b[0;34m\u001b[0m\u001b[0;34m\u001b[0m\u001b[0m\n\u001b[0m",
      "\u001b[0;32m<ipython-input-124-816ec6554044>\u001b[0m in \u001b[0;36mtest\u001b[0;34m(pos)\u001b[0m\n\u001b[1;32m      2\u001b[0m \u001b[0;32mdef\u001b[0m \u001b[0mtest\u001b[0m\u001b[0;34m(\u001b[0m\u001b[0mpos\u001b[0m\u001b[0;34m)\u001b[0m\u001b[0;34m:\u001b[0m\u001b[0;34m\u001b[0m\u001b[0;34m\u001b[0m\u001b[0m\n\u001b[1;32m      3\u001b[0m \u001b[0;34m\u001b[0m\u001b[0m\n\u001b[0;32m----> 4\u001b[0;31m     \u001b[0;32mreturn\u001b[0m \u001b[0mnp\u001b[0m\u001b[0;34m.\u001b[0m\u001b[0mwhere\u001b[0m\u001b[0;34m(\u001b[0m\u001b[0mpos\u001b[0m \u001b[0;34m<\u001b[0m \u001b[0;36m0.5\u001b[0m\u001b[0;34m,\u001b[0m \u001b[0mnp\u001b[0m\u001b[0;34m.\u001b[0m\u001b[0mwhere\u001b[0m\u001b[0;34m(\u001b[0m\u001b[0mpos\u001b[0m \u001b[0;34m<\u001b[0m \u001b[0;36m0.1\u001b[0m\u001b[0;34m)\u001b[0m\u001b[0;34m)\u001b[0m\u001b[0;34m\u001b[0m\u001b[0;34m\u001b[0m\u001b[0m\n\u001b[0m",
      "\u001b[0;32m<__array_function__ internals>\u001b[0m in \u001b[0;36mwhere\u001b[0;34m(*args, **kwargs)\u001b[0m\n",
      "\u001b[0;31mValueError\u001b[0m: either both or neither of x and y should be given"
     ]
    }
   ],
   "source": [
    "test(np.random.randn(100))"
   ]
  },
  {
   "cell_type": "markdown",
   "id": "4b4f77b0",
   "metadata": {},
   "source": [
    "# Energy of two particles - Only potential energy"
   ]
  },
  {
   "cell_type": "code",
   "execution_count": 20,
   "id": "d4c5a29b",
   "metadata": {},
   "outputs": [],
   "source": [
    "r_init = np.array([[5, 5, 4], [5, 5, 5]])\n",
    "v_init = np.zeros((2, 3))"
   ]
  },
  {
   "cell_type": "code",
   "execution_count": 23,
   "id": "4c75be6a-ca19-48d5-9fb6-765416249171",
   "metadata": {},
   "outputs": [
    {
     "name": "stderr",
     "output_type": "stream",
     "text": [
      "100%|██████████| 999/999 [00:00<00:00, 17277.31it/s]\n"
     ]
    }
   ],
   "source": [
    "KINE, POTE, VEL, TEMP, PRESS, VOL = main(n_steps = 1000, N = 2, L = 10, dt = 1E-1, TEMPS = 100, TEMP0 = 100, PRESS0 = 1, init_random = 0, boundary = pbc, update = 1,\n",
    "                                         pair_list_update = 1, rc = 1000., rb = 1000., file1 = 'Test.pdb', file2 = 'Vel.txt', file3 = 'POTE.txt', file4 = 'KINE.txt',\n",
    "                                         r_init = r_init, v_init = v_init, static = False, tauT = 1.0, tauP = 1.0)"
   ]
  },
  {
   "cell_type": "code",
   "execution_count": 27,
   "id": "e1f7eecb-7fed-4899-9265-410fd2246c54",
   "metadata": {},
   "outputs": [],
   "source": [
    "np.save(arr = KINE, file='ENERGY_CONSERVATION_TWO_PARTICLES/KINE_VERY_SHORT')\n",
    "np.save(arr = POTE, file='ENERGY_CONSERVATION_TWO_PARTICLES/POTE_VERY_SHORT')"
   ]
  },
  {
   "cell_type": "code",
   "execution_count": 28,
   "id": "c30deabd-c323-4b39-b948-4be5777e920f",
   "metadata": {},
   "outputs": [],
   "source": [
    "KINE_BIGGER_TIMESTEP = np.load('ENERGY_CONSERVATION_TWO_PARTICLES/KINE_VERY_SHORT.npy')\n",
    "POTE_BIGGER_TIMESTEP = np.load('ENERGY_CONSERVATION_TWO_PARTICLES/POTE_VERY_SHORT.npy')"
   ]
  },
  {
   "cell_type": "code",
   "execution_count": 29,
   "id": "fdcc29a1",
   "metadata": {},
   "outputs": [
    {
     "name": "stderr",
     "output_type": "stream",
     "text": [
      "100%|██████████| 99999/99999 [00:02<00:00, 43678.01it/s]\n"
     ]
    }
   ],
   "source": [
    "KINE, POTE, VEL, TEMP, PRESS, VOL = main(n_steps = 100000, N = 2, L = 10, dt = 1E-3, TEMPS = 100, TEMP0 = 100, PRESS0 = 1, init_random = 0, boundary = pbc, update = 1,\n",
    "                                         pair_list_update = 1, rc = 1000., rb = 1000., file1 = 'Test.pdb', file2 = 'Vel.txt', file3 = 'POTE.txt', file4 = 'KINE.txt',\n",
    "                                         r_init = r_init, v_init = v_init, static = False, tauT = 1.0, tauP = 1.0)"
   ]
  },
  {
   "cell_type": "code",
   "execution_count": 30,
   "id": "f779586c",
   "metadata": {},
   "outputs": [],
   "source": [
    "np.save(arr = KINE, file='ENERGY_CONSERVATION_TWO_PARTICLES/KINE_SHORT')\n",
    "np.save(arr = POTE, file='ENERGY_CONSERVATION_TWO_PARTICLES/POTE_SHORT')"
   ]
  },
  {
   "cell_type": "code",
   "execution_count": 31,
   "id": "ad08a9f7",
   "metadata": {},
   "outputs": [],
   "source": [
    "KINE_BIG_TIMESTEP = np.load('ENERGY_CONSERVATION_TWO_PARTICLES/KINE_SHORT.npy')\n",
    "POTE_BIG_TIMESTEP = np.load('ENERGY_CONSERVATION_TWO_PARTICLES/POTE_SHORT.npy')"
   ]
  },
  {
   "cell_type": "code",
   "execution_count": 32,
   "id": "f4ca8da2",
   "metadata": {},
   "outputs": [
    {
     "name": "stderr",
     "output_type": "stream",
     "text": [
      "100%|██████████| 9999999/9999999 [03:26<00:00, 48370.36it/s]\n"
     ]
    }
   ],
   "source": [
    "KINE, POTE, VEL, TEMP, PRESS, VOL = main(n_steps = 10000000, N = 2, L = 10, dt = 1E-5, TEMPS = 100, TEMP0 = 100, PRESS0 = 1, init_random = 0, boundary = pbc, update = 1,\n",
    "                                         pair_list_update = 1, rc = 1000., rb = 1000., file1 = 'Test.pdb', file2 = 'Vel.txt', file3 = 'POTE.txt', file4 = 'KINE.txt',\n",
    "                                         r_init = r_init, v_init = v_init, static = False, tauT = 1.0, tauP = 1.0)"
   ]
  },
  {
   "cell_type": "code",
   "execution_count": 33,
   "id": "4e5338f6",
   "metadata": {},
   "outputs": [],
   "source": [
    "np.save(arr = KINE, file='ENERGY_CONSERVATION_TWO_PARTICLES/KINE_LONG')\n",
    "np.save(arr = POTE, file='ENERGY_CONSERVATION_TWO_PARTICLES/POTE_LONG')"
   ]
  },
  {
   "cell_type": "code",
   "execution_count": 34,
   "id": "1e2adb62",
   "metadata": {},
   "outputs": [],
   "source": [
    "KINE_SMALL_TIMESTEP = np.load('ENERGY_CONSERVATION_TWO_PARTICLES/KINE_LONG.npy')\n",
    "POTE_SMALL_TIMESTEP = np.load('ENERGY_CONSERVATION_TWO_PARTICLES/POTE_LONG.npy')"
   ]
  },
  {
   "cell_type": "code",
   "execution_count": 35,
   "id": "0733be50-4a3c-4007-8c4e-6296f60bb5c9",
   "metadata": {},
   "outputs": [],
   "source": [
    "t0 = np.linspace(0, 100, 1000)\n",
    "t1 = np.linspace(0, 100, 100000)\n",
    "t2 = np.linspace(0, 100, 10000000)"
   ]
  },
  {
   "cell_type": "code",
   "execution_count": 36,
   "id": "970e54cf",
   "metadata": {},
   "outputs": [
    {
     "data": {
      "text/plain": [
       "(15.0, 25.0)"
      ]
     },
     "execution_count": 36,
     "metadata": {},
     "output_type": "execute_result"
    },
    {
     "data": {
      "image/png": "[encoded data removed]",
      "text/plain": [
       "<Figure size 1440x360 with 3 Axes>"
      ]
     },
     "metadata": {
      "needs_background": "light"
     },
     "output_type": "display_data"
    }
   ],
   "source": [
    "\n",
    "\n",
    "fig, ax = plt.subplots(1, 3, figsize = (20, 5))\n",
    "\n",
    "ax[0].plot(t0, POTE_BIGGER_TIMESTEP, label = 'Potential')\n",
    "ax[0].plot(t0, KINE_BIGGER_TIMESTEP, label = 'Kinetic')\n",
    "ax[0].plot(t0, KINE_BIGGER_TIMESTEP + POTE_BIGGER_TIMESTEP, label = 'Total')\n",
    "ax[0].grid(True)\n",
    "ax[0].set_title('Energy - Two Particles - dt=1E-3', fontweight = 'bold', fontsize = 13)\n",
    "ax[0].set_ylabel('kJ/mol', fontsize = 13)\n",
    "ax[0].set_xlabel('Time (ps)', fontsize = 13)\n",
    "\n",
    "ax[1].plot(t1, POTE_BIG_TIMESTEP, label = 'Potential')\n",
    "ax[1].plot(t1, KINE_BIG_TIMESTEP, label = 'Kinetic')\n",
    "ax[1].plot(t1, KINE_BIG_TIMESTEP + POTE_BIG_TIMESTEP, label = 'Total')\n",
    "ax[1].grid(True)\n",
    "ax[1].set_title('Energy - Two Particles - dt=1E-3', fontweight = 'bold', fontsize = 13)\n",
    "ax[1].set_ylabel('kJ/mol', fontsize = 13)\n",
    "ax[1].set_xlabel('Time (ps)', fontsize = 13)\n",
    "#ax[0].legend(bbox_to_anchor=(1., 1.03))\n",
    "\n",
    "ax[2].plot(t2, POTE_SMALL_TIMESTEP, label = 'Potential')\n",
    "ax[2].plot(t2, KINE_SMALL_TIMESTEP, label = 'Kinetic')\n",
    "ax[2].plot(t2, KINE_SMALL_TIMESTEP + POTE_SMALL_TIMESTEP, label = 'Total')\n",
    "ax[2].grid(True)\n",
    "ax[2].set_title('Energy - Two Particles - dt=1E-5', fontweight = 'bold', fontsize = 13)\n",
    "ax[2].set_ylabel('kJ/mol', fontsize = 13)\n",
    "ax[2].set_xlabel('Time (ps)', fontsize = 13)\n",
    "ax[2].legend(bbox_to_anchor=(1., 1.03))\n",
    "#plt.savefig('Energy_Two_Particles.png', dpi = 300)\n",
    "\n",
    "ax[0].set_xlim(15, 25)\n",
    "ax[1].set_xlim(15, 25)\n",
    "ax[2].set_xlim(15, 25)"
   ]
  },
  {
   "cell_type": "code",
   "execution_count": 37,
   "id": "cd49ed83",
   "metadata": {},
   "outputs": [
    {
     "data": {
      "text/plain": [
       "<matplotlib.legend.Legend at 0x7f3312479ca0>"
      ]
     },
     "execution_count": 37,
     "metadata": {},
     "output_type": "execute_result"
    },
    {
     "name": "stderr",
     "output_type": "stream",
     "text": [
      "/home/rrzelinuxhome/xy35beqy/.conda/envs/MD-Engine/lib/python3.9/site-packages/IPython/core/pylabtools.py:134: UserWarning: Creating legend with loc=\"best\" can be slow with large amounts of data.\n",
      "  fig.canvas.print_figure(bytes_io, **kw)\n"
     ]
    },
    {
     "data": {
      "image/png": "[encoded data removed]",
      "text/plain": [
       "<Figure size 432x288 with 1 Axes>"
      ]
     },
     "metadata": {
      "needs_background": "light"
     },
     "output_type": "display_data"
    }
   ],
   "source": [
    "plt.plot(t0, KINE_BIGGER_TIMESTEP + POTE_BIGGER_TIMESTEP, label = 'Total - dt=1E-1')\n",
    "plt.plot(t1, KINE_BIG_TIMESTEP + POTE_BIG_TIMESTEP, label = 'Total - dt=1E-3')\n",
    "plt.plot(t2, KINE_SMALL_TIMESTEP + POTE_SMALL_TIMESTEP, label = 'Total - dt=1E-5')\n",
    "plt.ylabel('kJ/mol')\n",
    "plt.xlabel('Time (ps)')\n",
    "plt.title('Total Energy', fontweight = 'bold')\n",
    "plt.legend()"
   ]
  },
  {
   "cell_type": "code",
   "execution_count": 39,
   "id": "2a9995ac-4a82-4d95-bf08-9329d0de536b",
   "metadata": {},
   "outputs": [
    {
     "data": {
      "text/plain": [
       "<matplotlib.legend.Legend at 0x7f33119027f0>"
      ]
     },
     "execution_count": 39,
     "metadata": {},
     "output_type": "execute_result"
    },
    {
     "name": "stderr",
     "output_type": "stream",
     "text": [
      "/home/rrzelinuxhome/xy35beqy/.conda/envs/MD-Engine/lib/python3.9/site-packages/IPython/core/pylabtools.py:134: UserWarning: Creating legend with loc=\"best\" can be slow with large amounts of data.\n",
      "  fig.canvas.print_figure(bytes_io, **kw)\n"
     ]
    },
    {
     "data": {
      "image/png": "[encoded data removed]",
      "text/plain": [
       "<Figure size 432x288 with 1 Axes>"
      ]
     },
     "metadata": {
      "needs_background": "light"
     },
     "output_type": "display_data"
    }
   ],
   "source": [
    "plt.plot(t1, KINE_BIG_TIMESTEP + POTE_BIG_TIMESTEP, label = 'Total - dt=1E-3')\n",
    "plt.plot(t2, KINE_SMALL_TIMESTEP + POTE_SMALL_TIMESTEP, label = 'Total - dt=1E-5')\n",
    "plt.ylabel('kJ/mol')\n",
    "plt.xlabel('Time (ps)')\n",
    "plt.title('Total Energy', fontweight = 'bold')\n",
    "plt.legend()"
   ]
  },
  {
   "cell_type": "markdown",
   "id": "c09d5b45",
   "metadata": {},
   "source": [
    "# With and without Pair-List"
   ]
  },
  {
   "cell_type": "code",
   "execution_count": 80,
   "id": "51339952",
   "metadata": {},
   "outputs": [],
   "source": [
    "#Start from the same configuration each time\n",
    "sd = np.sqrt(constants.R * 0.001 * 300 / 39.948)\n",
    "r_init, v_init = init(50, 0.5, 10, sd, 'normal')\n",
    "v_init -= np.mean(v_init , 0)"
   ]
  },
  {
   "cell_type": "code",
   "execution_count": 81,
   "id": "2cf33be9",
   "metadata": {},
   "outputs": [
    {
     "name": "stderr",
     "output_type": "stream",
     "text": [
      "100%|██████████| 999999/999999 [36:49<00:00, 452.65it/s]\n"
     ]
    }
   ],
   "source": [
    "KINE, POTE, VEL, TEMP, PRESS, VOL = main(n_steps = 1000000, N = 50, L = 10, dt = 1E-3, TEMPS = 100, TEMP0 = 100, PRESS0 = 1, init_random = 0, boundary = pbc, update = 100,\n",
    "                                         pair_list_update = 1, rc = 1000., rb = 1000., file1 = 'Test.pdb', file2 = 'Vel.txt', file3 = 'POTE.txt', file4 = 'KINE.txt',\n",
    "                                         r_init = r_init, v_init = v_init, static = False, tauT = 1.0, tauP = 1.0)"
   ]
  },
  {
   "cell_type": "code",
   "execution_count": 82,
   "id": "fe8beaa5",
   "metadata": {},
   "outputs": [],
   "source": [
    "np.save(arr = KINE, file = 'TESTING_PAIR_LIST/KINE_1_WO_CO')\n",
    "np.save(arr = POTE, file = 'TESTING_PAIR_LIST/POTE_1_WO_CO')\n",
    "KINE_1_WO_CO = np.load('TESTING_PAIR_LIST/KINE_1_WO_CO.npy')\n",
    "POTE_1_WO_CO = np.load('TESTING_PAIR_LIST/POTE_1_WO_CO.npy')"
   ]
  },
  {
   "cell_type": "code",
   "execution_count": 83,
   "id": "70508433",
   "metadata": {},
   "outputs": [
    {
     "name": "stderr",
     "output_type": "stream",
     "text": [
      "100%|██████████| 999999/999999 [17:28<00:00, 953.34it/s]\n"
     ]
    }
   ],
   "source": [
    "KINE, POTE, VEL, TEMP, PRESS, VOL = main(n_steps = 1000000, N = 50, L = 10, dt = 1E-3, TEMPS = 100, TEMP0 = 100, PRESS0 = 1, init_random = 0, boundary = pbc, update = 100,\n",
    "                                         pair_list_update = 1, rc = 1., rb = 1.5, file1 = 'Test.pdb', file2 = 'Vel.txt', file3 = 'POTE.txt', file4 = 'KINE.txt',\n",
    "                                         r_init = r_init, v_init = v_init, static = False, tauT = 1.0, tauP = 1.0)"
   ]
  },
  {
   "cell_type": "code",
   "execution_count": 84,
   "id": "b6e67e70",
   "metadata": {},
   "outputs": [],
   "source": [
    "np.save(arr = KINE, file = 'TESTING_PAIR_LIST/KINE_1')\n",
    "np.save(arr = POTE, file = 'TESTING_PAIR_LIST/POTE_1')\n",
    "KINE_1 = np.load('TESTING_PAIR_LIST/KINE_1.npy')\n",
    "POTE_1 = np.load('TESTING_PAIR_LIST/POTE_1.npy')"
   ]
  },
  {
   "cell_type": "code",
   "execution_count": 99,
   "id": "cbe5d739",
   "metadata": {},
   "outputs": [
    {
     "name": "stderr",
     "output_type": "stream",
     "text": [
      "100%|██████████| 999999/999999 [03:55<00:00, 4248.83it/s]\n"
     ]
    }
   ],
   "source": [
    "KINE, POTE, VEL, TEMP, PRESS, VOL = main(n_steps = 1000000, N = 50, L = 10, dt = 1E-3, TEMPS = 100, TEMP0 = 100, PRESS0 = 1, init_random = 0, boundary = pbc, update = 100,\n",
    "                                         pair_list_update = 5, rc = 1., rb = 1.5, file1 = 'Test.pdb', file2 = 'Vel.txt', file3 = 'POTE.txt', file4 = 'KINE.txt',\n",
    "                                         r_init = r_init, v_init = v_init, static = False, tauT = 1.0, tauP = 1.0)"
   ]
  },
  {
   "cell_type": "code",
   "execution_count": 100,
   "id": "0d275e62",
   "metadata": {},
   "outputs": [],
   "source": [
    "np.save(arr = KINE, file = 'TESTING_PAIR_LIST/KINE_5')\n",
    "np.save(arr = POTE, file = 'TESTING_PAIR_LIST/POTE_5')\n",
    "KINE_5 = np.load('TESTING_PAIR_LIST/KINE_5.npy')\n",
    "POTE_5 = np.load('TESTING_PAIR_LIST/POTE_5.npy')"
   ]
  },
  {
   "cell_type": "code",
   "execution_count": 85,
   "id": "55dcad3b",
   "metadata": {},
   "outputs": [
    {
     "name": "stderr",
     "output_type": "stream",
     "text": [
      "100%|██████████| 999999/999999 [02:01<00:00, 8220.42it/s]\n"
     ]
    }
   ],
   "source": [
    "KINE, POTE, VEL, TEMP, PRESS, VOL = main(n_steps = 1000000, N = 50, L = 10, dt = 1E-3, TEMPS = 100, TEMP0 = 100, PRESS0 = 1, init_random = 0, boundary = pbc, update = 100,\n",
    "                                         pair_list_update = 10, rc = 1., rb = 1.5, file1 = 'Test.pdb', file2 = 'Vel.txt', file3 = 'POTE.txt', file4 = 'KINE.txt',\n",
    "                                         r_init = r_init, v_init = v_init, static = False, tauT = 1.0, tauP = 1.0)"
   ]
  },
  {
   "cell_type": "code",
   "execution_count": 86,
   "id": "d092669d",
   "metadata": {},
   "outputs": [],
   "source": [
    "np.save(arr = KINE, file = 'TESTING_PAIR_LIST/KINE_10')\n",
    "np.save(arr = POTE, file = 'TESTING_PAIR_LIST/POTE_10')\n",
    "KINE_10 = np.load('TESTING_PAIR_LIST/KINE_10.npy')\n",
    "POTE_10 = np.load('TESTING_PAIR_LIST/POTE_10.npy')"
   ]
  },
  {
   "cell_type": "code",
   "execution_count": 87,
   "id": "e0186770",
   "metadata": {},
   "outputs": [
    {
     "name": "stderr",
     "output_type": "stream",
     "text": [
      "100%|██████████| 999999/999999 [01:16<00:00, 13050.67it/s]\n"
     ]
    }
   ],
   "source": [
    "KINE, POTE, VEL, TEMP, PRESS, VOL = main(n_steps = 1000000, N = 50, L = 10, dt = 1E-3, TEMPS = 100, TEMP0 = 100, PRESS0 = 1, init_random = 0, boundary = pbc, update = 100,\n",
    "                                         pair_list_update = 20, rc = 1., rb = 1.5, file1 = 'Test.pdb', file2 = 'Vel.txt', file3 = 'POTE.txt', file4 = 'KINE.txt',\n",
    "                                         r_init = r_init, v_init = v_init, static = False, tauT = 1.0, tauP = 1.0)"
   ]
  },
  {
   "cell_type": "code",
   "execution_count": 88,
   "id": "820d1f18",
   "metadata": {},
   "outputs": [],
   "source": [
    "np.save(arr = KINE, file = 'TESTING_PAIR_LIST/KINE_20')\n",
    "np.save(arr = POTE, file = 'TESTING_PAIR_LIST/POTE_20')\n",
    "KINE_20 = np.load('TESTING_PAIR_LIST/KINE_20.npy')\n",
    "POTE_20 = np.load('TESTING_PAIR_LIST/POTE_20.npy')"
   ]
  },
  {
   "cell_type": "code",
   "execution_count": 89,
   "id": "55eda17b",
   "metadata": {},
   "outputs": [
    {
     "name": "stderr",
     "output_type": "stream",
     "text": [
      "100%|██████████| 999999/999999 [01:01<00:00, 16376.63it/s]\n"
     ]
    }
   ],
   "source": [
    "KINE, POTE, VEL, TEMP, PRESS, VOL = main(n_steps = 1000000, N = 50, L = 10, dt = 1E-3, TEMPS = 100, TEMP0 = 100, PRESS0 = 1, init_random = 0, boundary = pbc, update = 100,\n",
    "                                         pair_list_update = 30, rc = 1., rb = 1.5, file1 = 'Test.pdb', file2 = 'Vel.txt', file3 = 'POTE.txt', file4 = 'KINE.txt',\n",
    "                                         r_init = r_init, v_init = v_init, static = False, tauT = 1.0, tauP = 1.0)"
   ]
  },
  {
   "cell_type": "code",
   "execution_count": 90,
   "id": "a3993848",
   "metadata": {},
   "outputs": [],
   "source": [
    "np.save(arr = KINE, file = 'TESTING_PAIR_LIST/KINE_30')\n",
    "np.save(arr = POTE, file = 'TESTING_PAIR_LIST/POTE_30')\n",
    "KINE_30 = np.load('TESTING_PAIR_LIST/KINE_30.npy')\n",
    "POTE_30 = np.load('TESTING_PAIR_LIST/POTE_30.npy')"
   ]
  },
  {
   "cell_type": "code",
   "execution_count": 91,
   "id": "f32b9c84",
   "metadata": {},
   "outputs": [
    {
     "name": "stderr",
     "output_type": "stream",
     "text": [
      "100%|██████████| 999999/999999 [00:53<00:00, 18706.83it/s]\n"
     ]
    }
   ],
   "source": [
    "KINE, POTE, VEL, TEMP, PRESS, VOL = main(n_steps = 1000000, N = 50, L = 10, dt = 1E-3, TEMPS = 100, TEMP0 = 100, PRESS0 = 1, init_random = 0, boundary = pbc, update = 100,\n",
    "                                         pair_list_update = 40, rc = 1., rb = 1.5, file1 = 'Test.pdb', file2 = 'Vel.txt', file3 = 'POTE.txt', file4 = 'KINE.txt',\n",
    "                                         r_init = r_init, v_init = v_init, static = False, tauT = 1.0, tauP = 1.0)"
   ]
  },
  {
   "cell_type": "code",
   "execution_count": 92,
   "id": "3ec4d841",
   "metadata": {},
   "outputs": [],
   "source": [
    "np.save(arr = KINE, file = 'TESTING_PAIR_LIST/KINE_40')\n",
    "np.save(arr = POTE, file = 'TESTING_PAIR_LIST/POTE_40')\n",
    "KINE_40 = np.load('TESTING_PAIR_LIST/KINE_40.npy')\n",
    "POTE_40 = np.load('TESTING_PAIR_LIST/POTE_40.npy')"
   ]
  },
  {
   "cell_type": "code",
   "execution_count": 93,
   "id": "aa071157",
   "metadata": {},
   "outputs": [
    {
     "name": "stderr",
     "output_type": "stream",
     "text": [
      "100%|██████████| 999999/999999 [00:47<00:00, 20933.75it/s]\n"
     ]
    }
   ],
   "source": [
    "KINE, POTE, VEL, TEMP, PRESS, VOL = main(n_steps = 1000000, N = 50, L = 10, dt = 1E-3, TEMPS = 100, TEMP0 = 100, PRESS0 = 1, init_random = 0, boundary = pbc, update = 100,\n",
    "                                         pair_list_update = 50, rc = 1., rb = 1.5, file1 = 'Test.pdb', file2 = 'Vel.txt', file3 = 'POTE.txt', file4 = 'KINE.txt',\n",
    "                                         r_init = r_init, v_init = v_init, static = False, tauT = 1.0, tauP = 1.0)"
   ]
  },
  {
   "cell_type": "code",
   "execution_count": 97,
   "id": "f76803f3",
   "metadata": {},
   "outputs": [],
   "source": [
    "np.save(arr = KINE, file = 'TESTING_PAIR_LIST/KINE_50')\n",
    "np.save(arr = POTE, file = 'TESTING_PAIR_LIST/POTE_50')\n",
    "KINE_50 = np.load('TESTING_PAIR_LIST/KINE_50.npy')\n",
    "POTE_50 = np.load('TESTING_PAIR_LIST/POTE_50.npy')"
   ]
  },
  {
   "cell_type": "code",
   "execution_count": 101,
   "id": "33adf4aa",
   "metadata": {},
   "outputs": [
    {
     "data": {
      "text/plain": [
       "[<matplotlib.lines.Line2D at 0x7f3312dd50d0>]"
      ]
     },
     "execution_count": 101,
     "metadata": {},
     "output_type": "execute_result"
    },
    {
     "data": {
      "image/png": "[encoded data removed]",
      "text/plain": [
       "<Figure size 432x288 with 1 Axes>"
      ]
     },
     "metadata": {
      "needs_background": "light"
     },
     "output_type": "display_data"
    }
   ],
   "source": [
    "Timer = [2209, 1048, 235, 121, 76, 61, 53, 47]\n",
    "PL = [\"WO PL-CO\", \"WO PL\", \"PL 5\", \"PL 10\", \"PL 20\", \"PL 30\", \"PL 40\", \"PL 50\"]\n",
    "plt.plot(PL, Timer)"
   ]
  },
  {
   "cell_type": "code",
   "execution_count": 104,
   "id": "0d123cfc",
   "metadata": {},
   "outputs": [],
   "source": [
    "t = np.linspace(0, 1000, 10000)"
   ]
  },
  {
   "cell_type": "code",
   "execution_count": 109,
   "id": "9d3df2bb",
   "metadata": {
    "tags": []
   },
   "outputs": [
    {
     "data": {
      "text/plain": [
       "Text(0.5, 0, 'Time (ps)')"
      ]
     },
     "execution_count": 109,
     "metadata": {},
     "output_type": "execute_result"
    },
    {
     "data": {
      "image/png": "[encoded data removed]",
      "text/plain": [
       "<Figure size 720x360 with 1 Axes>"
      ]
     },
     "metadata": {
      "needs_background": "light"
     },
     "output_type": "display_data"
    }
   ],
   "source": [
    "fig = plt.figure(figsize = (10, 5))\n",
    "plt.plot(t, KINE_1_WO_CO[:] + POTE_1_WO_CO[:], label = 'No Pair - No CutOff')\n",
    "plt.plot(t, KINE_1[:] + POTE_1[:], label = 'No Pair')\n",
    "plt.plot(t, KINE_5[:] + POTE_5[:], label = 'Update 5')\n",
    "plt.plot(t, KINE_10[:] + POTE_10[:], label = 'Update 10')\n",
    "plt.plot(t, KINE_20[:] + POTE_20[:], label = 'Update 20')\n",
    "plt.plot(t, KINE_30[:] + POTE_30[:], label = 'Update 30')\n",
    "plt.plot(t, KINE_40[:] + POTE_40[:], label = 'Update 40')\n",
    "plt.plot(t, KINE_50[:] + POTE_50[:], label = 'Update 50')\n",
    "\n",
    "#plt.ylim([1.4, 1.45])\n",
    "plt.title('Total Energy of different Pair-List Settings', fontweight = 'bold')\n",
    "#plt.legend()\n",
    "plt.ylabel('kJ/mol')\n",
    "plt.xlabel('Time (ps)')"
   ]
  },
  {
   "cell_type": "code",
   "execution_count": 111,
   "id": "b50ef355",
   "metadata": {},
   "outputs": [
    {
     "data": {
      "text/plain": [
       "[<matplotlib.lines.Line2D at 0x7f330a7e7ee0>]"
      ]
     },
     "execution_count": 111,
     "metadata": {},
     "output_type": "execute_result"
    },
    {
     "data": {
      "image/png": "[encoded data removed]",
      "text/plain": [
       "<Figure size 432x288 with 1 Axes>"
      ]
     },
     "metadata": {
      "needs_background": "light"
     },
     "output_type": "display_data"
    }
   ],
   "source": [
    "plt.plot(t, KINE_1_WO_CO[:] + POTE_1_WO_CO[:], label = 'No Pair - No CutOff')\n",
    "#plt.plot(t, KINE_1[:] + POTE_1[:], label = 'No Pair')\n",
    "#plt.plot(t, KINE_5[:] + POTE_5[:], label = 'Update 5')"
   ]
  },
  {
   "cell_type": "code",
   "execution_count": null,
   "id": "f3e8dbec",
   "metadata": {},
   "outputs": [],
   "source": []
  },
  {
   "cell_type": "code",
   "execution_count": 123,
   "id": "87f0a674",
   "metadata": {},
   "outputs": [],
   "source": [
    "#Start from the same configuration each time\n",
    "sd = np.sqrt(constants.R * 0.001 * 300 / 39.948)\n",
    "r_init, v_init = init(10, 0.5, 5, sd, 'normal')\n",
    "v_init -= np.mean(v_init , 0)"
   ]
  },
  {
   "cell_type": "code",
   "execution_count": 148,
   "id": "34b3dd29",
   "metadata": {},
   "outputs": [
    {
     "name": "stderr",
     "output_type": "stream",
     "text": [
      "100%|██████████| 99999999/99999999 [2:38:55<00:00, 10487.45it/s]  \n"
     ]
    }
   ],
   "source": [
    "KINE_DT5, POTE_DT5, VEL_DT5, TEMP_DT5, PRESS_DT5, VOL_DT5 = main(n_steps = 100000000, N = 10, L = 5, dt = 1E-5, TEMPS = 100, TEMP0 = 100, PRESS0 = 1, init_random = 0, boundary = pbc, update = 10000,\n",
    "                                                                 pair_list_update = 1, rc = 1000., rb = 1000., file1 = 'Test.pdb', file2 = 'Vel.txt', file3 = 'POTE.txt', file4 = 'KINE.txt',\n",
    "                                                                 r_init = r_init, v_init = v_init, static = False, tauT = 1.0, tauP = 1.0)"
   ]
  },
  {
   "cell_type": "code",
   "execution_count": 149,
   "id": "ae91cd3f",
   "metadata": {},
   "outputs": [
    {
     "name": "stderr",
     "output_type": "stream",
     "text": [
      "100%|██████████| 999999/999999 [01:30<00:00, 11031.94it/s]\n"
     ]
    }
   ],
   "source": [
    "KINE_DT3, POTE_DT3, VEL_DT3, TEMP_DT3, PRESS_DT3, VOL_DT3 = main(n_steps = 1000000, N = 10, L = 5, dt = 1E-3, TEMPS = 100, TEMP0 = 100, PRESS0 = 1, init_random = 0, boundary = pbc, update = 100,\n",
    "                                                                 pair_list_update = 1, rc = 1000., rb = 1000., file1 = 'Test.pdb', file2 = 'Vel.txt', file3 = 'POTE.txt', file4 = 'KINE.txt',\n",
    "                                                                 r_init = r_init, v_init = v_init, static = False, tauT = 1.0, tauP = 1.0)"
   ]
  },
  {
   "cell_type": "code",
   "execution_count": 339,
   "id": "aec73e16",
   "metadata": {},
   "outputs": [
    {
     "name": "stderr",
     "output_type": "stream",
     "text": [
      "100%|██████████| 999999/999999 [01:36<00:00, 10351.55it/s]\n"
     ]
    }
   ],
   "source": [
    "KINE_DT2, POTE_DT2, VEL_DT2, TEMP_DT2, PRESS_DT2, VOL_DT2 = main(n_steps = 1000000, N = 10, L = 5, dt = 1E-2, TEMPS = 100, TEMP0 = 100, PRESS0 = 1, init_random = 0, boundary = pbc, update = 10,\n",
    "                                                                 pair_list_update = 1, rc = 1000., rb = 1000., file1 = 'Test.pdb', file2 = 'Vel.txt', file3 = 'POTE.txt', file4 = 'KINE.txt',\n",
    "                                                                 r_init = r_init, v_init = v_init, static = False, tauT = 1.0, tauP = 1.0)"
   ]
  },
  {
   "cell_type": "code",
   "execution_count": 150,
   "id": "6275b095",
   "metadata": {},
   "outputs": [
    {
     "name": "stderr",
     "output_type": "stream",
     "text": [
      "100%|██████████| 9999/9999 [00:01<00:00, 9464.77it/s]\n"
     ]
    }
   ],
   "source": [
    "KINE_DT1, POTE_DT1, VEL_DT1, TEMP_DT1, PRESS_DT1, VOL_DT1 = main(n_steps = 10000, N = 10, L = 5, dt = 1E-1, TEMPS = 100, TEMP0 = 100, PRESS0 = 1, init_random = 0, boundary = pbc, update = 1,\n",
    "                                                                 pair_list_update = 1, rc = 1000., rb = 1000., file1 = 'Test.pdb', file2 = 'Vel.txt', file3 = 'POTE.txt', file4 = 'KINE.txt',\n",
    "                                                                 r_init = r_init, v_init = v_init, static = False, tauT = 1.0, tauP = 1.0)"
   ]
  },
  {
   "cell_type": "code",
   "execution_count": 342,
   "id": "229b3755",
   "metadata": {},
   "outputs": [],
   "source": [
    "TE_DT5 = KINE_DT5 + POTE_DT5\n",
    "TE_DT3 = KINE_DT3 + POTE_DT3\n",
    "TE_DT2 = KINE_DT2 + POTE_DT2\n",
    "TE_DT1 = KINE_DT1 + POTE_DT1"
   ]
  },
  {
   "cell_type": "code",
   "execution_count": null,
   "id": "97623d01",
   "metadata": {},
   "outputs": [],
   "source": [
    "np.save()"
   ]
  },
  {
   "cell_type": "code",
   "execution_count": 155,
   "id": "258c1535",
   "metadata": {},
   "outputs": [
    {
     "data": {
      "text/plain": [
       "10000"
      ]
     },
     "execution_count": 155,
     "metadata": {},
     "output_type": "execute_result"
    }
   ],
   "source": [
    "len(TE_DT3)"
   ]
  },
  {
   "cell_type": "markdown",
   "id": "2d03905d",
   "metadata": {},
   "source": [
    "\"Drift is calculated by performing a least-squares fit of the data to a straight line. The reported total drift is the difference of the fit at the first and last point.\" - GROMACS"
   ]
  },
  {
   "cell_type": "code",
   "execution_count": 345,
   "id": "108d6a05",
   "metadata": {},
   "outputs": [],
   "source": [
    "t_DT5 = np.linspace(0, 1000, 10000)\n",
    "t_DT3 = np.linspace(0, 1000, 10000)\n",
    "t_DT2 = np.linspace(0, 1000, 10000)\n",
    "t_DT1 = np.linspace(0, 1000, 10000)"
   ]
  },
  {
   "cell_type": "code",
   "execution_count": 157,
   "id": "e57e7f46",
   "metadata": {},
   "outputs": [],
   "source": [
    "def get_drift(x, y):\n",
    "    \n",
    "    fit_a, fit_b = np.polyfit(x = x, y = y, deg = 1)\n",
    "    \n",
    "    first = fit_a * x[0] + fit_b\n",
    "    last = fit_a * x[-1] + fit_b\n",
    "    \n",
    "    return last - first\n",
    "    "
   ]
  },
  {
   "cell_type": "code",
   "execution_count": 346,
   "id": "0494bc0c",
   "metadata": {},
   "outputs": [
    {
     "name": "stdout",
     "output_type": "stream",
     "text": [
      "Drift of dt=1E-5: -2.554692457579222e-09\n",
      "Drift of dt=1E-3: 4.6088674565680776e-07\n"
     ]
    },
    {
     "ename": "TypeError",
     "evalue": "expected x and y to have same length",
     "output_type": "error",
     "traceback": [
      "\u001b[0;31m---------------------------------------------------------------------------\u001b[0m",
      "\u001b[0;31mTypeError\u001b[0m                                 Traceback (most recent call last)",
      "\u001b[0;32m<ipython-input-346-f9e7c4161cb3>\u001b[0m in \u001b[0;36m<module>\u001b[0;34m\u001b[0m\n\u001b[1;32m      1\u001b[0m \u001b[0mprint\u001b[0m\u001b[0;34m(\u001b[0m\u001b[0;34m\"Drift of dt=1E-5:\"\u001b[0m\u001b[0;34m,\u001b[0m \u001b[0mget_drift\u001b[0m\u001b[0;34m(\u001b[0m\u001b[0mt_DT5\u001b[0m\u001b[0;34m,\u001b[0m \u001b[0mTE_DT5\u001b[0m\u001b[0;34m)\u001b[0m\u001b[0;34m)\u001b[0m\u001b[0;34m\u001b[0m\u001b[0;34m\u001b[0m\u001b[0m\n\u001b[1;32m      2\u001b[0m \u001b[0mprint\u001b[0m\u001b[0;34m(\u001b[0m\u001b[0;34m\"Drift of dt=1E-3:\"\u001b[0m\u001b[0;34m,\u001b[0m \u001b[0mget_drift\u001b[0m\u001b[0;34m(\u001b[0m\u001b[0mt_DT3\u001b[0m\u001b[0;34m,\u001b[0m \u001b[0mTE_DT3\u001b[0m\u001b[0;34m)\u001b[0m\u001b[0;34m)\u001b[0m\u001b[0;34m\u001b[0m\u001b[0;34m\u001b[0m\u001b[0m\n\u001b[0;32m----> 3\u001b[0;31m \u001b[0mprint\u001b[0m\u001b[0;34m(\u001b[0m\u001b[0;34m\"Drift of dt=1E-2:\"\u001b[0m\u001b[0;34m,\u001b[0m \u001b[0mget_drift\u001b[0m\u001b[0;34m(\u001b[0m\u001b[0mt_DT2\u001b[0m\u001b[0;34m,\u001b[0m \u001b[0mTE_DT2\u001b[0m\u001b[0;34m)\u001b[0m\u001b[0;34m)\u001b[0m\u001b[0;34m\u001b[0m\u001b[0;34m\u001b[0m\u001b[0m\n\u001b[0m\u001b[1;32m      4\u001b[0m \u001b[0mprint\u001b[0m\u001b[0;34m(\u001b[0m\u001b[0;34m\"Drift of dt=1E-1:\"\u001b[0m\u001b[0;34m,\u001b[0m \u001b[0mget_drift\u001b[0m\u001b[0;34m(\u001b[0m\u001b[0mt_DT1\u001b[0m\u001b[0;34m,\u001b[0m \u001b[0mTE_DT1\u001b[0m\u001b[0;34m)\u001b[0m\u001b[0;34m)\u001b[0m\u001b[0;34m\u001b[0m\u001b[0;34m\u001b[0m\u001b[0m\n",
      "\u001b[0;32m<ipython-input-157-3bad4f6a6db4>\u001b[0m in \u001b[0;36mget_drift\u001b[0;34m(x, y)\u001b[0m\n\u001b[1;32m      1\u001b[0m \u001b[0;32mdef\u001b[0m \u001b[0mget_drift\u001b[0m\u001b[0;34m(\u001b[0m\u001b[0mx\u001b[0m\u001b[0;34m,\u001b[0m \u001b[0my\u001b[0m\u001b[0;34m)\u001b[0m\u001b[0;34m:\u001b[0m\u001b[0;34m\u001b[0m\u001b[0;34m\u001b[0m\u001b[0m\n\u001b[1;32m      2\u001b[0m \u001b[0;34m\u001b[0m\u001b[0m\n\u001b[0;32m----> 3\u001b[0;31m     \u001b[0mfit_a\u001b[0m\u001b[0;34m,\u001b[0m \u001b[0mfit_b\u001b[0m \u001b[0;34m=\u001b[0m \u001b[0mnp\u001b[0m\u001b[0;34m.\u001b[0m\u001b[0mpolyfit\u001b[0m\u001b[0;34m(\u001b[0m\u001b[0mx\u001b[0m \u001b[0;34m=\u001b[0m \u001b[0mx\u001b[0m\u001b[0;34m,\u001b[0m \u001b[0my\u001b[0m \u001b[0;34m=\u001b[0m \u001b[0my\u001b[0m\u001b[0;34m,\u001b[0m \u001b[0mdeg\u001b[0m \u001b[0;34m=\u001b[0m \u001b[0;36m1\u001b[0m\u001b[0;34m)\u001b[0m\u001b[0;34m\u001b[0m\u001b[0;34m\u001b[0m\u001b[0m\n\u001b[0m\u001b[1;32m      4\u001b[0m \u001b[0;34m\u001b[0m\u001b[0m\n\u001b[1;32m      5\u001b[0m     \u001b[0mfirst\u001b[0m \u001b[0;34m=\u001b[0m \u001b[0mfit_a\u001b[0m \u001b[0;34m*\u001b[0m \u001b[0mx\u001b[0m\u001b[0;34m[\u001b[0m\u001b[0;36m0\u001b[0m\u001b[0;34m]\u001b[0m \u001b[0;34m+\u001b[0m \u001b[0mfit_b\u001b[0m\u001b[0;34m\u001b[0m\u001b[0;34m\u001b[0m\u001b[0m\n",
      "\u001b[0;32m<__array_function__ internals>\u001b[0m in \u001b[0;36mpolyfit\u001b[0;34m(*args, **kwargs)\u001b[0m\n",
      "\u001b[0;32m~/.conda/envs/MD-Engine/lib/python3.9/site-packages/numpy/lib/polynomial.py\u001b[0m in \u001b[0;36mpolyfit\u001b[0;34m(x, y, deg, rcond, full, w, cov)\u001b[0m\n\u001b[1;32m    632\u001b[0m         \u001b[0;32mraise\u001b[0m \u001b[0mTypeError\u001b[0m\u001b[0;34m(\u001b[0m\u001b[0;34m\"expected 1D or 2D array for y\"\u001b[0m\u001b[0;34m)\u001b[0m\u001b[0;34m\u001b[0m\u001b[0;34m\u001b[0m\u001b[0m\n\u001b[1;32m    633\u001b[0m     \u001b[0;32mif\u001b[0m \u001b[0mx\u001b[0m\u001b[0;34m.\u001b[0m\u001b[0mshape\u001b[0m\u001b[0;34m[\u001b[0m\u001b[0;36m0\u001b[0m\u001b[0;34m]\u001b[0m \u001b[0;34m!=\u001b[0m \u001b[0my\u001b[0m\u001b[0;34m.\u001b[0m\u001b[0mshape\u001b[0m\u001b[0;34m[\u001b[0m\u001b[0;36m0\u001b[0m\u001b[0;34m]\u001b[0m\u001b[0;34m:\u001b[0m\u001b[0;34m\u001b[0m\u001b[0;34m\u001b[0m\u001b[0m\n\u001b[0;32m--> 634\u001b[0;31m         \u001b[0;32mraise\u001b[0m \u001b[0mTypeError\u001b[0m\u001b[0;34m(\u001b[0m\u001b[0;34m\"expected x and y to have same length\"\u001b[0m\u001b[0;34m)\u001b[0m\u001b[0;34m\u001b[0m\u001b[0;34m\u001b[0m\u001b[0m\n\u001b[0m\u001b[1;32m    635\u001b[0m \u001b[0;34m\u001b[0m\u001b[0m\n\u001b[1;32m    636\u001b[0m     \u001b[0;31m# set rcond\u001b[0m\u001b[0;34m\u001b[0m\u001b[0;34m\u001b[0m\u001b[0;34m\u001b[0m\u001b[0m\n",
      "\u001b[0;31mTypeError\u001b[0m: expected x and y to have same length"
     ]
    }
   ],
   "source": [
    "print(\"Drift of dt=1E-5:\", get_drift(t_DT5, TE_DT5))\n",
    "print(\"Drift of dt=1E-3:\", get_drift(t_DT3, TE_DT3))\n",
    "print(\"Drift of dt=1E-2:\", get_drift(t_DT2, TE_DT2))\n",
    "print(\"Drift of dt=1E-1:\", get_drift(t_DT1, TE_DT1))"
   ]
  },
  {
   "cell_type": "code",
   "execution_count": 343,
   "id": "651fb643",
   "metadata": {},
   "outputs": [
    {
     "data": {
      "text/plain": [
       "[<matplotlib.lines.Line2D at 0x7f330a05a5e0>]"
      ]
     },
     "execution_count": 343,
     "metadata": {},
     "output_type": "execute_result"
    },
    {
     "data": {
      "image/png": "[encoded data removed]",
      "text/plain": [
       "<Figure size 432x288 with 1 Axes>"
      ]
     },
     "metadata": {
      "needs_background": "light"
     },
     "output_type": "display_data"
    }
   ],
   "source": [
    "#plt.plot(TE_DT5)\n",
    "plt.plot(TE_DT2)\n",
    "#plt.plot(TE_DT1)\n",
    "#plt.ylim(40.88, 40.885)\n",
    "#plt.xlim(0, 5000)"
   ]
  },
  {
   "cell_type": "code",
   "execution_count": 338,
   "id": "a2f11540",
   "metadata": {},
   "outputs": [
    {
     "data": {
      "text/plain": [
       "(array([2.000e+00, 0.000e+00, 3.000e+00, 1.000e+00, 3.300e+01, 8.918e+03,\n",
       "        1.038e+03, 3.000e+00, 0.000e+00, 2.000e+00]),\n",
       " array([40.88368235, 40.88368236, 40.88368237, 40.88368238, 40.8836824 ,\n",
       "        40.88368241, 40.88368242, 40.88368243, 40.88368244, 40.88368246,\n",
       "        40.88368247]),\n",
       " <BarContainer object of 10 artists>)"
      ]
     },
     "execution_count": 338,
     "metadata": {},
     "output_type": "execute_result"
    },
    {
     "data": {
      "image/png": "[encoded data removed]",
      "text/plain": [
       "<Figure size 432x288 with 1 Axes>"
      ]
     },
     "metadata": {
      "needs_background": "light"
     },
     "output_type": "display_data"
    }
   ],
   "source": [
    "plt.hist(TE_DT5)\n"
   ]
  },
  {
   "cell_type": "markdown",
   "id": "42fbf444",
   "metadata": {},
   "source": [
    "# Scaling"
   ]
  },
  {
   "cell_type": "code",
   "execution_count": 113,
   "id": "4d05c8fa",
   "metadata": {},
   "outputs": [],
   "source": [
    "def get_vol(p, n):\n",
    "    \n",
    "    return (n/p)**(1/3)"
   ]
  },
  {
   "cell_type": "code",
   "execution_count": 114,
   "id": "421f5ec1",
   "metadata": {},
   "outputs": [
    {
     "data": {
      "text/plain": [
       "2.0"
      ]
     },
     "execution_count": 114,
     "metadata": {},
     "output_type": "execute_result"
    }
   ],
   "source": []
  },
  {
   "cell_type": "code",
   "execution_count": 108,
   "id": "ece6ac21",
   "metadata": {},
   "outputs": [
    {
     "name": "stderr",
     "output_type": "stream",
     "text": [
      "100%|██████████| 99/99 [00:00<00:00, 381.92it/s]\n"
     ]
    }
   ],
   "source": [
    "KINE_Scaling10, POTE_Scaling10 = main(n_steps = 100, N = 10, L = 2, dt = 1E-3, TEMPS = 100, init_random = 1, boundary = pbc, update = 100,\n",
    "                                      pair_list_update = 10, rc = 1., file1 = 'Test.pdb', file2 = 'Vel.txt', file3 = 'POTE.txt', file4 = 'KINE.txt',\n",
    "                                      r_init = r_init, v_init = v_init)"
   ]
  },
  {
   "cell_type": "code",
   "execution_count": 116,
   "id": "a65fec30",
   "metadata": {},
   "outputs": [
    {
     "name": "stderr",
     "output_type": "stream",
     "text": [
      "100%|██████████| 99/99 [00:02<00:00, 33.29it/s]\n"
     ]
    }
   ],
   "source": [
    "KINE_Scaling10, POTE_Scaling10 = main(n_steps = 100, N = 100, L = 4.3, dt = 1E-3, TEMPS = 100, init_random = 1, boundary = pbc, update = 100,\n",
    "                                      pair_list_update = 10, rc = 1., file1 = 'Test.pdb', file2 = 'Vel.txt', file3 = 'POTE.txt', file4 = 'KINE.txt',\n",
    "                                      r_init = r_init, v_init = v_init)"
   ]
  },
  {
   "cell_type": "code",
   "execution_count": 118,
   "id": "75ec4572",
   "metadata": {},
   "outputs": [
    {
     "name": "stderr",
     "output_type": "stream",
     "text": [
      "100%|██████████| 99/99 [00:15<00:00,  6.26it/s]\n"
     ]
    }
   ],
   "source": [
    "KINE_Scaling10, POTE_Scaling10 = main(n_steps = 100, N = 300, L = 6.21, dt = 1E-3, TEMPS = 100, init_random = 1, boundary = pbc, update = 100,\n",
    "                                      pair_list_update = 10, rc = 1., file1 = 'Test.pdb', file2 = 'Vel.txt', file3 = 'POTE.txt', file4 = 'KINE.txt',\n",
    "                                      r_init = r_init, v_init = v_init)"
   ]
  },
  {
   "cell_type": "code",
   "execution_count": 120,
   "id": "8fc05f01",
   "metadata": {},
   "outputs": [
    {
     "name": "stderr",
     "output_type": "stream",
     "text": [
      "100%|██████████| 99/99 [00:38<00:00,  2.60it/s]\n"
     ]
    }
   ],
   "source": [
    "KINE_Scaling10, POTE_Scaling10 = main(n_steps = 100, N = 500, L = 7.37, dt = 1E-3, TEMPS = 100, init_random = 1, boundary = pbc, update = 100,\n",
    "                                      pair_list_update = 10, rc = 1., file1 = 'Test.pdb', file2 = 'Vel.txt', file3 = 'POTE.txt', file4 = 'KINE.txt',\n",
    "                                      r_init = r_init, v_init = v_init)"
   ]
  },
  {
   "cell_type": "code",
   "execution_count": 121,
   "id": "6db3b2b9",
   "metadata": {},
   "outputs": [
    {
     "data": {
      "text/plain": [
       "8.242570599617112"
      ]
     },
     "execution_count": 121,
     "metadata": {},
     "output_type": "execute_result"
    }
   ],
   "source": [
    "get_vol(1.25, 700)"
   ]
  },
  {
   "cell_type": "code",
   "execution_count": 122,
   "id": "fb53c02a",
   "metadata": {},
   "outputs": [
    {
     "name": "stderr",
     "output_type": "stream",
     "text": [
      "100%|██████████| 99/99 [01:12<00:00,  1.36it/s]\n"
     ]
    }
   ],
   "source": [
    "KINE_Scaling10, POTE_Scaling10 = main(n_steps = 100, N = 700, L = 8.24, dt = 1E-3, TEMPS = 100, init_random = 1, boundary = pbc, update = 100,\n",
    "                                      pair_list_update = 10, rc = 1., file1 = 'Test.pdb', file2 = 'Vel.txt', file3 = 'POTE.txt', file4 = 'KINE.txt',\n",
    "                                      r_init = r_init, v_init = v_init)"
   ]
  },
  {
   "cell_type": "code",
   "execution_count": null,
   "id": "e9e17f88",
   "metadata": {},
   "outputs": [],
   "source": []
  },
  {
   "cell_type": "code",
   "execution_count": 123,
   "id": "4311a1f2",
   "metadata": {},
   "outputs": [
    {
     "name": "stderr",
     "output_type": "stream",
     "text": [
      "100%|██████████| 99/99 [00:00<00:00, 158.37it/s]\n"
     ]
    }
   ],
   "source": [
    "KINE_Scaling10, POTE_Scaling10 = main(n_steps = 100, N = 10, L = 2, dt = 1E-3, TEMPS = 100, init_random = 1, boundary = pbc, update = 100,\n",
    "                                      pair_list_update = 1, rc = 1000., file1 = 'Test.pdb', file2 = 'Vel.txt', file3 = 'POTE.txt', file4 = 'KINE.txt',\n",
    "                                      r_init = r_init, v_init = v_init)"
   ]
  },
  {
   "cell_type": "code",
   "execution_count": 124,
   "id": "8a43ff74",
   "metadata": {},
   "outputs": [
    {
     "name": "stderr",
     "output_type": "stream",
     "text": [
      "100%|██████████| 99/99 [01:00<00:00,  1.63it/s]\n"
     ]
    }
   ],
   "source": [
    "KINE_Scaling10, POTE_Scaling10 = main(n_steps = 100, N = 100, L = 4.3, dt = 1E-3, TEMPS = 100, init_random = 1, boundary = pbc, update = 100,\n",
    "                                      pair_list_update = 1, rc = 1000., file1 = 'Test.pdb', file2 = 'Vel.txt', file3 = 'POTE.txt', file4 = 'KINE.txt',\n",
    "                                      r_init = r_init, v_init = v_init)"
   ]
  },
  {
   "cell_type": "code",
   "execution_count": null,
   "id": "6b8bc62a",
   "metadata": {},
   "outputs": [],
   "source": [
    "26*60 +55"
   ]
  },
  {
   "cell_type": "code",
   "execution_count": null,
   "id": "99b0ef8f",
   "metadata": {},
   "outputs": [],
   "source": [
    "KINE_Scaling10, POTE_Scaling10 = main(n_steps = 100, N = 300, L = 6.21, dt = 1E-3, TEMPS = 100, init_random = 1, boundary = pbc, update = 100,\n",
    "                                      pair_list_update = 1, rc = 1000., file1 = 'Test.pdb', file2 = 'Vel.txt', file3 = 'POTE.txt', file4 = 'KINE.txt',\n",
    "                                      r_init = r_init, v_init = v_init)"
   ]
  },
  {
   "cell_type": "code",
   "execution_count": 128,
   "id": "dc8ce8f0",
   "metadata": {},
   "outputs": [
    {
     "name": "stderr",
     "output_type": "stream",
     "text": [
      "  2%|▏         | 2/99 [02:45<2:13:29, 82.57s/it]\n"
     ]
    },
    {
     "ename": "KeyboardInterrupt",
     "evalue": "",
     "output_type": "error",
     "traceback": [
      "\u001b[0;31m---------------------------------------------------------------------------\u001b[0m",
      "\u001b[0;31mKeyboardInterrupt\u001b[0m                         Traceback (most recent call last)",
      "\u001b[0;32m<ipython-input-128-cf55abab268b>\u001b[0m in \u001b[0;36m<module>\u001b[0;34m\u001b[0m\n\u001b[0;32m----> 1\u001b[0;31m KINE_Scaling10, POTE_Scaling10 = main(n_steps = 100, N = 500, L = 7.37, dt = 1E-3, TEMPS = 100, init_random = 1, boundary = pbc, update = 100,\n\u001b[0m\u001b[1;32m      2\u001b[0m                                       \u001b[0mpair_list_update\u001b[0m \u001b[0;34m=\u001b[0m \u001b[0;36m1\u001b[0m\u001b[0;34m,\u001b[0m \u001b[0mrc\u001b[0m \u001b[0;34m=\u001b[0m \u001b[0;36m1000.\u001b[0m\u001b[0;34m,\u001b[0m \u001b[0mfile1\u001b[0m \u001b[0;34m=\u001b[0m \u001b[0;34m'Test.pdb'\u001b[0m\u001b[0;34m,\u001b[0m \u001b[0mfile2\u001b[0m \u001b[0;34m=\u001b[0m \u001b[0;34m'Vel.txt'\u001b[0m\u001b[0;34m,\u001b[0m \u001b[0mfile3\u001b[0m \u001b[0;34m=\u001b[0m \u001b[0;34m'POTE.txt'\u001b[0m\u001b[0;34m,\u001b[0m \u001b[0mfile4\u001b[0m \u001b[0;34m=\u001b[0m \u001b[0;34m'KINE.txt'\u001b[0m\u001b[0;34m,\u001b[0m\u001b[0;34m\u001b[0m\u001b[0;34m\u001b[0m\u001b[0m\n\u001b[1;32m      3\u001b[0m                                       r_init = r_init, v_init = v_init)\n",
      "\u001b[0;32m<ipython-input-12-a5f6825a816a>\u001b[0m in \u001b[0;36mmain\u001b[0;34m(n_steps, N, L, dt, TEMPS, init_random, boundary, update, pair_list_update, rc, file1, file2, file3, file4, r_init, v_init)\u001b[0m\n\u001b[1;32m     37\u001b[0m     \u001b[0;32mfor\u001b[0m \u001b[0mstep\u001b[0m \u001b[0;32min\u001b[0m \u001b[0mtqdm\u001b[0m\u001b[0;34m(\u001b[0m\u001b[0mrange\u001b[0m\u001b[0;34m(\u001b[0m\u001b[0;36m1\u001b[0m\u001b[0;34m,\u001b[0m \u001b[0mn_steps\u001b[0m\u001b[0;34m)\u001b[0m\u001b[0;34m)\u001b[0m\u001b[0;34m:\u001b[0m\u001b[0;34m\u001b[0m\u001b[0;34m\u001b[0m\u001b[0m\n\u001b[1;32m     38\u001b[0m \u001b[0;34m\u001b[0m\u001b[0m\n\u001b[0;32m---> 39\u001b[0;31m         r, v, f, pote, pair_mask = velocity_verlet(r, v, f, m, eps, sig, dt, boundary, N, L,\n\u001b[0m\u001b[1;32m     40\u001b[0m                                                    pair_list_update, rc, step, pair_mask)\n\u001b[1;32m     41\u001b[0m \u001b[0;34m\u001b[0m\u001b[0m\n",
      "\u001b[0;32m<ipython-input-11-6b03630ed792>\u001b[0m in \u001b[0;36mvelocity_verlet\u001b[0;34m(r, v, f, m, eps, sig, dt, boundary, N, L, pair_list_update, rc, step, pair_mask)\u001b[0m\n\u001b[1;32m      5\u001b[0m     \u001b[0mrdt\u001b[0m\u001b[0;34m,\u001b[0m \u001b[0mv\u001b[0m \u001b[0;34m=\u001b[0m \u001b[0mboundary\u001b[0m\u001b[0;34m(\u001b[0m\u001b[0mrdt\u001b[0m\u001b[0;34m,\u001b[0m \u001b[0mv\u001b[0m\u001b[0;34m,\u001b[0m \u001b[0mL\u001b[0m\u001b[0;34m)\u001b[0m\u001b[0;34m\u001b[0m\u001b[0;34m\u001b[0m\u001b[0m\n\u001b[1;32m      6\u001b[0m \u001b[0;34m\u001b[0m\u001b[0m\n\u001b[0;32m----> 7\u001b[0;31m     \u001b[0;32mif\u001b[0m \u001b[0;32mnot\u001b[0m \u001b[0mstep\u001b[0m \u001b[0;34m%\u001b[0m \u001b[0mpair_list_update\u001b[0m\u001b[0;34m:\u001b[0m \u001b[0mpair_mask\u001b[0m \u001b[0;34m=\u001b[0m \u001b[0mpair_list\u001b[0m\u001b[0;34m(\u001b[0m\u001b[0mrdt\u001b[0m\u001b[0;34m,\u001b[0m \u001b[0mN\u001b[0m\u001b[0;34m,\u001b[0m \u001b[0mrc\u001b[0m\u001b[0;34m,\u001b[0m \u001b[0mL\u001b[0m\u001b[0;34m)\u001b[0m\u001b[0;34m\u001b[0m\u001b[0;34m\u001b[0m\u001b[0m\n\u001b[0m\u001b[1;32m      8\u001b[0m \u001b[0;34m\u001b[0m\u001b[0m\n\u001b[1;32m      9\u001b[0m     \u001b[0mfdt\u001b[0m\u001b[0;34m,\u001b[0m \u001b[0mpote\u001b[0m \u001b[0;34m=\u001b[0m \u001b[0mforce\u001b[0m\u001b[0;34m(\u001b[0m\u001b[0mrdt\u001b[0m\u001b[0;34m,\u001b[0m \u001b[0mN\u001b[0m\u001b[0;34m,\u001b[0m \u001b[0msig\u001b[0m\u001b[0;34m,\u001b[0m \u001b[0meps\u001b[0m\u001b[0;34m,\u001b[0m \u001b[0mpair_mask\u001b[0m\u001b[0;34m,\u001b[0m \u001b[0mL\u001b[0m\u001b[0;34m)\u001b[0m\u001b[0;34m\u001b[0m\u001b[0;34m\u001b[0m\u001b[0m\n",
      "\u001b[0;32m<ipython-input-7-a358fde6477a>\u001b[0m in \u001b[0;36mpair_list\u001b[0;34m(r, N, rc, L)\u001b[0m\n\u001b[1;32m     10\u001b[0m             \u001b[0mdr_ij\u001b[0m \u001b[0;34m=\u001b[0m \u001b[0mpbc_dist\u001b[0m\u001b[0;34m(\u001b[0m\u001b[0mr_ij\u001b[0m\u001b[0;34m,\u001b[0m \u001b[0mL\u001b[0m\u001b[0;34m)\u001b[0m\u001b[0;34m\u001b[0m\u001b[0;34m\u001b[0m\u001b[0m\n\u001b[1;32m     11\u001b[0m \u001b[0;34m\u001b[0m\u001b[0m\n\u001b[0;32m---> 12\u001b[0;31m             \u001b[0;32mif\u001b[0m \u001b[0mdr_ij\u001b[0m \u001b[0;34m<=\u001b[0m \u001b[0mrc\u001b[0m\u001b[0;34m:\u001b[0m \u001b[0mpair_mask\u001b[0m \u001b[0;34m=\u001b[0m \u001b[0mnp\u001b[0m\u001b[0;34m.\u001b[0m\u001b[0mvstack\u001b[0m\u001b[0;34m(\u001b[0m\u001b[0;34m[\u001b[0m\u001b[0mpair_mask\u001b[0m\u001b[0;34m,\u001b[0m \u001b[0mnp\u001b[0m\u001b[0;34m.\u001b[0m\u001b[0marray\u001b[0m\u001b[0;34m(\u001b[0m\u001b[0;34m[\u001b[0m\u001b[0mi\u001b[0m\u001b[0;34m,\u001b[0m \u001b[0mj\u001b[0m\u001b[0;34m]\u001b[0m\u001b[0;34m)\u001b[0m\u001b[0;34m]\u001b[0m\u001b[0;34m)\u001b[0m\u001b[0;34m\u001b[0m\u001b[0;34m\u001b[0m\u001b[0m\n\u001b[0m\u001b[1;32m     13\u001b[0m             \u001b[0;32melse\u001b[0m\u001b[0;34m:\u001b[0m \u001b[0;32mpass\u001b[0m\u001b[0;34m\u001b[0m\u001b[0;34m\u001b[0m\u001b[0m\n\u001b[1;32m     14\u001b[0m \u001b[0;34m\u001b[0m\u001b[0m\n",
      "\u001b[0;32m<__array_function__ internals>\u001b[0m in \u001b[0;36mvstack\u001b[0;34m(*args, **kwargs)\u001b[0m\n",
      "\u001b[0;32m~/miniconda3/envs/Work/lib/python3.8/site-packages/numpy/core/shape_base.py\u001b[0m in \u001b[0;36mvstack\u001b[0;34m(tup)\u001b[0m\n\u001b[1;32m    281\u001b[0m     \u001b[0;32mif\u001b[0m \u001b[0;32mnot\u001b[0m \u001b[0misinstance\u001b[0m\u001b[0;34m(\u001b[0m\u001b[0marrs\u001b[0m\u001b[0;34m,\u001b[0m \u001b[0mlist\u001b[0m\u001b[0;34m)\u001b[0m\u001b[0;34m:\u001b[0m\u001b[0;34m\u001b[0m\u001b[0;34m\u001b[0m\u001b[0m\n\u001b[1;32m    282\u001b[0m         \u001b[0marrs\u001b[0m \u001b[0;34m=\u001b[0m \u001b[0;34m[\u001b[0m\u001b[0marrs\u001b[0m\u001b[0;34m]\u001b[0m\u001b[0;34m\u001b[0m\u001b[0;34m\u001b[0m\u001b[0m\n\u001b[0;32m--> 283\u001b[0;31m     \u001b[0;32mreturn\u001b[0m \u001b[0m_nx\u001b[0m\u001b[0;34m.\u001b[0m\u001b[0mconcatenate\u001b[0m\u001b[0;34m(\u001b[0m\u001b[0marrs\u001b[0m\u001b[0;34m,\u001b[0m \u001b[0;36m0\u001b[0m\u001b[0;34m)\u001b[0m\u001b[0;34m\u001b[0m\u001b[0;34m\u001b[0m\u001b[0m\n\u001b[0m\u001b[1;32m    284\u001b[0m \u001b[0;34m\u001b[0m\u001b[0m\n\u001b[1;32m    285\u001b[0m \u001b[0;34m\u001b[0m\u001b[0m\n",
      "\u001b[0;32m<__array_function__ internals>\u001b[0m in \u001b[0;36mconcatenate\u001b[0;34m(*args, **kwargs)\u001b[0m\n",
      "\u001b[0;31mKeyboardInterrupt\u001b[0m: "
     ]
    }
   ],
   "source": [
    "KINE_Scaling10, POTE_Scaling10 = main(n_steps = 100, N = 500, L = 7.37, dt = 1E-3, TEMPS = 100, init_random = 1, boundary = pbc, update = 100,\n",
    "                                      pair_list_update = 1, rc = 1000., file1 = 'Test.pdb', file2 = 'Vel.txt', file3 = 'POTE.txt', file4 = 'KINE.txt',\n",
    "                                      r_init = r_init, v_init = v_init)"
   ]
  },
  {
   "cell_type": "code",
   "execution_count": 129,
   "id": "7569660d",
   "metadata": {},
   "outputs": [
    {
     "name": "stderr",
     "output_type": "stream",
     "text": [
      "  1%|          | 1/99 [03:27<5:39:11, 207.66s/it]\n"
     ]
    },
    {
     "ename": "KeyboardInterrupt",
     "evalue": "",
     "output_type": "error",
     "traceback": [
      "\u001b[0;31m---------------------------------------------------------------------------\u001b[0m",
      "\u001b[0;31mKeyboardInterrupt\u001b[0m                         Traceback (most recent call last)",
      "\u001b[0;32m<ipython-input-129-d9d6d8a95545>\u001b[0m in \u001b[0;36m<module>\u001b[0;34m\u001b[0m\n\u001b[0;32m----> 1\u001b[0;31m KINE_Scaling10, POTE_Scaling10 = main(n_steps = 100, N = 700, L = 8.24, dt = 1E-3, TEMPS = 100, init_random = 1, boundary = pbc, update = 100,\n\u001b[0m\u001b[1;32m      2\u001b[0m                                       \u001b[0mpair_list_update\u001b[0m \u001b[0;34m=\u001b[0m \u001b[0;36m1\u001b[0m\u001b[0;34m,\u001b[0m \u001b[0mrc\u001b[0m \u001b[0;34m=\u001b[0m \u001b[0;36m1000.\u001b[0m\u001b[0;34m,\u001b[0m \u001b[0mfile1\u001b[0m \u001b[0;34m=\u001b[0m \u001b[0;34m'Test.pdb'\u001b[0m\u001b[0;34m,\u001b[0m \u001b[0mfile2\u001b[0m \u001b[0;34m=\u001b[0m \u001b[0;34m'Vel.txt'\u001b[0m\u001b[0;34m,\u001b[0m \u001b[0mfile3\u001b[0m \u001b[0;34m=\u001b[0m \u001b[0;34m'POTE.txt'\u001b[0m\u001b[0;34m,\u001b[0m \u001b[0mfile4\u001b[0m \u001b[0;34m=\u001b[0m \u001b[0;34m'KINE.txt'\u001b[0m\u001b[0;34m,\u001b[0m\u001b[0;34m\u001b[0m\u001b[0;34m\u001b[0m\u001b[0m\n\u001b[1;32m      3\u001b[0m                                       r_init = r_init, v_init = v_init)\n",
      "\u001b[0;32m<ipython-input-12-a5f6825a816a>\u001b[0m in \u001b[0;36mmain\u001b[0;34m(n_steps, N, L, dt, TEMPS, init_random, boundary, update, pair_list_update, rc, file1, file2, file3, file4, r_init, v_init)\u001b[0m\n\u001b[1;32m     37\u001b[0m     \u001b[0;32mfor\u001b[0m \u001b[0mstep\u001b[0m \u001b[0;32min\u001b[0m \u001b[0mtqdm\u001b[0m\u001b[0;34m(\u001b[0m\u001b[0mrange\u001b[0m\u001b[0;34m(\u001b[0m\u001b[0;36m1\u001b[0m\u001b[0;34m,\u001b[0m \u001b[0mn_steps\u001b[0m\u001b[0;34m)\u001b[0m\u001b[0;34m)\u001b[0m\u001b[0;34m:\u001b[0m\u001b[0;34m\u001b[0m\u001b[0;34m\u001b[0m\u001b[0m\n\u001b[1;32m     38\u001b[0m \u001b[0;34m\u001b[0m\u001b[0m\n\u001b[0;32m---> 39\u001b[0;31m         r, v, f, pote, pair_mask = velocity_verlet(r, v, f, m, eps, sig, dt, boundary, N, L,\n\u001b[0m\u001b[1;32m     40\u001b[0m                                                    pair_list_update, rc, step, pair_mask)\n\u001b[1;32m     41\u001b[0m \u001b[0;34m\u001b[0m\u001b[0m\n",
      "\u001b[0;32m<ipython-input-11-6b03630ed792>\u001b[0m in \u001b[0;36mvelocity_verlet\u001b[0;34m(r, v, f, m, eps, sig, dt, boundary, N, L, pair_list_update, rc, step, pair_mask)\u001b[0m\n\u001b[1;32m      5\u001b[0m     \u001b[0mrdt\u001b[0m\u001b[0;34m,\u001b[0m \u001b[0mv\u001b[0m \u001b[0;34m=\u001b[0m \u001b[0mboundary\u001b[0m\u001b[0;34m(\u001b[0m\u001b[0mrdt\u001b[0m\u001b[0;34m,\u001b[0m \u001b[0mv\u001b[0m\u001b[0;34m,\u001b[0m \u001b[0mL\u001b[0m\u001b[0;34m)\u001b[0m\u001b[0;34m\u001b[0m\u001b[0;34m\u001b[0m\u001b[0m\n\u001b[1;32m      6\u001b[0m \u001b[0;34m\u001b[0m\u001b[0m\n\u001b[0;32m----> 7\u001b[0;31m     \u001b[0;32mif\u001b[0m \u001b[0;32mnot\u001b[0m \u001b[0mstep\u001b[0m \u001b[0;34m%\u001b[0m \u001b[0mpair_list_update\u001b[0m\u001b[0;34m:\u001b[0m \u001b[0mpair_mask\u001b[0m \u001b[0;34m=\u001b[0m \u001b[0mpair_list\u001b[0m\u001b[0;34m(\u001b[0m\u001b[0mrdt\u001b[0m\u001b[0;34m,\u001b[0m \u001b[0mN\u001b[0m\u001b[0;34m,\u001b[0m \u001b[0mrc\u001b[0m\u001b[0;34m,\u001b[0m \u001b[0mL\u001b[0m\u001b[0;34m)\u001b[0m\u001b[0;34m\u001b[0m\u001b[0;34m\u001b[0m\u001b[0m\n\u001b[0m\u001b[1;32m      8\u001b[0m \u001b[0;34m\u001b[0m\u001b[0m\n\u001b[1;32m      9\u001b[0m     \u001b[0mfdt\u001b[0m\u001b[0;34m,\u001b[0m \u001b[0mpote\u001b[0m \u001b[0;34m=\u001b[0m \u001b[0mforce\u001b[0m\u001b[0;34m(\u001b[0m\u001b[0mrdt\u001b[0m\u001b[0;34m,\u001b[0m \u001b[0mN\u001b[0m\u001b[0;34m,\u001b[0m \u001b[0msig\u001b[0m\u001b[0;34m,\u001b[0m \u001b[0meps\u001b[0m\u001b[0;34m,\u001b[0m \u001b[0mpair_mask\u001b[0m\u001b[0;34m,\u001b[0m \u001b[0mL\u001b[0m\u001b[0;34m)\u001b[0m\u001b[0;34m\u001b[0m\u001b[0;34m\u001b[0m\u001b[0m\n",
      "\u001b[0;32m<ipython-input-7-a358fde6477a>\u001b[0m in \u001b[0;36mpair_list\u001b[0;34m(r, N, rc, L)\u001b[0m\n\u001b[1;32m     10\u001b[0m             \u001b[0mdr_ij\u001b[0m \u001b[0;34m=\u001b[0m \u001b[0mpbc_dist\u001b[0m\u001b[0;34m(\u001b[0m\u001b[0mr_ij\u001b[0m\u001b[0;34m,\u001b[0m \u001b[0mL\u001b[0m\u001b[0;34m)\u001b[0m\u001b[0;34m\u001b[0m\u001b[0;34m\u001b[0m\u001b[0m\n\u001b[1;32m     11\u001b[0m \u001b[0;34m\u001b[0m\u001b[0m\n\u001b[0;32m---> 12\u001b[0;31m             \u001b[0;32mif\u001b[0m \u001b[0mdr_ij\u001b[0m \u001b[0;34m<=\u001b[0m \u001b[0mrc\u001b[0m\u001b[0;34m:\u001b[0m \u001b[0mpair_mask\u001b[0m \u001b[0;34m=\u001b[0m \u001b[0mnp\u001b[0m\u001b[0;34m.\u001b[0m\u001b[0mvstack\u001b[0m\u001b[0;34m(\u001b[0m\u001b[0;34m[\u001b[0m\u001b[0mpair_mask\u001b[0m\u001b[0;34m,\u001b[0m \u001b[0mnp\u001b[0m\u001b[0;34m.\u001b[0m\u001b[0marray\u001b[0m\u001b[0;34m(\u001b[0m\u001b[0;34m[\u001b[0m\u001b[0mi\u001b[0m\u001b[0;34m,\u001b[0m \u001b[0mj\u001b[0m\u001b[0;34m]\u001b[0m\u001b[0;34m)\u001b[0m\u001b[0;34m]\u001b[0m\u001b[0;34m)\u001b[0m\u001b[0;34m\u001b[0m\u001b[0;34m\u001b[0m\u001b[0m\n\u001b[0m\u001b[1;32m     13\u001b[0m             \u001b[0;32melse\u001b[0m\u001b[0;34m:\u001b[0m \u001b[0;32mpass\u001b[0m\u001b[0;34m\u001b[0m\u001b[0;34m\u001b[0m\u001b[0m\n\u001b[1;32m     14\u001b[0m \u001b[0;34m\u001b[0m\u001b[0m\n",
      "\u001b[0;32m<__array_function__ internals>\u001b[0m in \u001b[0;36mvstack\u001b[0;34m(*args, **kwargs)\u001b[0m\n",
      "\u001b[0;32m~/miniconda3/envs/Work/lib/python3.8/site-packages/numpy/core/shape_base.py\u001b[0m in \u001b[0;36mvstack\u001b[0;34m(tup)\u001b[0m\n\u001b[1;32m    281\u001b[0m     \u001b[0;32mif\u001b[0m \u001b[0;32mnot\u001b[0m \u001b[0misinstance\u001b[0m\u001b[0;34m(\u001b[0m\u001b[0marrs\u001b[0m\u001b[0;34m,\u001b[0m \u001b[0mlist\u001b[0m\u001b[0;34m)\u001b[0m\u001b[0;34m:\u001b[0m\u001b[0;34m\u001b[0m\u001b[0;34m\u001b[0m\u001b[0m\n\u001b[1;32m    282\u001b[0m         \u001b[0marrs\u001b[0m \u001b[0;34m=\u001b[0m \u001b[0;34m[\u001b[0m\u001b[0marrs\u001b[0m\u001b[0;34m]\u001b[0m\u001b[0;34m\u001b[0m\u001b[0;34m\u001b[0m\u001b[0m\n\u001b[0;32m--> 283\u001b[0;31m     \u001b[0;32mreturn\u001b[0m \u001b[0m_nx\u001b[0m\u001b[0;34m.\u001b[0m\u001b[0mconcatenate\u001b[0m\u001b[0;34m(\u001b[0m\u001b[0marrs\u001b[0m\u001b[0;34m,\u001b[0m \u001b[0;36m0\u001b[0m\u001b[0;34m)\u001b[0m\u001b[0;34m\u001b[0m\u001b[0;34m\u001b[0m\u001b[0m\n\u001b[0m\u001b[1;32m    284\u001b[0m \u001b[0;34m\u001b[0m\u001b[0m\n\u001b[1;32m    285\u001b[0m \u001b[0;34m\u001b[0m\u001b[0m\n",
      "\u001b[0;32m<__array_function__ internals>\u001b[0m in \u001b[0;36mconcatenate\u001b[0;34m(*args, **kwargs)\u001b[0m\n",
      "\u001b[0;31mKeyboardInterrupt\u001b[0m: "
     ]
    }
   ],
   "source": [
    "KINE_Scaling10, POTE_Scaling10 = main(n_steps = 100, N = 700, L = 8.24, dt = 1E-3, TEMPS = 100, init_random = 1, boundary = pbc, update = 100,\n",
    "                                      pair_list_update = 1, rc = 1000., file1 = 'Test.pdb', file2 = 'Vel.txt', file3 = 'POTE.txt', file4 = 'KINE.txt',\n",
    "                                      r_init = r_init, v_init = v_init)"
   ]
  },
  {
   "cell_type": "code",
   "execution_count": 131,
   "id": "de4cd0bb",
   "metadata": {},
   "outputs": [
    {
     "data": {
      "text/plain": [
       "8009"
      ]
     },
     "execution_count": 131,
     "metadata": {},
     "output_type": "execute_result"
    }
   ],
   "source": [
    "2*60*60+13*60+29"
   ]
  },
  {
   "cell_type": "code",
   "execution_count": 134,
   "id": "90ffebd5",
   "metadata": {},
   "outputs": [
    {
     "data": {
      "text/plain": [
       "Text(0, 0.5, 'Time (s)')"
      ]
     },
     "execution_count": 134,
     "metadata": {},
     "output_type": "execute_result"
    },
    {
     "data": {
      "image/png": "[encoded data removed]",
      "text/plain": [
       "<Figure size 432x288 with 1 Axes>"
      ]
     },
     "metadata": {
      "needs_background": "light"
     },
     "output_type": "display_data"
    }
   ],
   "source": [
    "WITH_PAIR = [0, 2, 15, 38, 72]\n",
    "WO_PAIR = [0, 60, 1610, 8009, 20351]\n",
    "N = [10, 100, 300, 500, 700]\n",
    "plt.plot(N, WITH_PAIR, label = 'With Pair-List')\n",
    "plt.plot(N, WO_PAIR, label = 'Without Pair-List')\n",
    "plt.grid(True)\n",
    "plt.title('Scaling with & w/o a Pair List', fontweight = 'bold')\n",
    "plt.xlabel('No. of Particles')\n",
    "plt.ylabel('Time (s)')"
   ]
  },
  {
   "cell_type": "markdown",
   "id": "ad17f8fc",
   "metadata": {},
   "source": [
    "# Not normal"
   ]
  },
  {
   "cell_type": "code",
   "execution_count": 192,
   "id": "642f950e",
   "metadata": {},
   "outputs": [
    {
     "name": "stderr",
     "output_type": "stream",
     "text": [
      "100%|██████████| 99999/99999 [1:06:38<00:00, 25.01it/s]\n"
     ]
    }
   ],
   "source": [
    "KINE_NN, POTE_NN, VEL_NN, TEMP_NN, PRESS_NN, VOL_NN = main(n_steps = 100000, N = 1000, L = 34.60, dt = 1E-3, TEMPS = 300, TEMP0 = 300, PRESS0 = 1, init_random = 1, boundary = pbc, update = 100,\n",
    "                                                                 pair_list_update = 10, rc = 1., rb = 1.5, file1 = 'Test_NN.pdb', file2 = 'Vel_NN.txt', file3 = 'POTE_NN.txt', file4 = 'KINE_NN.txt',\n",
    "                                                                 r_init = r_init, v_init = v_init, static = True, tauT = 1.0, tauP = 1.0, distri = \"uniform\")"
   ]
  },
  {
   "cell_type": "code",
   "execution_count": 193,
   "id": "95b6fe60",
   "metadata": {},
   "outputs": [
    {
     "data": {
      "image/png": "[encoded data removed]",
      "text/plain": [
       "<Figure size 432x288 with 1 Axes>"
      ]
     },
     "metadata": {
      "needs_background": "light"
     },
     "output_type": "display_data"
    }
   ],
   "source": [
    "ax = plt.hist(VEL_NN[0].flatten(), bins = 10)"
   ]
  },
  {
   "cell_type": "code",
   "execution_count": 194,
   "id": "fb087db1",
   "metadata": {},
   "outputs": [
    {
     "data": {
      "text/plain": [
       "(array([  4.,   2.,   9.,   8.,  11.,  32.,  96., 125., 138., 138., 154.,\n",
       "        157., 139., 194., 203., 206., 179., 189., 178., 156., 159., 148.,\n",
       "        127., 111.,  74.,  33.,  15.,   5.,   4.,   6.]),\n",
       " array([-0.72096715, -0.67417933, -0.62739151, -0.58060369, -0.53381587,\n",
       "        -0.48702805, -0.44024022, -0.3934524 , -0.34666458, -0.29987676,\n",
       "        -0.25308894, -0.20630112, -0.1595133 , -0.11272548, -0.06593766,\n",
       "        -0.01914984,  0.02763798,  0.0744258 ,  0.12121362,  0.16800144,\n",
       "         0.21478926,  0.26157708,  0.3083649 ,  0.35515272,  0.40194054,\n",
       "         0.44872836,  0.49551618,  0.542304  ,  0.58909182,  0.63587964,\n",
       "         0.68266746]),\n",
       " <BarContainer object of 30 artists>)"
      ]
     },
     "execution_count": 194,
     "metadata": {},
     "output_type": "execute_result"
    },
    {
     "data": {
      "image/png": "[encoded data removed]",
      "text/plain": [
       "<Figure size 432x288 with 1 Axes>"
      ]
     },
     "metadata": {
      "needs_background": "light"
     },
     "output_type": "display_data"
    }
   ],
   "source": [
    "plt.hist(VEL_NN[-1].flatten(), bins = 30)"
   ]
  },
  {
   "cell_type": "markdown",
   "id": "54402011",
   "metadata": {},
   "source": [
    "# p-V Diagrams"
   ]
  },
  {
   "cell_type": "code",
   "execution_count": 167,
   "id": "691754af",
   "metadata": {},
   "outputs": [],
   "source": [
    "N_Par = 200\n",
    "TEMPER = 100\n",
    "\n",
    "Press = [1, 2, 3, 4, 5, 6, 7, 8, 9, 10, 11, 12, 13, 14, 15, 16]\n",
    "\n",
    "pV_KINE = []\n",
    "pV_POTE = []\n",
    "pV_VEL = []\n",
    "pV_PRESS = []\n",
    "pV_VOL = []"
   ]
  },
  {
   "cell_type": "code",
   "execution_count": 168,
   "id": "9a1eeca7",
   "metadata": {},
   "outputs": [],
   "source": [
    "@numba.jit(nopython = True, fastmath = True)\n",
    "def ideal_volume(T, N, P):\n",
    "    \n",
    "    return ((T * N * 1.38) / (P * 1E+1))**(1./3.)"
   ]
  },
  {
   "cell_type": "code",
   "execution_count": null,
   "id": "8094f6df",
   "metadata": {
    "scrolled": true
   },
   "outputs": [
    {
     "name": "stderr",
     "output_type": "stream",
     "text": [
      "  0%|          | 100/999999 [00:00<36:10, 460.70it/s]"
     ]
    },
    {
     "name": "stdout",
     "output_type": "stream",
     "text": [
      "14.027\n"
     ]
    },
    {
     "name": "stderr",
     "output_type": "stream",
     "text": [
      "100%|██████████| 999999/999999 [26:08<00:00, 637.52it/s]\n",
      "  0%|          | 140/999999 [00:00<26:59, 617.34it/s]"
     ]
    },
    {
     "name": "stdout",
     "output_type": "stream",
     "text": [
      "11.133\n"
     ]
    },
    {
     "name": "stderr",
     "output_type": "stream",
     "text": [
      " 12%|█▏        | 117169/999999 [03:13<23:29, 626.40it/s]"
     ]
    }
   ],
   "source": [
    "for p in Press:\n",
    "\n",
    "    id_L = np.round(ideal_volume(T = TEMPER, N = N_Par, P = p), 3)\n",
    "    \n",
    "    print(id_L)\n",
    "\n",
    "    KINE, POTE, VEL, TEMP, PRESS, VOL = main(n_steps = 1000000, N = N_Par, L = id_L, dt = 1E-3,\n",
    "                                             TEMPS = TEMPER, TEMP0 = TEMPER, PRESS0 = p, init_random = True,\n",
    "                                             boundary = pbc, update = 100,\n",
    "                                             pair_list_update = 10, rc = 1., rb = 1.5,\n",
    "                                             file1 = 'Test.pdb', file2 = 'Vel.txt',\n",
    "                                             file3 = 'POTE.txt', file4 = 'KINE.txt',\n",
    "                                             static = True, tauT = 1.0, tauP = .5)\n",
    "\n",
    "    pV_KINE.append(KINE)\n",
    "    pV_POTE.append(POTE)\n",
    "    pV_VEL.append(VEL)\n",
    "    pV_PRESS.append(PRESS)\n",
    "    pV_VOL.append(VOL)\n",
    "    "
   ]
  },
  {
   "cell_type": "code",
   "execution_count": 56,
   "id": "cebf0ec9",
   "metadata": {},
   "outputs": [
    {
     "data": {
      "image/png": "[encoded data removed]",
      "text/plain": [
       "<Figure size 432x288 with 1 Axes>"
      ]
     },
     "metadata": {
      "needs_background": "light"
     },
     "output_type": "display_data"
    }
   ],
   "source": [
    "Vol = []\n",
    "for vol in pV_VOL:\n",
    "    Vol.append(vol[-10:].mean())\n",
    "    plt.plot(vol)"
   ]
  },
  {
   "cell_type": "code",
   "execution_count": 42,
   "id": "f110ecfc",
   "metadata": {},
   "outputs": [],
   "source": [
    "pressure = [1, 2, 3, 4, 5, 6, 7, 8, 9, 10, 11, 12]"
   ]
  },
  {
   "cell_type": "code",
   "execution_count": 44,
   "id": "8965f8a2",
   "metadata": {},
   "outputs": [
    {
     "data": {
      "text/plain": [
       "[<matplotlib.lines.Line2D at 0x7fd5a0f43f70>]"
      ]
     },
     "execution_count": 44,
     "metadata": {},
     "output_type": "execute_result"
    },
    {
     "data": {
      "image/png": "[encoded data removed]",
      "text/plain": [
       "<Figure size 432x288 with 1 Axes>"
      ]
     },
     "metadata": {
      "needs_background": "light"
     },
     "output_type": "display_data"
    }
   ],
   "source": [
    "plt.plot(pressure, Vol)\n",
    "plt.plot(pressure, [ideal_volume(T = 40, N = 100, P = p)**3 for p in pressure], \"-\")"
   ]
  },
  {
   "cell_type": "code",
   "execution_count": 316,
   "id": "f08901d9",
   "metadata": {},
   "outputs": [
    {
     "data": {
      "text/plain": [
       "[<matplotlib.lines.Line2D at 0x7f330b0290d0>]"
      ]
     },
     "execution_count": 316,
     "metadata": {},
     "output_type": "execute_result"
    },
    {
     "data": {
      "image/png": "[encoded data removed]",
      "text/plain": [
       "<Figure size 432x288 with 1 Axes>"
      ]
     },
     "metadata": {
      "needs_background": "light"
     },
     "output_type": "display_data"
    }
   ],
   "source": [
    "plt.plot(P, V, \"-\")\n",
    "plt.plot(P, [ideal_volume(T = 40, N = 100, P = p)**3 for p in P], \"-\")"
   ]
  },
  {
   "cell_type": "code",
   "execution_count": 294,
   "id": "cc31613b",
   "metadata": {},
   "outputs": [
    {
     "data": {
      "text/plain": [
       "[3.2554150357632157,\n",
       " 4.514357435474001,\n",
       " 6.510830071526431,\n",
       " 3.583047871015946,\n",
       " 5.167649252363622,\n",
       " 3.807556523926606]"
      ]
     },
     "execution_count": 294,
     "metadata": {},
     "output_type": "execute_result"
    }
   ],
   "source": [
    "[ideal_volume(T = 40, N = 100, P = p) for p in P]"
   ]
  },
  {
   "cell_type": "code",
   "execution_count": 239,
   "id": "60008ea0",
   "metadata": {},
   "outputs": [
    {
     "data": {
      "image/png": "[encoded data removed]",
      "text/plain": [
       "<Figure size 432x288 with 1 Axes>"
      ]
     },
     "metadata": {
      "needs_background": "light"
     },
     "output_type": "display_data"
    }
   ],
   "source": [
    "vol = []\n",
    "for p in pV_VOL:\n",
    "    plt.plot(p[:])\n",
    "    vol.append(p[:].mean())"
   ]
  },
  {
   "cell_type": "code",
   "execution_count": 256,
   "id": "fbdfb377",
   "metadata": {},
   "outputs": [
    {
     "data": {
      "text/plain": [
       "[<matplotlib.lines.Line2D at 0x7f330b574970>]"
      ]
     },
     "execution_count": 256,
     "metadata": {},
     "output_type": "execute_result"
    },
    {
     "data": {
      "image/png": "[encoded data removed]",
      "text/plain": [
       "<Figure size 432x288 with 1 Axes>"
      ]
     },
     "metadata": {
      "needs_background": "light"
     },
     "output_type": "display_data"
    }
   ],
   "source": [
    "plt.plot(pV_VOL[0])"
   ]
  },
  {
   "cell_type": "code",
   "execution_count": 241,
   "id": "c1bea9eb",
   "metadata": {},
   "outputs": [
    {
     "data": {
      "text/plain": [
       "[<matplotlib.lines.Line2D at 0x7f330b0c0940>]"
      ]
     },
     "execution_count": 241,
     "metadata": {},
     "output_type": "execute_result"
    },
    {
     "data": {
      "image/png": "[encoded data removed]",
      "text/plain": [
       "<Figure size 432x288 with 1 Axes>"
      ]
     },
     "metadata": {
      "needs_background": "light"
     },
     "output_type": "display_data"
    }
   ],
   "source": [
    "plt.plot(Press, vol)\n",
    "plt.xlim(0, )"
   ]
  },
  {
   "cell_type": "code",
   "execution_count": null,
   "id": "2b726efc",
   "metadata": {},
   "outputs": [],
   "source": []
  },
  {
   "cell_type": "code",
   "execution_count": null,
   "id": "7d8c7177",
   "metadata": {},
   "outputs": [],
   "source": []
  },
  {
   "cell_type": "code",
   "execution_count": null,
   "id": "2d3c77ee",
   "metadata": {},
   "outputs": [],
   "source": []
  }
 ],
 "metadata": {
  "kernelspec": {
   "display_name": "Python 3",
   "language": "python",
   "name": "python3"
  },
  "language_info": {
   "codemirror_mode": {
    "name": "ipython",
    "version": 3
   },
   "file_extension": ".py",
   "mimetype": "text/x-python",
   "name": "python",
   "nbconvert_exporter": "python",
   "pygments_lexer": "ipython3",
   "version": "3.9.4"
  }
 },
 "nbformat": 4,
 "nbformat_minor": 5
}

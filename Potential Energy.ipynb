{
 "cells": [
  {
   "cell_type": "code",
   "execution_count": 122,
   "id": "2e8352a8",
   "metadata": {},
   "outputs": [],
   "source": [
    "import numpy as np\n",
    "import matplotlib.pyplot as plt\n",
    "from scipy import constants\n",
    "from tqdm import tqdm\n",
    "import numba\n",
    "import time"
   ]
  },
  {
   "cell_type": "markdown",
   "id": "58070db6",
   "metadata": {},
   "source": [
    "# Introduction to NUMBA"
   ]
  },
  {
   "cell_type": "markdown",
   "id": "51a1cfb1",
   "metadata": {},
   "source": [
    "## What is NUMBA? "
   ]
  },
  {
   "cell_type": "markdown",
   "id": "1f447240",
   "metadata": {},
   "source": [
    "NUMBA is a just-in-time compiler (JIT) to translate code written in Python into **optimized** machine code! It replaces thereby the slower Python interpreter to modify and compile your code. An huge advantage of NUMBA is its\n",
    "compatibility with for-loops *and* with numpy functions! Our trade-off between manual code modifications and performance gain should be therefore minimal."
   ]
  },
  {
   "cell_type": "markdown",
   "id": "bc505e7e",
   "metadata": {},
   "source": [
    "## Gimme speed!!!"
   ]
  },
  {
   "cell_type": "code",
   "execution_count": 21,
   "id": "ce755c68-0322-495c-8207-749074c32764",
   "metadata": {},
   "outputs": [],
   "source": [
    "def example(pos):\n",
    "    \n",
    "    N = len(pos)\n",
    "    distances = np.zeros(N)\n",
    "    \n",
    "    i = 0\n",
    "    \n",
    "    for r1 in pos:\n",
    "        for r2 in pos:\n",
    "            \n",
    "            distances[i] = np.sqrt(np.sum((r1-r2)**2))\n",
    "            \n",
    "    return 'Success'"
   ]
  },
  {
   "cell_type": "code",
   "execution_count": 24,
   "id": "ebed6db1-4d5d-48da-bdf9-c67c9cb77c42",
   "metadata": {},
   "outputs": [],
   "source": [
    "@numba.jit(nopython = True, fastmath = True)\n",
    "def example_with_numba(pos):\n",
    "    \n",
    "    N = len(pos)\n",
    "    distances = np.zeros(N)\n",
    "    \n",
    "    i = 0\n",
    "    \n",
    "    for r1 in pos:\n",
    "        for r2 in pos:\n",
    "            \n",
    "            distances[i] = np.sqrt(np.sum((r1-r2)**2))\n",
    "            \n",
    "    return 'Success'"
   ]
  },
  {
   "cell_type": "code",
   "execution_count": 12,
   "id": "a7a5e9a5-7d30-4b53-849e-d5c3e57169d5",
   "metadata": {},
   "outputs": [],
   "source": [
    "POS = np.random.randn(200, 3)"
   ]
  },
  {
   "cell_type": "code",
   "execution_count": 28,
   "id": "ecc6bebb-c77e-4d07-acd5-af433c7e3b2a",
   "metadata": {},
   "outputs": [
    {
     "name": "stdout",
     "output_type": "stream",
     "text": [
      "1.37 s ± 3.39 ms per loop (mean ± std. dev. of 7 runs, 1 loop each)\n"
     ]
    }
   ],
   "source": [
    "%timeit example(POS)"
   ]
  },
  {
   "cell_type": "code",
   "execution_count": 29,
   "id": "f18a3a74-dd7d-4772-bfd4-8701133388c5",
   "metadata": {},
   "outputs": [
    {
     "name": "stdout",
     "output_type": "stream",
     "text": [
      "5.27 ms ± 27.8 µs per loop (mean ± std. dev. of 7 runs, 100 loops each)\n"
     ]
    }
   ],
   "source": [
    "%timeit example_with_numba(POS)"
   ]
  },
  {
   "cell_type": "code",
   "execution_count": 65,
   "id": "bf30c783-1228-4276-9d85-e7282ba738e6",
   "metadata": {},
   "outputs": [],
   "source": [
    "#Caveat 1 - First compilation!"
   ]
  },
  {
   "cell_type": "code",
   "execution_count": 41,
   "id": "f4bef3fc-1952-4df2-ab75-c5591fb15179",
   "metadata": {},
   "outputs": [
    {
     "name": "stdout",
     "output_type": "stream",
     "text": [
      "First compilation: 0.6662006378173828\n",
      "Second compilation: 0.0067098140716552734\n"
     ]
    }
   ],
   "source": [
    "try: del example_with_numba_caveat\n",
    "except: pass\n",
    "\n",
    "@numba.jit(nopython = True, fastmath = True)\n",
    "def example_with_numba_caveat(pos):\n",
    "    \n",
    "    N = len(pos)\n",
    "    distances = np.zeros(N)\n",
    "    \n",
    "    i = 0\n",
    "    \n",
    "    for r1 in pos:\n",
    "        for r2 in pos:\n",
    "            \n",
    "            distances[i] = np.sqrt(np.sum((r1-r2)**2))\n",
    "            \n",
    "    return 'Success'\n",
    "\n",
    "POS = np.random.randn(200, 3)\n",
    "start_time = time.time()\n",
    "example_with_numba_caveat(POS)\n",
    "print('First compilation:', time.time() - start_time)\n",
    "start_time = time.time()\n",
    "example_with_numba_caveat(POS)\n",
    "print('Second compilation:', time.time() - start_time)"
   ]
  },
  {
   "cell_type": "code",
   "execution_count": 66,
   "id": "42650e38-d338-4c15-a781-ad52e1538079",
   "metadata": {},
   "outputs": [],
   "source": [
    "#Caveat 2 - Cryptic Errors!"
   ]
  },
  {
   "cell_type": "code",
   "execution_count": 67,
   "id": "04e71746-5567-42f8-aec3-fa8b0134326a",
   "metadata": {},
   "outputs": [],
   "source": [
    "@numba.jit(nopython = True, fastmath = True)\n",
    "def example_with_numba_caveat_2(pos):\n",
    "    \n",
    "    Mean = np.mean(pos, axis = 0)\n",
    "            \n",
    "    return Mean"
   ]
  },
  {
   "cell_type": "code",
   "execution_count": 68,
   "id": "904633a7-b24e-4600-b809-0c6eb45c733c",
   "metadata": {},
   "outputs": [
    {
     "ename": "TypingError",
     "evalue": "Failed in nopython mode pipeline (step: nopython frontend)\nNo implementation of function Function(<function mean at 0x7f298e8ea820>) found for signature:\n \n >>> mean(array(float64, 2d, C), axis=Literal[int](0))\n \nThere are 2 candidate implementations:\n    - Of which 2 did not match due to:\n    Overload in function 'Numpy_method_redirection.generic': File: numba/core/typing/npydecl.py: Line 348.\n      With argument(s): '(array(float64, 2d, C), axis=Literal[int](0))':\n     Rejected as the implementation raised a specific error:\n       TypingError: numba doesn't support kwarg for mean\n  raised from /home/marius/miniconda3/envs/Work/lib/python3.8/site-packages/numba/core/typing/npydecl.py:370\n\nDuring: resolving callee type: Function(<function mean at 0x7f298e8ea820>)\nDuring: typing of call at <ipython-input-67-7c0cca029ba5> (4)\n\n\nFile \"<ipython-input-67-7c0cca029ba5>\", line 4:\ndef example_with_numba_caveat_2(pos):\n    <source elided>\n    \n    Mean = np.mean(pos, axis = 0)\n    ^\n",
     "output_type": "error",
     "traceback": [
      "\u001b[0;31m---------------------------------------------------------------------------\u001b[0m",
      "\u001b[0;31mTypingError\u001b[0m                               Traceback (most recent call last)",
      "\u001b[0;32m<ipython-input-68-9d107f20d117>\u001b[0m in \u001b[0;36m<module>\u001b[0;34m\u001b[0m\n\u001b[1;32m      1\u001b[0m \u001b[0mPOS\u001b[0m \u001b[0;34m=\u001b[0m \u001b[0mnp\u001b[0m\u001b[0;34m.\u001b[0m\u001b[0mrandom\u001b[0m\u001b[0;34m.\u001b[0m\u001b[0mrandn\u001b[0m\u001b[0;34m(\u001b[0m\u001b[0;36m200\u001b[0m\u001b[0;34m,\u001b[0m \u001b[0;36m3\u001b[0m\u001b[0;34m)\u001b[0m\u001b[0;34m\u001b[0m\u001b[0;34m\u001b[0m\u001b[0m\n\u001b[0;32m----> 2\u001b[0;31m \u001b[0mexample_with_numba_caveat_2\u001b[0m\u001b[0;34m(\u001b[0m\u001b[0mPOS\u001b[0m\u001b[0;34m)\u001b[0m\u001b[0;34m\u001b[0m\u001b[0;34m\u001b[0m\u001b[0m\n\u001b[0m",
      "\u001b[0;32m~/miniconda3/envs/Work/lib/python3.8/site-packages/numba/core/dispatcher.py\u001b[0m in \u001b[0;36m_compile_for_args\u001b[0;34m(self, *args, **kws)\u001b[0m\n\u001b[1;32m    418\u001b[0m                 \u001b[0me\u001b[0m\u001b[0;34m.\u001b[0m\u001b[0mpatch_message\u001b[0m\u001b[0;34m(\u001b[0m\u001b[0mmsg\u001b[0m\u001b[0;34m)\u001b[0m\u001b[0;34m\u001b[0m\u001b[0;34m\u001b[0m\u001b[0m\n\u001b[1;32m    419\u001b[0m \u001b[0;34m\u001b[0m\u001b[0m\n\u001b[0;32m--> 420\u001b[0;31m             \u001b[0merror_rewrite\u001b[0m\u001b[0;34m(\u001b[0m\u001b[0me\u001b[0m\u001b[0;34m,\u001b[0m \u001b[0;34m'typing'\u001b[0m\u001b[0;34m)\u001b[0m\u001b[0;34m\u001b[0m\u001b[0;34m\u001b[0m\u001b[0m\n\u001b[0m\u001b[1;32m    421\u001b[0m         \u001b[0;32mexcept\u001b[0m \u001b[0merrors\u001b[0m\u001b[0;34m.\u001b[0m\u001b[0mUnsupportedError\u001b[0m \u001b[0;32mas\u001b[0m \u001b[0me\u001b[0m\u001b[0;34m:\u001b[0m\u001b[0;34m\u001b[0m\u001b[0;34m\u001b[0m\u001b[0m\n\u001b[1;32m    422\u001b[0m             \u001b[0;31m# Something unsupported is present in the user code, add help info\u001b[0m\u001b[0;34m\u001b[0m\u001b[0;34m\u001b[0m\u001b[0;34m\u001b[0m\u001b[0m\n",
      "\u001b[0;32m~/miniconda3/envs/Work/lib/python3.8/site-packages/numba/core/dispatcher.py\u001b[0m in \u001b[0;36merror_rewrite\u001b[0;34m(e, issue_type)\u001b[0m\n\u001b[1;32m    359\u001b[0m                 \u001b[0;32mraise\u001b[0m \u001b[0me\u001b[0m\u001b[0;34m\u001b[0m\u001b[0;34m\u001b[0m\u001b[0m\n\u001b[1;32m    360\u001b[0m             \u001b[0;32melse\u001b[0m\u001b[0;34m:\u001b[0m\u001b[0;34m\u001b[0m\u001b[0;34m\u001b[0m\u001b[0m\n\u001b[0;32m--> 361\u001b[0;31m                 \u001b[0;32mraise\u001b[0m \u001b[0me\u001b[0m\u001b[0;34m.\u001b[0m\u001b[0mwith_traceback\u001b[0m\u001b[0;34m(\u001b[0m\u001b[0;32mNone\u001b[0m\u001b[0;34m)\u001b[0m\u001b[0;34m\u001b[0m\u001b[0;34m\u001b[0m\u001b[0m\n\u001b[0m\u001b[1;32m    362\u001b[0m \u001b[0;34m\u001b[0m\u001b[0m\n\u001b[1;32m    363\u001b[0m         \u001b[0margtypes\u001b[0m \u001b[0;34m=\u001b[0m \u001b[0;34m[\u001b[0m\u001b[0;34m]\u001b[0m\u001b[0;34m\u001b[0m\u001b[0;34m\u001b[0m\u001b[0m\n",
      "\u001b[0;31mTypingError\u001b[0m: Failed in nopython mode pipeline (step: nopython frontend)\nNo implementation of function Function(<function mean at 0x7f298e8ea820>) found for signature:\n \n >>> mean(array(float64, 2d, C), axis=Literal[int](0))\n \nThere are 2 candidate implementations:\n    - Of which 2 did not match due to:\n    Overload in function 'Numpy_method_redirection.generic': File: numba/core/typing/npydecl.py: Line 348.\n      With argument(s): '(array(float64, 2d, C), axis=Literal[int](0))':\n     Rejected as the implementation raised a specific error:\n       TypingError: numba doesn't support kwarg for mean\n  raised from /home/marius/miniconda3/envs/Work/lib/python3.8/site-packages/numba/core/typing/npydecl.py:370\n\nDuring: resolving callee type: Function(<function mean at 0x7f298e8ea820>)\nDuring: typing of call at <ipython-input-67-7c0cca029ba5> (4)\n\n\nFile \"<ipython-input-67-7c0cca029ba5>\", line 4:\ndef example_with_numba_caveat_2(pos):\n    <source elided>\n    \n    Mean = np.mean(pos, axis = 0)\n    ^\n"
     ]
    }
   ],
   "source": [
    "POS = np.random.randn(200, 3)\n",
    "example_with_numba_caveat_2(POS)"
   ]
  },
  {
   "cell_type": "code",
   "execution_count": 69,
   "id": "6d521839-6925-4c69-915a-8902ca6466d9",
   "metadata": {},
   "outputs": [],
   "source": [
    "# MD - Code"
   ]
  },
  {
   "cell_type": "code",
   "execution_count": 2,
   "id": "8bba1d67-e22a-4806-acf4-7e32bf6a11bf",
   "metadata": {},
   "outputs": [],
   "source": [
    "def init_pos(N, Grid, L):\n",
    "    \n",
    "    xmin = ymin = zmin = Grid\n",
    "    xmax = ymax = zmax = L\n",
    "    \n",
    "    X, Y, Z = np.mgrid[xmin:xmax:Grid, ymin:ymax:Grid, zmin:zmax:Grid]\n",
    "    positions = np.vstack([X.ravel(), Y.ravel(), Z.ravel()])\n",
    "    init = np.random.choice(len(positions.T), replace = False, size = N)\n",
    "    \n",
    "    return positions.T[init]\n",
    "\n",
    "def init_vel(N, SD, DIS):\n",
    "    \n",
    "    if DIS == 'normal':\n",
    "        assert SD > 0, 'STD should be > 0'\n",
    "        \n",
    "        return np.random.normal(size = (N, 3), loc = 0, scale = SD)\n",
    "    \n",
    "    if DIS == 'uniform':\n",
    "        \n",
    "        return np.random.uniform(size = (N, 3))\n",
    "    \n",
    "def init(N, Grid, L, SD, DIS):\n",
    "    \n",
    "    return init_pos(N, Grid, L), init_vel(N, SD, DIS)"
   ]
  },
  {
   "cell_type": "code",
   "execution_count": 3,
   "id": "8435b13e",
   "metadata": {},
   "outputs": [],
   "source": [
    "def write_file(FILE1, FILE2, FILE3, FILE4, coords, vels, PE, KE, n_iter):\n",
    "\n",
    "\n",
    "    #Coordinates are round to the second decimal position to faciliate saving\n",
    "    round_ = 2\n",
    "\n",
    "    #Write head for each frame12     \n",
    "    FILE1.write('Model {}\\n'.format(n_iter)) #Start of a frame\n",
    "    FILE2.write('Model {}\\n'.format(n_iter)) #Start of a frame\n",
    "    N = coords.shape[0]\n",
    "\n",
    "    #Just iterate over all coordinates and write them down line per line\n",
    "    for i in range(N):\n",
    "\n",
    "        #The PDB-formate is really strict the line below is from: https://cupnet.net/pdb-format/\n",
    "\n",
    "        #ATOM  #ID   #NAME     #RESN      #RESID          #X    #Y     #Z\n",
    "        coord_str = \"{:6s}{:5d} {:^4s}{:1s}{:3s} {:1s}{:4d}{:1s}   {:8.3f}{:8.3f}{:8.3f}{:6.2f}{:6.2f}          {:>2s}{:2s}\\n\".format('ATOM', int(i),\n",
    "                                                                                                                         'PAR', ' ', 'ARG',\n",
    "                                                                                                                         ' ', int(i), ' ',\n",
    "                                                                                                                         np.round(coords[i][0], round_)*10,\n",
    "                                                                                                                         np.round(coords[i][1], round_)*10,\n",
    "                                                                                                                         np.round(coords[i][2], round_)*10,\n",
    "                                                                                                                          1.0, 1.0, 'ARG', ' ')\n",
    "\n",
    "\n",
    "        FILE1.write(coord_str) #Write coordinates\n",
    "        FILE2.write('{}\\t\\t{}\\t\\t{}\\n'.format(vels[i][0], vels[i][1], vels[i][2])) #Write velocities\n",
    "    FILE1.write('TER\\nENDMDL\\n') #End of a frame\n",
    "\n",
    "    #Write down Temperature, Pressure and Volume\n",
    "    FILE3.write('{};{}\\n'.format(n_iter, PE))\n",
    "    FILE4.write('{};{}\\n'.format(n_iter, KE))\n",
    "                                                "
   ]
  },
  {
   "cell_type": "code",
   "execution_count": 4,
   "id": "f93467a6",
   "metadata": {},
   "outputs": [],
   "source": [
    "@numba.jit(nopython = True, fastmath = True)\n",
    "def pbc_dist(r_ij, L):\n",
    "    \n",
    "    dist_vec = np.zeros(3)\n",
    "    \n",
    "    for i in range(3):\n",
    "        \n",
    "        abs_liste = np.array([r_ij[i], r_ij[i] + L, r_ij[i] - L])\n",
    "        argmin_abs = np.argmin(np.abs(abs_liste))\n",
    "        \n",
    "        dist_vec[i] = abs_liste[argmin_abs]\n",
    "        \n",
    "    dist = np.linalg.norm(dist_vec)\n",
    "        \n",
    "    return dist, dist_vec"
   ]
  },
  {
   "cell_type": "code",
   "execution_count": 5,
   "id": "7320a999",
   "metadata": {},
   "outputs": [],
   "source": [
    "@numba.jit(nopython = True, fastmath = True)\n",
    "def pair_list(r, N, rc, L):\n",
    "    \n",
    "    pair_list_x = []\n",
    "    pair_list_y = []\n",
    "    \n",
    "    for i in range(0, N):\n",
    "        for j in range(i+1, N):\n",
    "            \n",
    "            diff_ij = r[i] - r[j]\n",
    "            \n",
    "            dr_ij, r_ij = pbc_dist(diff_ij, L)\n",
    "            \n",
    "            if dr_ij <= rc: \n",
    "                pair_list_x.append(i)\n",
    "                pair_list_y.append(j)\n",
    "                \n",
    "            else: pass\n",
    "    \n",
    "    return np.array([pair_list_x, pair_list_y], dtype = np.int32)"
   ]
  },
  {
   "cell_type": "code",
   "execution_count": 6,
   "id": "fd4b651d-c1d8-4a51-bd84-16232dd800c0",
   "metadata": {},
   "outputs": [],
   "source": [
    "N = 1000\n",
    "r = np.random.uniform(-1, 11, (N, 3))\n",
    "rc = 1000\n",
    "L = 10"
   ]
  },
  {
   "cell_type": "code",
   "execution_count": 13,
   "id": "3b4559ee",
   "metadata": {},
   "outputs": [
    {
     "data": {
      "text/plain": [
       "array([[  0,   0,   0, ..., 997, 997, 998],\n",
       "       [  1,   2,   3, ..., 998, 999, 999]], dtype=int32)"
      ]
     },
     "execution_count": 13,
     "metadata": {},
     "output_type": "execute_result"
    }
   ],
   "source": [
    "pair_list(r, N, rc, L)"
   ]
  },
  {
   "cell_type": "code",
   "execution_count": 14,
   "id": "98362d45-9b39-4080-b54d-265547bef93e",
   "metadata": {},
   "outputs": [
    {
     "name": "stdout",
     "output_type": "stream",
     "text": [
      "384 ms ± 16.9 ms per loop (mean ± std. dev. of 7 runs, 1 loop each)\n"
     ]
    }
   ],
   "source": [
    "%timeit pair_list(r, N, rc, L) #No Numba -> 1000 Particles -> 48.9 s"
   ]
  },
  {
   "cell_type": "code",
   "execution_count": 11,
   "id": "c73263a2-b661-4d54-b6e8-058a6b0712e2",
   "metadata": {},
   "outputs": [
    {
     "name": "stdout",
     "output_type": "stream",
     "text": [
      "819 ms ± 6.04 ms per loop (mean ± std. dev. of 7 runs, 1 loop each)\n"
     ]
    }
   ],
   "source": [
    "%timeit pair_list(r, N, rc, L) #With Numba -> 1000 Particles -> 819ms"
   ]
  },
  {
   "cell_type": "code",
   "execution_count": 8,
   "id": "bc30d98e-630d-435c-b1f9-e20052d007fd",
   "metadata": {},
   "outputs": [
    {
     "name": "stdout",
     "output_type": "stream",
     "text": [
      "827 ms ± 17.8 ms per loop (mean ± std. dev. of 7 runs, 1 loop each)\n"
     ]
    }
   ],
   "source": [
    "%timeit pair_list(r, N, rc, L) #With Numba and Fastmath -> 1000 Particles -> 827 ms"
   ]
  },
  {
   "cell_type": "code",
   "execution_count": 19,
   "id": "925f5e35-64ef-427b-a686-ed8462971be5",
   "metadata": {},
   "outputs": [],
   "source": [
    "N = 1000\n",
    "r = np.random.uniform(-1, 11, (N, 3)) * np.random.randn(N, 3) + 10\n",
    "rc = 1000\n",
    "L = 10\n",
    "pl = pair_list(r, N, rc, L)"
   ]
  },
  {
   "cell_type": "code",
   "execution_count": 63,
   "id": "8de05a57-fc05-4eb1-8983-b84b5af73a29",
   "metadata": {},
   "outputs": [
    {
     "name": "stdout",
     "output_type": "stream",
     "text": [
      "18.5 s ± 28.2 ms per loop (mean ± std. dev. of 7 runs, 1 loop each)\n"
     ]
    }
   ],
   "source": [
    "%timeit force(r, N, 1, 0.34, pl, L) #No Numba -> 1000 Particles -> 18.5s"
   ]
  },
  {
   "cell_type": "code",
   "execution_count": 53,
   "id": "42a1cc19-19c4-44a7-80c7-a7552d2edc3f",
   "metadata": {},
   "outputs": [
    {
     "name": "stdout",
     "output_type": "stream",
     "text": [
      "191 ms ± 2.78 ms per loop (mean ± std. dev. of 7 runs, 1 loop each)\n"
     ]
    }
   ],
   "source": [
    "%timeit force(r, N, 1, 0.34, pl, L) #Numba -> 1000 Particles -> 191ms"
   ]
  },
  {
   "cell_type": "code",
   "execution_count": 6,
   "id": "79a8ed25",
   "metadata": {},
   "outputs": [],
   "source": [
    "@numba.jit(nopython = True, fastmath = True)\n",
    "def kinetic(v, m):\n",
    "    \n",
    "    return 0.5 * m * np.sum(v**2)"
   ]
  },
  {
   "cell_type": "code",
   "execution_count": 13,
   "id": "976edd5c-f7f3-4468-9a56-90ee12841c5b",
   "metadata": {},
   "outputs": [],
   "source": [
    "#@numba.jit(nopython = True, fastmath = True)\n",
    "#def pbc(r, v, L):\n",
    "#    r %= L\n",
    "#    v -= np.mean(a = v, axis = 0)   \n",
    "#    return r, v\n",
    "\n",
    "@numba.jit(nopython = True, fastmath = True)\n",
    "def pbc(r, v, L):\n",
    "    \n",
    "    r %= L\n",
    "    \n",
    "    mean = np.zeros(3)\n",
    "    counter = 0\n",
    "    for vec in v:\n",
    "        mean += vec\n",
    "        counter +=1\n",
    "    mean /= counter\n",
    "    v -= mean #np.mean(a = v, axis = 0)\n",
    "    \n",
    "    return r, v"
   ]
  },
  {
   "cell_type": "code",
   "execution_count": 14,
   "id": "3d1c6777",
   "metadata": {},
   "outputs": [],
   "source": [
    "@numba.jit(nopython = True, fastmath = True)\n",
    "def pressure(N, V, T, dV):\n",
    "    \n",
    "    NA = 6.02214086\n",
    "    \n",
    "    S1 = N * constants.R * 1E-3 * T\n",
    "    \n",
    "    S2 = 1.0/3.0 * 1.0/2.0 * dV\n",
    "    \n",
    "    return ((S1 - S2) / V) * (1E+2 / NA)\n",
    "\n",
    "\n",
    "@numba.jit(nopython = True, fastmath = True)\n",
    "def force(rdt, N, sig, eps, pair_mask, L, rc, T):\n",
    "    \n",
    "    f = np.zeros((N, 3))\n",
    "    \n",
    "    Vol = L * L * L\n",
    "    \n",
    "    dV_sum = 0\n",
    "    \n",
    "    pote = 0\n",
    "    \n",
    "    for pair in pair_mask.T:\n",
    "        \n",
    "        i, j = pair\n",
    "            \n",
    "        diff_ij = rdt[i] - rdt[j]\n",
    "            \n",
    "        dr_ij, r_ij = pbc_dist(diff_ij, L)\n",
    "        \n",
    "        if dr_ij <= rc:\n",
    "            \n",
    "            dV = 48. * eps * ((sig**12)*(dr_ij**-13) - 0.5 *  (sig**6)*(dr_ij**-7))\n",
    "        \n",
    "            f_ij = dV / dr_ij * r_ij\n",
    "\n",
    "            f[i] += f_ij\n",
    "            f[j] -= f_ij\n",
    "        \n",
    "            pote += 4. * eps * ((sig/dr_ij)**12 - (sig/dr_ij)**6)\n",
    "            \n",
    "            dV_sum += dV\n",
    "            \n",
    "    p = pressure(N, Vol, T, dV_sum)\n",
    "    \n",
    "    return f, pote, p\n",
    "\n",
    "@numba.jit(nopython = True, fastmath = True)\n",
    "def velocity_verlet(r, v, f, m, eps, sig, dt, boundary, N, L, pair_list_update, rc, rb, step, pair_mask, T):\n",
    "    \n",
    "    rdt = r + dt * v + f * dt**2 / 2 / m\n",
    "\n",
    "    rdt, v = boundary(rdt, v, L)\n",
    "    \n",
    "    if not step % pair_list_update: pair_mask = pair_list(rdt, N, rb, L)\n",
    "    \n",
    "    fdt, pote, press = force(rdt, N, sig, eps, pair_mask, L, rc, T) \n",
    "    \n",
    "    vdt = v + dt * (f + fdt) / 2 / m\n",
    "    \n",
    "    return rdt, vdt, fdt, pote, pair_mask, press\n",
    "    \n",
    "    "
   ]
  },
  {
   "cell_type": "code",
   "execution_count": 15,
   "id": "26935bee-198c-46d8-8715-5211a3010ba3",
   "metadata": {},
   "outputs": [],
   "source": [
    "@numba.jit(nopython = True, fastmath = True)\n",
    "def ideal_volume(T, N, P):\n",
    "    \n",
    "    return ((T * N * 1.38 * 1E-23) / (P * 1E+5 * 1E-27))**(1./3.)"
   ]
  },
  {
   "cell_type": "code",
   "execution_count": 16,
   "id": "0295fa02-4535-435e-8ea0-431e598da409",
   "metadata": {},
   "outputs": [],
   "source": [
    "@numba.jit(nopython = True, fastmath = True)\n",
    "def temperature(v, m, N):\n",
    "    \n",
    "    return (m * 1E+3 * np.sum(v**2)) / (3 * N * constants.R)\n",
    "\n",
    "@numba.jit(nopython = True, fastmath = True)\n",
    "def berendsen_thermostat(T0, T, dt, tau, v):\n",
    "    \n",
    "    v *= np.sqrt(1 + (dt/tau) * (T0/T - 1))\n",
    "    \n",
    "    return v\n",
    "\n",
    "@numba.jit(nopython = True, fastmath = True)\n",
    "def berendsen_barostat(P0, P, dt, beta, tau, L, r):\n",
    "    \n",
    "    mu = (1 + dt * beta * (P - P0) / tau)**(1./3.)\n",
    "    \n",
    "    L *= mu\n",
    "    r *= mu\n",
    "    \n",
    "    return L, r"
   ]
  },
  {
   "cell_type": "code",
   "execution_count": 17,
   "id": "32d9d202",
   "metadata": {},
   "outputs": [],
   "source": [
    "def main(n_steps, N, L, dt, static, TEMPS, TEMP0, PRESS0, init_random, boundary, update, pair_list_update, rc, rb, tauT, tauP, file1, file2, file3, file4, r_init = 0, v_init = 0, distri = 'normal'):\n",
    "    \n",
    "    m = 39.948 #a.m.u.\n",
    "    sig = 0.34\n",
    "    eps = 1.0\n",
    "    beta = 1.8*10**(-4)\n",
    "    \n",
    "    f1, f2, f3, f4 = open(file1, 'w'), open(file2, 'w'), open(file3, 'w'), open(file4, 'w')\n",
    "    \n",
    "    s = str('CRYST1'+ str(\"{:9.3f}{:9.3f}{:9.3f}\".format(L*10,L*10,L*10)) + \"  90.00  90.00  90.00 P 1           1\\n\")\n",
    "    f1.write(s)\n",
    "    \n",
    "    if init_random: \n",
    "        sd = np.sqrt(constants.R * 0.001 * TEMPS / m)\n",
    "        r, v = init(N, 0.5, L, sd, distri)\n",
    "        \n",
    "        if boundary == pbc: v -= np.mean(v, axis = 0)\n",
    "        \n",
    "    else:\n",
    "        r = r_init\n",
    "        v = v_init\n",
    "        \n",
    "    kin_ener = np.zeros(int(n_steps / update))\n",
    "    pot_ener = np.zeros(int(n_steps / update))\n",
    "    temp = np.zeros(int(n_steps / update))\n",
    "    pressure = np.zeros(int(n_steps / update))\n",
    "    vel_store = np.zeros((int(n_steps / update), N, 3))\n",
    "    volume = np.zeros(int(n_steps / update))\n",
    "    \n",
    "    T = temperature(v, m, N)\n",
    "    pair_mask = pair_list(r, N, rb, L)\n",
    "    f, pote, press = force(r, N, sig, eps, pair_mask, L, rc, T)\n",
    "    \n",
    "    \n",
    "    kine = kinetic(v, m)\n",
    "    \n",
    "    kin_ener[0] = kine\n",
    "    pot_ener[0] = pote\n",
    "    vel_store[0] = v\n",
    "    temp[0] = T\n",
    "    pressure[0] = press\n",
    "    volume[0] = L**3\n",
    "    \n",
    "    write_file(f1, f2, f3, f4, r, v, pote, kine, 0)\n",
    "        \n",
    "    c = 1\n",
    "    \n",
    "    for step in tqdm(range(1, n_steps)):\n",
    "        \n",
    "        r, v, f, pote, pair_mask, press = velocity_verlet(r, v, f, m, eps, sig, dt, boundary, N, L,\n",
    "                                                          pair_list_update, rc, rb, step, pair_mask, T)\n",
    "        \n",
    "        if static:\n",
    "            v = berendsen_thermostat(T0 = TEMP0, T = T, dt = dt, tau = tauT, v = v)\n",
    "            L, r = berendsen_barostat(P0 = PRESS0, P = press, dt = dt, beta = beta, tau = tauP, L = L, r = r)\n",
    "        \n",
    "        T = temperature(v, m, N)\n",
    "        \n",
    "        if not step % update: \n",
    "           # write_file(f1, f2, f3, f4, r, v, pote, kine, 0)\n",
    "            \n",
    "            kine = kinetic(v, m)\n",
    "            \n",
    "            kin_ener[c] = kine\n",
    "            pot_ener[c] = pote\n",
    "            vel_store[c] = v\n",
    "            temp[c] = T\n",
    "            pressure[c] = press\n",
    "            volume[c] = L**3\n",
    "            c+=1\n",
    "            \n",
    "    return kin_ener, pot_ener, vel_store, temp, pressure, volume"
   ]
  },
  {
   "cell_type": "code",
   "execution_count": 18,
   "id": "07b0880a-810c-45b1-9d85-78475daf318e",
   "metadata": {},
   "outputs": [
    {
     "data": {
      "text/plain": [
       "20.230662838988824"
      ]
     },
     "execution_count": 18,
     "metadata": {},
     "output_type": "execute_result"
    }
   ],
   "source": [
    "ideal_volume(T = 300, N = 200, P = 1)"
   ]
  },
  {
   "cell_type": "code",
   "execution_count": 18,
   "id": "930e45db-b210-49d8-b664-d2bc7589ea64",
   "metadata": {},
   "outputs": [
    {
     "name": "stderr",
     "output_type": "stream",
     "text": [
      "100%|██████████| 999999/999999 [25:21<00:00, 657.31it/s]\n"
     ]
    }
   ],
   "source": [
    "KINE_No_Static, POTE_No_Static, VEL_No_Static, TEMP_No_Static, PRESS_No_Static, VOL_No_Static = main(n_steps = 1000000, N = 200, L = 20, dt = 1E-3, TEMPS = 500, TEMP0 = 300, PRESS0 = 1,\n",
    "                                                                                                     init_random = 1, boundary = pbc, update = 100, pair_list_update = 10, rc = 1., rb = 1.5, \n",
    "                                                                                                     tauT = 1.0, tauP = 1.0, static = False, file1 = 'Test.pdb', file2 = 'Vel.txt', file3 = 'POTE.txt', file4 = 'KINE.txt')"
   ]
  },
  {
   "cell_type": "code",
   "execution_count": 19,
   "id": "1f0f6c46-6877-414c-b9bb-a18c843fa8c5",
   "metadata": {},
   "outputs": [
    {
     "name": "stderr",
     "output_type": "stream",
     "text": [
      "100%|██████████| 999999/999999 [26:11<00:00, 636.25it/s]\n"
     ]
    }
   ],
   "source": [
    "KINE_Static, POTE_Static, VEL_Static, TEMP_Static, PRESS_Static, VOL_Static = main(n_steps = 1000000, N = 200, L = 20, dt = 1E-3, TEMPS = 500, TEMP0 = 300, PRESS0 = 1,\n",
    "                                                                                   init_random = 1, boundary = pbc, update = 100, pair_list_update = 10, rc = 1., rb = 1.5, \n",
    "                                                                                   tauT = 1.0, tauP = 1.0, static = True, file1 = 'Test.pdb', file2 = 'Vel.txt', file3 = 'POTE.txt', file4 = 'KINE.txt')"
   ]
  },
  {
   "cell_type": "code",
   "execution_count": 15,
   "id": "761b8344",
   "metadata": {},
   "outputs": [
    {
     "data": {
      "text/plain": [
       "[<matplotlib.lines.Line2D at 0x7f0c314c8790>]"
      ]
     },
     "execution_count": 15,
     "metadata": {},
     "output_type": "execute_result"
    },
    {
     "data": {
      "image/png": "[encoded data removed]",
      "text/plain": [
       "<Figure size 432x288 with 1 Axes>"
      ]
     },
     "metadata": {
      "needs_background": "light"
     },
     "output_type": "display_data"
    }
   ],
   "source": [
    "plt.plot(TEMP_No_Static)\n",
    "plt.plot(TEMP_Static)"
   ]
  },
  {
   "cell_type": "code",
   "execution_count": 17,
   "id": "71a065cb",
   "metadata": {},
   "outputs": [
    {
     "data": {
      "text/plain": [
       "[<matplotlib.lines.Line2D at 0x7f0c32154130>]"
      ]
     },
     "execution_count": 17,
     "metadata": {},
     "output_type": "execute_result"
    },
    {
     "data": {
      "image/png": "[encoded data removed]",
      "text/plain": [
       "<Figure size 432x288 with 1 Axes>"
      ]
     },
     "metadata": {
      "needs_background": "light"
     },
     "output_type": "display_data"
    }
   ],
   "source": [
    "plt.plot(VOL_No_Static)\n",
    "plt.plot(VOL_Static)"
   ]
  },
  {
   "cell_type": "code",
   "execution_count": 16,
   "id": "7c6a2cea",
   "metadata": {},
   "outputs": [
    {
     "data": {
      "text/plain": [
       "[<matplotlib.lines.Line2D at 0x7f0c315465b0>]"
      ]
     },
     "execution_count": 16,
     "metadata": {},
     "output_type": "execute_result"
    },
    {
     "data": {
      "image/png": "[encoded data removed]",
      "text/plain": [
       "<Figure size 432x288 with 1 Axes>"
      ]
     },
     "metadata": {
      "needs_background": "light"
     },
     "output_type": "display_data"
    }
   ],
   "source": [
    "plt.plot(PRESS_No_Static)\n",
    "plt.plot(PRESS_Static)"
   ]
  },
  {
   "cell_type": "markdown",
   "id": "4b4f77b0",
   "metadata": {},
   "source": [
    "# Energy of two particles - Only potential energy"
   ]
  },
  {
   "cell_type": "code",
   "execution_count": 20,
   "id": "d4c5a29b",
   "metadata": {},
   "outputs": [],
   "source": [
    "r_init = np.array([[5, 5, 4], [5, 5, 5]])\n",
    "v_init = np.zeros((2, 3))"
   ]
  },
  {
   "cell_type": "code",
   "execution_count": 23,
   "id": "4c75be6a-ca19-48d5-9fb6-765416249171",
   "metadata": {},
   "outputs": [
    {
     "name": "stderr",
     "output_type": "stream",
     "text": [
      "100%|██████████| 999/999 [00:00<00:00, 17277.31it/s]\n"
     ]
    }
   ],
   "source": [
    "KINE, POTE, VEL, TEMP, PRESS, VOL = main(n_steps = 1000, N = 2, L = 10, dt = 1E-1, TEMPS = 100, TEMP0 = 100, PRESS0 = 1, init_random = 0, boundary = pbc, update = 1,\n",
    "                                         pair_list_update = 1, rc = 1000., rb = 1000., file1 = 'Test.pdb', file2 = 'Vel.txt', file3 = 'POTE.txt', file4 = 'KINE.txt',\n",
    "                                         r_init = r_init, v_init = v_init, static = False, tauT = 1.0, tauP = 1.0)"
   ]
  },
  {
   "cell_type": "code",
   "execution_count": 27,
   "id": "e1f7eecb-7fed-4899-9265-410fd2246c54",
   "metadata": {},
   "outputs": [],
   "source": [
    "np.save(arr = KINE, file='ENERGY_CONSERVATION_TWO_PARTICLES/KINE_VERY_SHORT')\n",
    "np.save(arr = POTE, file='ENERGY_CONSERVATION_TWO_PARTICLES/POTE_VERY_SHORT')"
   ]
  },
  {
   "cell_type": "code",
   "execution_count": 28,
   "id": "c30deabd-c323-4b39-b948-4be5777e920f",
   "metadata": {},
   "outputs": [],
   "source": [
    "KINE_BIGGER_TIMESTEP = np.load('ENERGY_CONSERVATION_TWO_PARTICLES/KINE_VERY_SHORT.npy')\n",
    "POTE_BIGGER_TIMESTEP = np.load('ENERGY_CONSERVATION_TWO_PARTICLES/POTE_VERY_SHORT.npy')"
   ]
  },
  {
   "cell_type": "code",
   "execution_count": 29,
   "id": "fdcc29a1",
   "metadata": {},
   "outputs": [
    {
     "name": "stderr",
     "output_type": "stream",
     "text": [
      "100%|██████████| 99999/99999 [00:02<00:00, 43678.01it/s]\n"
     ]
    }
   ],
   "source": [
    "KINE, POTE, VEL, TEMP, PRESS, VOL = main(n_steps = 100000, N = 2, L = 10, dt = 1E-3, TEMPS = 100, TEMP0 = 100, PRESS0 = 1, init_random = 0, boundary = pbc, update = 1,\n",
    "                                         pair_list_update = 1, rc = 1000., rb = 1000., file1 = 'Test.pdb', file2 = 'Vel.txt', file3 = 'POTE.txt', file4 = 'KINE.txt',\n",
    "                                         r_init = r_init, v_init = v_init, static = False, tauT = 1.0, tauP = 1.0)"
   ]
  },
  {
   "cell_type": "code",
   "execution_count": 30,
   "id": "f779586c",
   "metadata": {},
   "outputs": [],
   "source": [
    "np.save(arr = KINE, file='ENERGY_CONSERVATION_TWO_PARTICLES/KINE_SHORT')\n",
    "np.save(arr = POTE, file='ENERGY_CONSERVATION_TWO_PARTICLES/POTE_SHORT')"
   ]
  },
  {
   "cell_type": "code",
   "execution_count": 31,
   "id": "ad08a9f7",
   "metadata": {},
   "outputs": [],
   "source": [
    "KINE_BIG_TIMESTEP = np.load('ENERGY_CONSERVATION_TWO_PARTICLES/KINE_SHORT.npy')\n",
    "POTE_BIG_TIMESTEP = np.load('ENERGY_CONSERVATION_TWO_PARTICLES/POTE_SHORT.npy')"
   ]
  },
  {
   "cell_type": "code",
   "execution_count": 32,
   "id": "f4ca8da2",
   "metadata": {},
   "outputs": [
    {
     "name": "stderr",
     "output_type": "stream",
     "text": [
      "100%|██████████| 9999999/9999999 [03:26<00:00, 48370.36it/s]\n"
     ]
    }
   ],
   "source": [
    "KINE, POTE, VEL, TEMP, PRESS, VOL = main(n_steps = 10000000, N = 2, L = 10, dt = 1E-5, TEMPS = 100, TEMP0 = 100, PRESS0 = 1, init_random = 0, boundary = pbc, update = 1,\n",
    "                                         pair_list_update = 1, rc = 1000., rb = 1000., file1 = 'Test.pdb', file2 = 'Vel.txt', file3 = 'POTE.txt', file4 = 'KINE.txt',\n",
    "                                         r_init = r_init, v_init = v_init, static = False, tauT = 1.0, tauP = 1.0)"
   ]
  },
  {
   "cell_type": "code",
   "execution_count": 33,
   "id": "4e5338f6",
   "metadata": {},
   "outputs": [],
   "source": [
    "np.save(arr = KINE, file='ENERGY_CONSERVATION_TWO_PARTICLES/KINE_LONG')\n",
    "np.save(arr = POTE, file='ENERGY_CONSERVATION_TWO_PARTICLES/POTE_LONG')"
   ]
  },
  {
   "cell_type": "code",
   "execution_count": 34,
   "id": "1e2adb62",
   "metadata": {},
   "outputs": [],
   "source": [
    "KINE_SMALL_TIMESTEP = np.load('ENERGY_CONSERVATION_TWO_PARTICLES/KINE_LONG.npy')\n",
    "POTE_SMALL_TIMESTEP = np.load('ENERGY_CONSERVATION_TWO_PARTICLES/POTE_LONG.npy')"
   ]
  },
  {
   "cell_type": "code",
   "execution_count": 35,
   "id": "0733be50-4a3c-4007-8c4e-6296f60bb5c9",
   "metadata": {},
   "outputs": [],
   "source": [
    "t0 = np.linspace(0, 100, 1000)\n",
    "t1 = np.linspace(0, 100, 100000)\n",
    "t2 = np.linspace(0, 100, 10000000)"
   ]
  },
  {
   "cell_type": "code",
   "execution_count": 36,
   "id": "970e54cf",
   "metadata": {},
   "outputs": [
    {
     "data": {
      "text/plain": [
       "(15.0, 25.0)"
      ]
     },
     "execution_count": 36,
     "metadata": {},
     "output_type": "execute_result"
    },
    {
     "data": {
      "image/png": "[encoded data removed]",
      "text/plain": [
       "<Figure size 1440x360 with 3 Axes>"
      ]
     },
     "metadata": {
      "needs_background": "light"
     },
     "output_type": "display_data"
    }
   ],
   "source": [
    "\n",
    "\n",
    "fig, ax = plt.subplots(1, 3, figsize = (20, 5))\n",
    "\n",
    "ax[0].plot(t0, POTE_BIGGER_TIMESTEP, label = 'Potential')\n",
    "ax[0].plot(t0, KINE_BIGGER_TIMESTEP, label = 'Kinetic')\n",
    "ax[0].plot(t0, KINE_BIGGER_TIMESTEP + POTE_BIGGER_TIMESTEP, label = 'Total')\n",
    "ax[0].grid(True)\n",
    "ax[0].set_title('Energy - Two Particles - dt=1E-3', fontweight = 'bold', fontsize = 13)\n",
    "ax[0].set_ylabel('kJ/mol', fontsize = 13)\n",
    "ax[0].set_xlabel('Time (ps)', fontsize = 13)\n",
    "\n",
    "ax[1].plot(t1, POTE_BIG_TIMESTEP, label = 'Potential')\n",
    "ax[1].plot(t1, KINE_BIG_TIMESTEP, label = 'Kinetic')\n",
    "ax[1].plot(t1, KINE_BIG_TIMESTEP + POTE_BIG_TIMESTEP, label = 'Total')\n",
    "ax[1].grid(True)\n",
    "ax[1].set_title('Energy - Two Particles - dt=1E-3', fontweight = 'bold', fontsize = 13)\n",
    "ax[1].set_ylabel('kJ/mol', fontsize = 13)\n",
    "ax[1].set_xlabel('Time (ps)', fontsize = 13)\n",
    "#ax[0].legend(bbox_to_anchor=(1., 1.03))\n",
    "\n",
    "ax[2].plot(t2, POTE_SMALL_TIMESTEP, label = 'Potential')\n",
    "ax[2].plot(t2, KINE_SMALL_TIMESTEP, label = 'Kinetic')\n",
    "ax[2].plot(t2, KINE_SMALL_TIMESTEP + POTE_SMALL_TIMESTEP, label = 'Total')\n",
    "ax[2].grid(True)\n",
    "ax[2].set_title('Energy - Two Particles - dt=1E-5', fontweight = 'bold', fontsize = 13)\n",
    "ax[2].set_ylabel('kJ/mol', fontsize = 13)\n",
    "ax[2].set_xlabel('Time (ps)', fontsize = 13)\n",
    "ax[2].legend(bbox_to_anchor=(1., 1.03))\n",
    "#plt.savefig('Energy_Two_Particles.png', dpi = 300)\n",
    "\n",
    "ax[0].set_xlim(15, 25)\n",
    "ax[1].set_xlim(15, 25)\n",
    "ax[2].set_xlim(15, 25)"
   ]
  },
  {
   "cell_type": "code",
   "execution_count": 37,
   "id": "cd49ed83",
   "metadata": {},
   "outputs": [
    {
     "data": {
      "text/plain": [
       "<matplotlib.legend.Legend at 0x7f3312479ca0>"
      ]
     },
     "execution_count": 37,
     "metadata": {},
     "output_type": "execute_result"
    },
    {
     "name": "stderr",
     "output_type": "stream",
     "text": [
      "/home/rrzelinuxhome/xy35beqy/.conda/envs/MD-Engine/lib/python3.9/site-packages/IPython/core/pylabtools.py:134: UserWarning: Creating legend with loc=\"best\" can be slow with large amounts of data.\n",
      "  fig.canvas.print_figure(bytes_io, **kw)\n"
     ]
    },
    {
     "data": {
      "image/png": "[encoded data removed]",
      "text/plain": [
       "<Figure size 432x288 with 1 Axes>"
      ]
     },
     "metadata": {
      "needs_background": "light"
     },
     "output_type": "display_data"
    }
   ],
   "source": [
    "plt.plot(t0, KINE_BIGGER_TIMESTEP + POTE_BIGGER_TIMESTEP, label = 'Total - dt=1E-1')\n",
    "plt.plot(t1, KINE_BIG_TIMESTEP + POTE_BIG_TIMESTEP, label = 'Total - dt=1E-3')\n",
    "plt.plot(t2, KINE_SMALL_TIMESTEP + POTE_SMALL_TIMESTEP, label = 'Total - dt=1E-5')\n",
    "plt.ylabel('kJ/mol')\n",
    "plt.xlabel('Time (ps)')\n",
    "plt.title('Total Energy', fontweight = 'bold')\n",
    "plt.legend()"
   ]
  },
  {
   "cell_type": "code",
   "execution_count": 39,
   "id": "2a9995ac-4a82-4d95-bf08-9329d0de536b",
   "metadata": {},
   "outputs": [
    {
     "data": {
      "text/plain": [
       "<matplotlib.legend.Legend at 0x7f33119027f0>"
      ]
     },
     "execution_count": 39,
     "metadata": {},
     "output_type": "execute_result"
    },
    {
     "name": "stderr",
     "output_type": "stream",
     "text": [
      "/home/rrzelinuxhome/xy35beqy/.conda/envs/MD-Engine/lib/python3.9/site-packages/IPython/core/pylabtools.py:134: UserWarning: Creating legend with loc=\"best\" can be slow with large amounts of data.\n",
      "  fig.canvas.print_figure(bytes_io, **kw)\n"
     ]
    },
    {
     "data": {
      "image/png": "[encoded data removed]",
      "text/plain": [
       "<Figure size 432x288 with 1 Axes>"
      ]
     },
     "metadata": {
      "needs_background": "light"
     },
     "output_type": "display_data"
    }
   ],
   "source": [
    "plt.plot(t1, KINE_BIG_TIMESTEP + POTE_BIG_TIMESTEP, label = 'Total - dt=1E-3')\n",
    "plt.plot(t2, KINE_SMALL_TIMESTEP + POTE_SMALL_TIMESTEP, label = 'Total - dt=1E-5')\n",
    "plt.ylabel('kJ/mol')\n",
    "plt.xlabel('Time (ps)')\n",
    "plt.title('Total Energy', fontweight = 'bold')\n",
    "plt.legend()"
   ]
  },
  {
   "cell_type": "markdown",
   "id": "c09d5b45",
   "metadata": {},
   "source": [
    "# With and without Pair-List"
   ]
  },
  {
   "cell_type": "code",
   "execution_count": 80,
   "id": "51339952",
   "metadata": {},
   "outputs": [],
   "source": [
    "#Start from the same configuration each time\n",
    "sd = np.sqrt(constants.R * 0.001 * 300 / 39.948)\n",
    "r_init, v_init = init(50, 0.5, 10, sd, 'normal')\n",
    "v_init -= np.mean(v_init , 0)"
   ]
  },
  {
   "cell_type": "code",
   "execution_count": 81,
   "id": "2cf33be9",
   "metadata": {},
   "outputs": [
    {
     "name": "stderr",
     "output_type": "stream",
     "text": [
      "100%|██████████| 999999/999999 [36:49<00:00, 452.65it/s]\n"
     ]
    }
   ],
   "source": [
    "KINE, POTE, VEL, TEMP, PRESS, VOL = main(n_steps = 1000000, N = 50, L = 10, dt = 1E-3, TEMPS = 100, TEMP0 = 100, PRESS0 = 1, init_random = 0, boundary = pbc, update = 100,\n",
    "                                         pair_list_update = 1, rc = 1000., rb = 1000., file1 = 'Test.pdb', file2 = 'Vel.txt', file3 = 'POTE.txt', file4 = 'KINE.txt',\n",
    "                                         r_init = r_init, v_init = v_init, static = False, tauT = 1.0, tauP = 1.0)"
   ]
  },
  {
   "cell_type": "code",
   "execution_count": 82,
   "id": "fe8beaa5",
   "metadata": {},
   "outputs": [],
   "source": [
    "np.save(arr = KINE, file = 'TESTING_PAIR_LIST/KINE_1_WO_CO')\n",
    "np.save(arr = POTE, file = 'TESTING_PAIR_LIST/POTE_1_WO_CO')\n",
    "KINE_1_WO_CO = np.load('TESTING_PAIR_LIST/KINE_1_WO_CO.npy')\n",
    "POTE_1_WO_CO = np.load('TESTING_PAIR_LIST/POTE_1_WO_CO.npy')"
   ]
  },
  {
   "cell_type": "code",
   "execution_count": 83,
   "id": "70508433",
   "metadata": {},
   "outputs": [
    {
     "name": "stderr",
     "output_type": "stream",
     "text": [
      "100%|██████████| 999999/999999 [17:28<00:00, 953.34it/s]\n"
     ]
    }
   ],
   "source": [
    "KINE, POTE, VEL, TEMP, PRESS, VOL = main(n_steps = 1000000, N = 50, L = 10, dt = 1E-3, TEMPS = 100, TEMP0 = 100, PRESS0 = 1, init_random = 0, boundary = pbc, update = 100,\n",
    "                                         pair_list_update = 1, rc = 1., rb = 1.5, file1 = 'Test.pdb', file2 = 'Vel.txt', file3 = 'POTE.txt', file4 = 'KINE.txt',\n",
    "                                         r_init = r_init, v_init = v_init, static = False, tauT = 1.0, tauP = 1.0)"
   ]
  },
  {
   "cell_type": "code",
   "execution_count": 84,
   "id": "b6e67e70",
   "metadata": {},
   "outputs": [],
   "source": [
    "np.save(arr = KINE, file = 'TESTING_PAIR_LIST/KINE_1')\n",
    "np.save(arr = POTE, file = 'TESTING_PAIR_LIST/POTE_1')\n",
    "KINE_1 = np.load('TESTING_PAIR_LIST/KINE_1.npy')\n",
    "POTE_1 = np.load('TESTING_PAIR_LIST/POTE_1.npy')"
   ]
  },
  {
   "cell_type": "code",
   "execution_count": 99,
   "id": "cbe5d739",
   "metadata": {},
   "outputs": [
    {
     "name": "stderr",
     "output_type": "stream",
     "text": [
      "100%|██████████| 999999/999999 [03:55<00:00, 4248.83it/s]\n"
     ]
    }
   ],
   "source": [
    "KINE, POTE, VEL, TEMP, PRESS, VOL = main(n_steps = 1000000, N = 50, L = 10, dt = 1E-3, TEMPS = 100, TEMP0 = 100, PRESS0 = 1, init_random = 0, boundary = pbc, update = 100,\n",
    "                                         pair_list_update = 5, rc = 1., rb = 1.5, file1 = 'Test.pdb', file2 = 'Vel.txt', file3 = 'POTE.txt', file4 = 'KINE.txt',\n",
    "                                         r_init = r_init, v_init = v_init, static = False, tauT = 1.0, tauP = 1.0)"
   ]
  },
  {
   "cell_type": "code",
   "execution_count": 100,
   "id": "0d275e62",
   "metadata": {},
   "outputs": [],
   "source": [
    "np.save(arr = KINE, file = 'TESTING_PAIR_LIST/KINE_5')\n",
    "np.save(arr = POTE, file = 'TESTING_PAIR_LIST/POTE_5')\n",
    "KINE_5 = np.load('TESTING_PAIR_LIST/KINE_5.npy')\n",
    "POTE_5 = np.load('TESTING_PAIR_LIST/POTE_5.npy')"
   ]
  },
  {
   "cell_type": "code",
   "execution_count": 85,
   "id": "55dcad3b",
   "metadata": {},
   "outputs": [
    {
     "name": "stderr",
     "output_type": "stream",
     "text": [
      "100%|██████████| 999999/999999 [02:01<00:00, 8220.42it/s]\n"
     ]
    }
   ],
   "source": [
    "KINE, POTE, VEL, TEMP, PRESS, VOL = main(n_steps = 1000000, N = 50, L = 10, dt = 1E-3, TEMPS = 100, TEMP0 = 100, PRESS0 = 1, init_random = 0, boundary = pbc, update = 100,\n",
    "                                         pair_list_update = 10, rc = 1., rb = 1.5, file1 = 'Test.pdb', file2 = 'Vel.txt', file3 = 'POTE.txt', file4 = 'KINE.txt',\n",
    "                                         r_init = r_init, v_init = v_init, static = False, tauT = 1.0, tauP = 1.0)"
   ]
  },
  {
   "cell_type": "code",
   "execution_count": 86,
   "id": "d092669d",
   "metadata": {},
   "outputs": [],
   "source": [
    "np.save(arr = KINE, file = 'TESTING_PAIR_LIST/KINE_10')\n",
    "np.save(arr = POTE, file = 'TESTING_PAIR_LIST/POTE_10')\n",
    "KINE_10 = np.load('TESTING_PAIR_LIST/KINE_10.npy')\n",
    "POTE_10 = np.load('TESTING_PAIR_LIST/POTE_10.npy')"
   ]
  },
  {
   "cell_type": "code",
   "execution_count": 87,
   "id": "e0186770",
   "metadata": {},
   "outputs": [
    {
     "name": "stderr",
     "output_type": "stream",
     "text": [
      "100%|██████████| 999999/999999 [01:16<00:00, 13050.67it/s]\n"
     ]
    }
   ],
   "source": [
    "KINE, POTE, VEL, TEMP, PRESS, VOL = main(n_steps = 1000000, N = 50, L = 10, dt = 1E-3, TEMPS = 100, TEMP0 = 100, PRESS0 = 1, init_random = 0, boundary = pbc, update = 100,\n",
    "                                         pair_list_update = 20, rc = 1., rb = 1.5, file1 = 'Test.pdb', file2 = 'Vel.txt', file3 = 'POTE.txt', file4 = 'KINE.txt',\n",
    "                                         r_init = r_init, v_init = v_init, static = False, tauT = 1.0, tauP = 1.0)"
   ]
  },
  {
   "cell_type": "code",
   "execution_count": 88,
   "id": "820d1f18",
   "metadata": {},
   "outputs": [],
   "source": [
    "np.save(arr = KINE, file = 'TESTING_PAIR_LIST/KINE_20')\n",
    "np.save(arr = POTE, file = 'TESTING_PAIR_LIST/POTE_20')\n",
    "KINE_20 = np.load('TESTING_PAIR_LIST/KINE_20.npy')\n",
    "POTE_20 = np.load('TESTING_PAIR_LIST/POTE_20.npy')"
   ]
  },
  {
   "cell_type": "code",
   "execution_count": 89,
   "id": "55eda17b",
   "metadata": {},
   "outputs": [
    {
     "name": "stderr",
     "output_type": "stream",
     "text": [
      "100%|██████████| 999999/999999 [01:01<00:00, 16376.63it/s]\n"
     ]
    }
   ],
   "source": [
    "KINE, POTE, VEL, TEMP, PRESS, VOL = main(n_steps = 1000000, N = 50, L = 10, dt = 1E-3, TEMPS = 100, TEMP0 = 100, PRESS0 = 1, init_random = 0, boundary = pbc, update = 100,\n",
    "                                         pair_list_update = 30, rc = 1., rb = 1.5, file1 = 'Test.pdb', file2 = 'Vel.txt', file3 = 'POTE.txt', file4 = 'KINE.txt',\n",
    "                                         r_init = r_init, v_init = v_init, static = False, tauT = 1.0, tauP = 1.0)"
   ]
  },
  {
   "cell_type": "code",
   "execution_count": 90,
   "id": "a3993848",
   "metadata": {},
   "outputs": [],
   "source": [
    "np.save(arr = KINE, file = 'TESTING_PAIR_LIST/KINE_30')\n",
    "np.save(arr = POTE, file = 'TESTING_PAIR_LIST/POTE_30')\n",
    "KINE_30 = np.load('TESTING_PAIR_LIST/KINE_30.npy')\n",
    "POTE_30 = np.load('TESTING_PAIR_LIST/POTE_30.npy')"
   ]
  },
  {
   "cell_type": "code",
   "execution_count": 91,
   "id": "f32b9c84",
   "metadata": {},
   "outputs": [
    {
     "name": "stderr",
     "output_type": "stream",
     "text": [
      "100%|██████████| 999999/999999 [00:53<00:00, 18706.83it/s]\n"
     ]
    }
   ],
   "source": [
    "KINE, POTE, VEL, TEMP, PRESS, VOL = main(n_steps = 1000000, N = 50, L = 10, dt = 1E-3, TEMPS = 100, TEMP0 = 100, PRESS0 = 1, init_random = 0, boundary = pbc, update = 100,\n",
    "                                         pair_list_update = 40, rc = 1., rb = 1.5, file1 = 'Test.pdb', file2 = 'Vel.txt', file3 = 'POTE.txt', file4 = 'KINE.txt',\n",
    "                                         r_init = r_init, v_init = v_init, static = False, tauT = 1.0, tauP = 1.0)"
   ]
  },
  {
   "cell_type": "code",
   "execution_count": 92,
   "id": "3ec4d841",
   "metadata": {},
   "outputs": [],
   "source": [
    "np.save(arr = KINE, file = 'TESTING_PAIR_LIST/KINE_40')\n",
    "np.save(arr = POTE, file = 'TESTING_PAIR_LIST/POTE_40')\n",
    "KINE_40 = np.load('TESTING_PAIR_LIST/KINE_40.npy')\n",
    "POTE_40 = np.load('TESTING_PAIR_LIST/POTE_40.npy')"
   ]
  },
  {
   "cell_type": "code",
   "execution_count": 93,
   "id": "aa071157",
   "metadata": {},
   "outputs": [
    {
     "name": "stderr",
     "output_type": "stream",
     "text": [
      "100%|██████████| 999999/999999 [00:47<00:00, 20933.75it/s]\n"
     ]
    }
   ],
   "source": [
    "KINE, POTE, VEL, TEMP, PRESS, VOL = main(n_steps = 1000000, N = 50, L = 10, dt = 1E-3, TEMPS = 100, TEMP0 = 100, PRESS0 = 1, init_random = 0, boundary = pbc, update = 100,\n",
    "                                         pair_list_update = 50, rc = 1., rb = 1.5, file1 = 'Test.pdb', file2 = 'Vel.txt', file3 = 'POTE.txt', file4 = 'KINE.txt',\n",
    "                                         r_init = r_init, v_init = v_init, static = False, tauT = 1.0, tauP = 1.0)"
   ]
  },
  {
   "cell_type": "code",
   "execution_count": 97,
   "id": "f76803f3",
   "metadata": {},
   "outputs": [],
   "source": [
    "np.save(arr = KINE, file = 'TESTING_PAIR_LIST/KINE_50')\n",
    "np.save(arr = POTE, file = 'TESTING_PAIR_LIST/POTE_50')\n",
    "KINE_50 = np.load('TESTING_PAIR_LIST/KINE_50.npy')\n",
    "POTE_50 = np.load('TESTING_PAIR_LIST/POTE_50.npy')"
   ]
  },
  {
   "cell_type": "code",
   "execution_count": 101,
   "id": "33adf4aa",
   "metadata": {},
   "outputs": [
    {
     "data": {
      "text/plain": [
       "[<matplotlib.lines.Line2D at 0x7f3312dd50d0>]"
      ]
     },
     "execution_count": 101,
     "metadata": {},
     "output_type": "execute_result"
    },
    {
     "data": {
      "image/png": "[encoded data removed]",
      "text/plain": [
       "<Figure size 432x288 with 1 Axes>"
      ]
     },
     "metadata": {
      "needs_background": "light"
     },
     "output_type": "display_data"
    }
   ],
   "source": [
    "Timer = [2209, 1048, 235, 121, 76, 61, 53, 47]\n",
    "PL = [\"WO PL-CO\", \"WO PL\", \"PL 5\", \"PL 10\", \"PL 20\", \"PL 30\", \"PL 40\", \"PL 50\"]\n",
    "plt.plot(PL, Timer)"
   ]
  },
  {
   "cell_type": "code",
   "execution_count": 104,
   "id": "0d123cfc",
   "metadata": {},
   "outputs": [],
   "source": [
    "t = np.linspace(0, 1000, 10000)"
   ]
  },
  {
   "cell_type": "code",
   "execution_count": 109,
   "id": "9d3df2bb",
   "metadata": {
    "tags": []
   },
   "outputs": [
    {
     "data": {
      "text/plain": [
       "Text(0.5, 0, 'Time (ps)')"
      ]
     },
     "execution_count": 109,
     "metadata": {},
     "output_type": "execute_result"
    },
    {
     "data": {
      "image/png": "[encoded data removed]",
      "text/plain": [
       "<Figure size 720x360 with 1 Axes>"
      ]
     },
     "metadata": {
      "needs_background": "light"
     },
     "output_type": "display_data"
    }
   ],
   "source": [
    "fig = plt.figure(figsize = (10, 5))\n",
    "plt.plot(t, KINE_1_WO_CO[:] + POTE_1_WO_CO[:], label = 'No Pair - No CutOff')\n",
    "plt.plot(t, KINE_1[:] + POTE_1[:], label = 'No Pair')\n",
    "plt.plot(t, KINE_5[:] + POTE_5[:], label = 'Update 5')\n",
    "plt.plot(t, KINE_10[:] + POTE_10[:], label = 'Update 10')\n",
    "plt.plot(t, KINE_20[:] + POTE_20[:], label = 'Update 20')\n",
    "plt.plot(t, KINE_30[:] + POTE_30[:], label = 'Update 30')\n",
    "plt.plot(t, KINE_40[:] + POTE_40[:], label = 'Update 40')\n",
    "plt.plot(t, KINE_50[:] + POTE_50[:], label = 'Update 50')\n",
    "\n",
    "#plt.ylim([1.4, 1.45])\n",
    "plt.title('Total Energy of different Pair-List Settings', fontweight = 'bold')\n",
    "#plt.legend()\n",
    "plt.ylabel('kJ/mol')\n",
    "plt.xlabel('Time (ps)')"
   ]
  },
  {
   "cell_type": "code",
   "execution_count": 111,
   "id": "b50ef355",
   "metadata": {},
   "outputs": [
    {
     "data": {
      "text/plain": [
       "[<matplotlib.lines.Line2D at 0x7f330a7e7ee0>]"
      ]
     },
     "execution_count": 111,
     "metadata": {},
     "output_type": "execute_result"
    },
    {
     "data": {
      "image/png": "[encoded data removed]",
      "text/plain": [
       "<Figure size 432x288 with 1 Axes>"
      ]
     },
     "metadata": {
      "needs_background": "light"
     },
     "output_type": "display_data"
    }
   ],
   "source": [
    "plt.plot(t, KINE_1_WO_CO[:] + POTE_1_WO_CO[:], label = 'No Pair - No CutOff')\n",
    "#plt.plot(t, KINE_1[:] + POTE_1[:], label = 'No Pair')\n",
    "#plt.plot(t, KINE_5[:] + POTE_5[:], label = 'Update 5')"
   ]
  },
  {
   "cell_type": "code",
   "execution_count": null,
   "id": "f3e8dbec",
   "metadata": {},
   "outputs": [],
   "source": []
  },
  {
   "cell_type": "code",
   "execution_count": 123,
   "id": "87f0a674",
   "metadata": {},
   "outputs": [],
   "source": [
    "#Start from the same configuration each time\n",
    "sd = np.sqrt(constants.R * 0.001 * 300 / 39.948)\n",
    "r_init, v_init = init(10, 0.5, 5, sd, 'normal')\n",
    "v_init -= np.mean(v_init , 0)"
   ]
  },
  {
   "cell_type": "code",
   "execution_count": 148,
   "id": "34b3dd29",
   "metadata": {},
   "outputs": [
    {
     "name": "stderr",
     "output_type": "stream",
     "text": [
      "100%|██████████| 99999999/99999999 [2:38:55<00:00, 10487.45it/s]  \n"
     ]
    }
   ],
   "source": [
    "KINE_DT5, POTE_DT5, VEL_DT5, TEMP_DT5, PRESS_DT5, VOL_DT5 = main(n_steps = 100000000, N = 10, L = 5, dt = 1E-5, TEMPS = 100, TEMP0 = 100, PRESS0 = 1, init_random = 0, boundary = pbc, update = 10000,\n",
    "                                                                 pair_list_update = 1, rc = 1000., rb = 1000., file1 = 'Test.pdb', file2 = 'Vel.txt', file3 = 'POTE.txt', file4 = 'KINE.txt',\n",
    "                                                                 r_init = r_init, v_init = v_init, static = False, tauT = 1.0, tauP = 1.0)"
   ]
  },
  {
   "cell_type": "code",
   "execution_count": 149,
   "id": "ae91cd3f",
   "metadata": {},
   "outputs": [
    {
     "name": "stderr",
     "output_type": "stream",
     "text": [
      "100%|██████████| 999999/999999 [01:30<00:00, 11031.94it/s]\n"
     ]
    }
   ],
   "source": [
    "KINE_DT3, POTE_DT3, VEL_DT3, TEMP_DT3, PRESS_DT3, VOL_DT3 = main(n_steps = 1000000, N = 10, L = 5, dt = 1E-3, TEMPS = 100, TEMP0 = 100, PRESS0 = 1, init_random = 0, boundary = pbc, update = 100,\n",
    "                                                                 pair_list_update = 1, rc = 1000., rb = 1000., file1 = 'Test.pdb', file2 = 'Vel.txt', file3 = 'POTE.txt', file4 = 'KINE.txt',\n",
    "                                                                 r_init = r_init, v_init = v_init, static = False, tauT = 1.0, tauP = 1.0)"
   ]
  },
  {
   "cell_type": "code",
   "execution_count": 150,
   "id": "a8b9d1de",
   "metadata": {},
   "outputs": [
    {
     "name": "stderr",
     "output_type": "stream",
     "text": [
      "100%|██████████| 9999/9999 [00:01<00:00, 9464.77it/s]\n"
     ]
    }
   ],
   "source": [
    "KINE_DT1, POTE_DT1, VEL_DT1, TEMP_DT1, PRESS_DT1, VOL_DT1 = main(n_steps = 10000, N = 10, L = 5, dt = 1E-1, TEMPS = 100, TEMP0 = 100, PRESS0 = 1, init_random = 0, boundary = pbc, update = 1,\n",
    "                                                                 pair_list_update = 1, rc = 1000., rb = 1000., file1 = 'Test.pdb', file2 = 'Vel.txt', file3 = 'POTE.txt', file4 = 'KINE.txt',\n",
    "                                                                 r_init = r_init, v_init = v_init, static = False, tauT = 1.0, tauP = 1.0)"
   ]
  },
  {
   "cell_type": "code",
   "execution_count": 151,
   "id": "229b3755",
   "metadata": {},
   "outputs": [],
   "source": [
    "TE_DT5 = KINE_DT5 + POTE_DT5\n",
    "TE_DT3 = KINE_DT3 + POTE_DT3\n",
    "TE_DT1 = KINE_DT1 + POTE_DT1"
   ]
  },
  {
   "cell_type": "code",
   "execution_count": 155,
   "id": "1682c782",
   "metadata": {},
   "outputs": [
    {
     "data": {
      "text/plain": [
       "10000"
      ]
     },
     "execution_count": 155,
     "metadata": {},
     "output_type": "execute_result"
    }
   ],
   "source": [
    "len(TE_DT3)"
   ]
  },
  {
   "cell_type": "markdown",
   "id": "75b7e72f",
   "metadata": {},
   "source": [
    "\"Drift is calculated by performing a least-squares fit of the data to a straight line. The reported total drift is the difference of the fit at the first and last point.\" - GROMACS"
   ]
  },
  {
   "cell_type": "code",
   "execution_count": 156,
   "id": "1427d86c",
   "metadata": {},
   "outputs": [],
   "source": [
    "t_DT5 = np.linspace(0, 1000, 10000)\n",
    "t_DT3 = np.linspace(0, 1000, 10000)\n",
    "t_DT1 = np.linspace(0, 1000, 10000)"
   ]
  },
  {
   "cell_type": "code",
   "execution_count": 157,
   "id": "b6e4e4a8",
   "metadata": {},
   "outputs": [],
   "source": [
    "def get_drift(x, y):\n",
    "    \n",
    "    fit_a, fit_b = np.polyfit(x = x, y = y, deg = 1)\n",
    "    \n",
    "    first = fit_a * x[0] + fit_b\n",
    "    last = fit_a * x[-1] + fit_b\n",
    "    \n",
    "    return last - first\n",
    "    "
   ]
  },
  {
   "cell_type": "code",
   "execution_count": 159,
   "id": "fef01743",
   "metadata": {},
   "outputs": [
    {
     "name": "stdout",
     "output_type": "stream",
     "text": [
      "Drift of dt=1E-5: -2.554692457579222e-09\n",
      "Drift of dt=1E-3: 4.6088674565680776e-07\n",
      "Drift of dt=1E-1: 3.0175723156989542e+25\n"
     ]
    }
   ],
   "source": [
    "print(\"Drift of dt=1E-5:\", get_drift(t_DT5, TE_DT5))\n",
    "print(\"Drift of dt=1E-3:\", get_drift(t_DT3, TE_DT3))\n",
    "print(\"Drift of dt=1E-1:\", get_drift(t_DT1, TE_DT1))"
   ]
  },
  {
   "cell_type": "code",
   "execution_count": 166,
   "id": "787287a5",
   "metadata": {},
   "outputs": [
    {
     "data": {
      "text/plain": [
       "(40.0, 42.0)"
      ]
     },
     "execution_count": 166,
     "metadata": {},
     "output_type": "execute_result"
    },
    {
     "data": {
      "image/png": "[encoded data removed]",
      "text/plain": [
       "<Figure size 432x288 with 1 Axes>"
      ]
     },
     "metadata": {
      "needs_background": "light"
     },
     "output_type": "display_data"
    }
   ],
   "source": [
    "plt.plot(TE_DT5)\n",
    "plt.plot(TE_DT3)\n",
    "plt.plot(TE_DT1)\n",
    "plt.ylim(40, 42)"
   ]
  },
  {
   "cell_type": "markdown",
   "id": "42fbf444",
   "metadata": {},
   "source": [
    "# Scaling"
   ]
  },
  {
   "cell_type": "code",
   "execution_count": 113,
   "id": "4d05c8fa",
   "metadata": {},
   "outputs": [],
   "source": [
    "def get_vol(p, n):\n",
    "    \n",
    "    return (n/p)**(1/3)"
   ]
  },
  {
   "cell_type": "code",
   "execution_count": 114,
   "id": "421f5ec1",
   "metadata": {},
   "outputs": [
    {
     "data": {
      "text/plain": [
       "2.0"
      ]
     },
     "execution_count": 114,
     "metadata": {},
     "output_type": "execute_result"
    }
   ],
   "source": []
  },
  {
   "cell_type": "code",
   "execution_count": 108,
   "id": "ece6ac21",
   "metadata": {},
   "outputs": [
    {
     "name": "stderr",
     "output_type": "stream",
     "text": [
      "100%|██████████| 99/99 [00:00<00:00, 381.92it/s]\n"
     ]
    }
   ],
   "source": [
    "KINE_Scaling10, POTE_Scaling10 = main(n_steps = 100, N = 10, L = 2, dt = 1E-3, TEMPS = 100, init_random = 1, boundary = pbc, update = 100,\n",
    "                                      pair_list_update = 10, rc = 1., file1 = 'Test.pdb', file2 = 'Vel.txt', file3 = 'POTE.txt', file4 = 'KINE.txt',\n",
    "                                      r_init = r_init, v_init = v_init)"
   ]
  },
  {
   "cell_type": "code",
   "execution_count": 116,
   "id": "a65fec30",
   "metadata": {},
   "outputs": [
    {
     "name": "stderr",
     "output_type": "stream",
     "text": [
      "100%|██████████| 99/99 [00:02<00:00, 33.29it/s]\n"
     ]
    }
   ],
   "source": [
    "KINE_Scaling10, POTE_Scaling10 = main(n_steps = 100, N = 100, L = 4.3, dt = 1E-3, TEMPS = 100, init_random = 1, boundary = pbc, update = 100,\n",
    "                                      pair_list_update = 10, rc = 1., file1 = 'Test.pdb', file2 = 'Vel.txt', file3 = 'POTE.txt', file4 = 'KINE.txt',\n",
    "                                      r_init = r_init, v_init = v_init)"
   ]
  },
  {
   "cell_type": "code",
   "execution_count": 118,
   "id": "75ec4572",
   "metadata": {},
   "outputs": [
    {
     "name": "stderr",
     "output_type": "stream",
     "text": [
      "100%|██████████| 99/99 [00:15<00:00,  6.26it/s]\n"
     ]
    }
   ],
   "source": [
    "KINE_Scaling10, POTE_Scaling10 = main(n_steps = 100, N = 300, L = 6.21, dt = 1E-3, TEMPS = 100, init_random = 1, boundary = pbc, update = 100,\n",
    "                                      pair_list_update = 10, rc = 1., file1 = 'Test.pdb', file2 = 'Vel.txt', file3 = 'POTE.txt', file4 = 'KINE.txt',\n",
    "                                      r_init = r_init, v_init = v_init)"
   ]
  },
  {
   "cell_type": "code",
   "execution_count": 120,
   "id": "8fc05f01",
   "metadata": {},
   "outputs": [
    {
     "name": "stderr",
     "output_type": "stream",
     "text": [
      "100%|██████████| 99/99 [00:38<00:00,  2.60it/s]\n"
     ]
    }
   ],
   "source": [
    "KINE_Scaling10, POTE_Scaling10 = main(n_steps = 100, N = 500, L = 7.37, dt = 1E-3, TEMPS = 100, init_random = 1, boundary = pbc, update = 100,\n",
    "                                      pair_list_update = 10, rc = 1., file1 = 'Test.pdb', file2 = 'Vel.txt', file3 = 'POTE.txt', file4 = 'KINE.txt',\n",
    "                                      r_init = r_init, v_init = v_init)"
   ]
  },
  {
   "cell_type": "code",
   "execution_count": 121,
   "id": "6db3b2b9",
   "metadata": {},
   "outputs": [
    {
     "data": {
      "text/plain": [
       "8.242570599617112"
      ]
     },
     "execution_count": 121,
     "metadata": {},
     "output_type": "execute_result"
    }
   ],
   "source": [
    "get_vol(1.25, 700)"
   ]
  },
  {
   "cell_type": "code",
   "execution_count": 122,
   "id": "fb53c02a",
   "metadata": {},
   "outputs": [
    {
     "name": "stderr",
     "output_type": "stream",
     "text": [
      "100%|██████████| 99/99 [01:12<00:00,  1.36it/s]\n"
     ]
    }
   ],
   "source": [
    "KINE_Scaling10, POTE_Scaling10 = main(n_steps = 100, N = 700, L = 8.24, dt = 1E-3, TEMPS = 100, init_random = 1, boundary = pbc, update = 100,\n",
    "                                      pair_list_update = 10, rc = 1., file1 = 'Test.pdb', file2 = 'Vel.txt', file3 = 'POTE.txt', file4 = 'KINE.txt',\n",
    "                                      r_init = r_init, v_init = v_init)"
   ]
  },
  {
   "cell_type": "code",
   "execution_count": null,
   "id": "e9e17f88",
   "metadata": {},
   "outputs": [],
   "source": []
  },
  {
   "cell_type": "code",
   "execution_count": 123,
   "id": "4311a1f2",
   "metadata": {},
   "outputs": [
    {
     "name": "stderr",
     "output_type": "stream",
     "text": [
      "100%|██████████| 99/99 [00:00<00:00, 158.37it/s]\n"
     ]
    }
   ],
   "source": [
    "KINE_Scaling10, POTE_Scaling10 = main(n_steps = 100, N = 10, L = 2, dt = 1E-3, TEMPS = 100, init_random = 1, boundary = pbc, update = 100,\n",
    "                                      pair_list_update = 1, rc = 1000., file1 = 'Test.pdb', file2 = 'Vel.txt', file3 = 'POTE.txt', file4 = 'KINE.txt',\n",
    "                                      r_init = r_init, v_init = v_init)"
   ]
  },
  {
   "cell_type": "code",
   "execution_count": 124,
   "id": "8a43ff74",
   "metadata": {},
   "outputs": [
    {
     "name": "stderr",
     "output_type": "stream",
     "text": [
      "100%|██████████| 99/99 [01:00<00:00,  1.63it/s]\n"
     ]
    }
   ],
   "source": [
    "KINE_Scaling10, POTE_Scaling10 = main(n_steps = 100, N = 100, L = 4.3, dt = 1E-3, TEMPS = 100, init_random = 1, boundary = pbc, update = 100,\n",
    "                                      pair_list_update = 1, rc = 1000., file1 = 'Test.pdb', file2 = 'Vel.txt', file3 = 'POTE.txt', file4 = 'KINE.txt',\n",
    "                                      r_init = r_init, v_init = v_init)"
   ]
  },
  {
   "cell_type": "code",
   "execution_count": null,
   "id": "6b8bc62a",
   "metadata": {},
   "outputs": [],
   "source": [
    "26*60 +55"
   ]
  },
  {
   "cell_type": "code",
   "execution_count": null,
   "id": "99b0ef8f",
   "metadata": {},
   "outputs": [],
   "source": [
    "KINE_Scaling10, POTE_Scaling10 = main(n_steps = 100, N = 300, L = 6.21, dt = 1E-3, TEMPS = 100, init_random = 1, boundary = pbc, update = 100,\n",
    "                                      pair_list_update = 1, rc = 1000., file1 = 'Test.pdb', file2 = 'Vel.txt', file3 = 'POTE.txt', file4 = 'KINE.txt',\n",
    "                                      r_init = r_init, v_init = v_init)"
   ]
  },
  {
   "cell_type": "code",
   "execution_count": 128,
   "id": "dc8ce8f0",
   "metadata": {},
   "outputs": [
    {
     "name": "stderr",
     "output_type": "stream",
     "text": [
      "  2%|▏         | 2/99 [02:45<2:13:29, 82.57s/it]\n"
     ]
    },
    {
     "ename": "KeyboardInterrupt",
     "evalue": "",
     "output_type": "error",
     "traceback": [
      "\u001b[0;31m---------------------------------------------------------------------------\u001b[0m",
      "\u001b[0;31mKeyboardInterrupt\u001b[0m                         Traceback (most recent call last)",
      "\u001b[0;32m<ipython-input-128-cf55abab268b>\u001b[0m in \u001b[0;36m<module>\u001b[0;34m\u001b[0m\n\u001b[0;32m----> 1\u001b[0;31m KINE_Scaling10, POTE_Scaling10 = main(n_steps = 100, N = 500, L = 7.37, dt = 1E-3, TEMPS = 100, init_random = 1, boundary = pbc, update = 100,\n\u001b[0m\u001b[1;32m      2\u001b[0m                                       \u001b[0mpair_list_update\u001b[0m \u001b[0;34m=\u001b[0m \u001b[0;36m1\u001b[0m\u001b[0;34m,\u001b[0m \u001b[0mrc\u001b[0m \u001b[0;34m=\u001b[0m \u001b[0;36m1000.\u001b[0m\u001b[0;34m,\u001b[0m \u001b[0mfile1\u001b[0m \u001b[0;34m=\u001b[0m \u001b[0;34m'Test.pdb'\u001b[0m\u001b[0;34m,\u001b[0m \u001b[0mfile2\u001b[0m \u001b[0;34m=\u001b[0m \u001b[0;34m'Vel.txt'\u001b[0m\u001b[0;34m,\u001b[0m \u001b[0mfile3\u001b[0m \u001b[0;34m=\u001b[0m \u001b[0;34m'POTE.txt'\u001b[0m\u001b[0;34m,\u001b[0m \u001b[0mfile4\u001b[0m \u001b[0;34m=\u001b[0m \u001b[0;34m'KINE.txt'\u001b[0m\u001b[0;34m,\u001b[0m\u001b[0;34m\u001b[0m\u001b[0;34m\u001b[0m\u001b[0m\n\u001b[1;32m      3\u001b[0m                                       r_init = r_init, v_init = v_init)\n",
      "\u001b[0;32m<ipython-input-12-a5f6825a816a>\u001b[0m in \u001b[0;36mmain\u001b[0;34m(n_steps, N, L, dt, TEMPS, init_random, boundary, update, pair_list_update, rc, file1, file2, file3, file4, r_init, v_init)\u001b[0m\n\u001b[1;32m     37\u001b[0m     \u001b[0;32mfor\u001b[0m \u001b[0mstep\u001b[0m \u001b[0;32min\u001b[0m \u001b[0mtqdm\u001b[0m\u001b[0;34m(\u001b[0m\u001b[0mrange\u001b[0m\u001b[0;34m(\u001b[0m\u001b[0;36m1\u001b[0m\u001b[0;34m,\u001b[0m \u001b[0mn_steps\u001b[0m\u001b[0;34m)\u001b[0m\u001b[0;34m)\u001b[0m\u001b[0;34m:\u001b[0m\u001b[0;34m\u001b[0m\u001b[0;34m\u001b[0m\u001b[0m\n\u001b[1;32m     38\u001b[0m \u001b[0;34m\u001b[0m\u001b[0m\n\u001b[0;32m---> 39\u001b[0;31m         r, v, f, pote, pair_mask = velocity_verlet(r, v, f, m, eps, sig, dt, boundary, N, L,\n\u001b[0m\u001b[1;32m     40\u001b[0m                                                    pair_list_update, rc, step, pair_mask)\n\u001b[1;32m     41\u001b[0m \u001b[0;34m\u001b[0m\u001b[0m\n",
      "\u001b[0;32m<ipython-input-11-6b03630ed792>\u001b[0m in \u001b[0;36mvelocity_verlet\u001b[0;34m(r, v, f, m, eps, sig, dt, boundary, N, L, pair_list_update, rc, step, pair_mask)\u001b[0m\n\u001b[1;32m      5\u001b[0m     \u001b[0mrdt\u001b[0m\u001b[0;34m,\u001b[0m \u001b[0mv\u001b[0m \u001b[0;34m=\u001b[0m \u001b[0mboundary\u001b[0m\u001b[0;34m(\u001b[0m\u001b[0mrdt\u001b[0m\u001b[0;34m,\u001b[0m \u001b[0mv\u001b[0m\u001b[0;34m,\u001b[0m \u001b[0mL\u001b[0m\u001b[0;34m)\u001b[0m\u001b[0;34m\u001b[0m\u001b[0;34m\u001b[0m\u001b[0m\n\u001b[1;32m      6\u001b[0m \u001b[0;34m\u001b[0m\u001b[0m\n\u001b[0;32m----> 7\u001b[0;31m     \u001b[0;32mif\u001b[0m \u001b[0;32mnot\u001b[0m \u001b[0mstep\u001b[0m \u001b[0;34m%\u001b[0m \u001b[0mpair_list_update\u001b[0m\u001b[0;34m:\u001b[0m \u001b[0mpair_mask\u001b[0m \u001b[0;34m=\u001b[0m \u001b[0mpair_list\u001b[0m\u001b[0;34m(\u001b[0m\u001b[0mrdt\u001b[0m\u001b[0;34m,\u001b[0m \u001b[0mN\u001b[0m\u001b[0;34m,\u001b[0m \u001b[0mrc\u001b[0m\u001b[0;34m,\u001b[0m \u001b[0mL\u001b[0m\u001b[0;34m)\u001b[0m\u001b[0;34m\u001b[0m\u001b[0;34m\u001b[0m\u001b[0m\n\u001b[0m\u001b[1;32m      8\u001b[0m \u001b[0;34m\u001b[0m\u001b[0m\n\u001b[1;32m      9\u001b[0m     \u001b[0mfdt\u001b[0m\u001b[0;34m,\u001b[0m \u001b[0mpote\u001b[0m \u001b[0;34m=\u001b[0m \u001b[0mforce\u001b[0m\u001b[0;34m(\u001b[0m\u001b[0mrdt\u001b[0m\u001b[0;34m,\u001b[0m \u001b[0mN\u001b[0m\u001b[0;34m,\u001b[0m \u001b[0msig\u001b[0m\u001b[0;34m,\u001b[0m \u001b[0meps\u001b[0m\u001b[0;34m,\u001b[0m \u001b[0mpair_mask\u001b[0m\u001b[0;34m,\u001b[0m \u001b[0mL\u001b[0m\u001b[0;34m)\u001b[0m\u001b[0;34m\u001b[0m\u001b[0;34m\u001b[0m\u001b[0m\n",
      "\u001b[0;32m<ipython-input-7-a358fde6477a>\u001b[0m in \u001b[0;36mpair_list\u001b[0;34m(r, N, rc, L)\u001b[0m\n\u001b[1;32m     10\u001b[0m             \u001b[0mdr_ij\u001b[0m \u001b[0;34m=\u001b[0m \u001b[0mpbc_dist\u001b[0m\u001b[0;34m(\u001b[0m\u001b[0mr_ij\u001b[0m\u001b[0;34m,\u001b[0m \u001b[0mL\u001b[0m\u001b[0;34m)\u001b[0m\u001b[0;34m\u001b[0m\u001b[0;34m\u001b[0m\u001b[0m\n\u001b[1;32m     11\u001b[0m \u001b[0;34m\u001b[0m\u001b[0m\n\u001b[0;32m---> 12\u001b[0;31m             \u001b[0;32mif\u001b[0m \u001b[0mdr_ij\u001b[0m \u001b[0;34m<=\u001b[0m \u001b[0mrc\u001b[0m\u001b[0;34m:\u001b[0m \u001b[0mpair_mask\u001b[0m \u001b[0;34m=\u001b[0m \u001b[0mnp\u001b[0m\u001b[0;34m.\u001b[0m\u001b[0mvstack\u001b[0m\u001b[0;34m(\u001b[0m\u001b[0;34m[\u001b[0m\u001b[0mpair_mask\u001b[0m\u001b[0;34m,\u001b[0m \u001b[0mnp\u001b[0m\u001b[0;34m.\u001b[0m\u001b[0marray\u001b[0m\u001b[0;34m(\u001b[0m\u001b[0;34m[\u001b[0m\u001b[0mi\u001b[0m\u001b[0;34m,\u001b[0m \u001b[0mj\u001b[0m\u001b[0;34m]\u001b[0m\u001b[0;34m)\u001b[0m\u001b[0;34m]\u001b[0m\u001b[0;34m)\u001b[0m\u001b[0;34m\u001b[0m\u001b[0;34m\u001b[0m\u001b[0m\n\u001b[0m\u001b[1;32m     13\u001b[0m             \u001b[0;32melse\u001b[0m\u001b[0;34m:\u001b[0m \u001b[0;32mpass\u001b[0m\u001b[0;34m\u001b[0m\u001b[0;34m\u001b[0m\u001b[0m\n\u001b[1;32m     14\u001b[0m \u001b[0;34m\u001b[0m\u001b[0m\n",
      "\u001b[0;32m<__array_function__ internals>\u001b[0m in \u001b[0;36mvstack\u001b[0;34m(*args, **kwargs)\u001b[0m\n",
      "\u001b[0;32m~/miniconda3/envs/Work/lib/python3.8/site-packages/numpy/core/shape_base.py\u001b[0m in \u001b[0;36mvstack\u001b[0;34m(tup)\u001b[0m\n\u001b[1;32m    281\u001b[0m     \u001b[0;32mif\u001b[0m \u001b[0;32mnot\u001b[0m \u001b[0misinstance\u001b[0m\u001b[0;34m(\u001b[0m\u001b[0marrs\u001b[0m\u001b[0;34m,\u001b[0m \u001b[0mlist\u001b[0m\u001b[0;34m)\u001b[0m\u001b[0;34m:\u001b[0m\u001b[0;34m\u001b[0m\u001b[0;34m\u001b[0m\u001b[0m\n\u001b[1;32m    282\u001b[0m         \u001b[0marrs\u001b[0m \u001b[0;34m=\u001b[0m \u001b[0;34m[\u001b[0m\u001b[0marrs\u001b[0m\u001b[0;34m]\u001b[0m\u001b[0;34m\u001b[0m\u001b[0;34m\u001b[0m\u001b[0m\n\u001b[0;32m--> 283\u001b[0;31m     \u001b[0;32mreturn\u001b[0m \u001b[0m_nx\u001b[0m\u001b[0;34m.\u001b[0m\u001b[0mconcatenate\u001b[0m\u001b[0;34m(\u001b[0m\u001b[0marrs\u001b[0m\u001b[0;34m,\u001b[0m \u001b[0;36m0\u001b[0m\u001b[0;34m)\u001b[0m\u001b[0;34m\u001b[0m\u001b[0;34m\u001b[0m\u001b[0m\n\u001b[0m\u001b[1;32m    284\u001b[0m \u001b[0;34m\u001b[0m\u001b[0m\n\u001b[1;32m    285\u001b[0m \u001b[0;34m\u001b[0m\u001b[0m\n",
      "\u001b[0;32m<__array_function__ internals>\u001b[0m in \u001b[0;36mconcatenate\u001b[0;34m(*args, **kwargs)\u001b[0m\n",
      "\u001b[0;31mKeyboardInterrupt\u001b[0m: "
     ]
    }
   ],
   "source": [
    "KINE_Scaling10, POTE_Scaling10 = main(n_steps = 100, N = 500, L = 7.37, dt = 1E-3, TEMPS = 100, init_random = 1, boundary = pbc, update = 100,\n",
    "                                      pair_list_update = 1, rc = 1000., file1 = 'Test.pdb', file2 = 'Vel.txt', file3 = 'POTE.txt', file4 = 'KINE.txt',\n",
    "                                      r_init = r_init, v_init = v_init)"
   ]
  },
  {
   "cell_type": "code",
   "execution_count": 129,
   "id": "7569660d",
   "metadata": {},
   "outputs": [
    {
     "name": "stderr",
     "output_type": "stream",
     "text": [
      "  1%|          | 1/99 [03:27<5:39:11, 207.66s/it]\n"
     ]
    },
    {
     "ename": "KeyboardInterrupt",
     "evalue": "",
     "output_type": "error",
     "traceback": [
      "\u001b[0;31m---------------------------------------------------------------------------\u001b[0m",
      "\u001b[0;31mKeyboardInterrupt\u001b[0m                         Traceback (most recent call last)",
      "\u001b[0;32m<ipython-input-129-d9d6d8a95545>\u001b[0m in \u001b[0;36m<module>\u001b[0;34m\u001b[0m\n\u001b[0;32m----> 1\u001b[0;31m KINE_Scaling10, POTE_Scaling10 = main(n_steps = 100, N = 700, L = 8.24, dt = 1E-3, TEMPS = 100, init_random = 1, boundary = pbc, update = 100,\n\u001b[0m\u001b[1;32m      2\u001b[0m                                       \u001b[0mpair_list_update\u001b[0m \u001b[0;34m=\u001b[0m \u001b[0;36m1\u001b[0m\u001b[0;34m,\u001b[0m \u001b[0mrc\u001b[0m \u001b[0;34m=\u001b[0m \u001b[0;36m1000.\u001b[0m\u001b[0;34m,\u001b[0m \u001b[0mfile1\u001b[0m \u001b[0;34m=\u001b[0m \u001b[0;34m'Test.pdb'\u001b[0m\u001b[0;34m,\u001b[0m \u001b[0mfile2\u001b[0m \u001b[0;34m=\u001b[0m \u001b[0;34m'Vel.txt'\u001b[0m\u001b[0;34m,\u001b[0m \u001b[0mfile3\u001b[0m \u001b[0;34m=\u001b[0m \u001b[0;34m'POTE.txt'\u001b[0m\u001b[0;34m,\u001b[0m \u001b[0mfile4\u001b[0m \u001b[0;34m=\u001b[0m \u001b[0;34m'KINE.txt'\u001b[0m\u001b[0;34m,\u001b[0m\u001b[0;34m\u001b[0m\u001b[0;34m\u001b[0m\u001b[0m\n\u001b[1;32m      3\u001b[0m                                       r_init = r_init, v_init = v_init)\n",
      "\u001b[0;32m<ipython-input-12-a5f6825a816a>\u001b[0m in \u001b[0;36mmain\u001b[0;34m(n_steps, N, L, dt, TEMPS, init_random, boundary, update, pair_list_update, rc, file1, file2, file3, file4, r_init, v_init)\u001b[0m\n\u001b[1;32m     37\u001b[0m     \u001b[0;32mfor\u001b[0m \u001b[0mstep\u001b[0m \u001b[0;32min\u001b[0m \u001b[0mtqdm\u001b[0m\u001b[0;34m(\u001b[0m\u001b[0mrange\u001b[0m\u001b[0;34m(\u001b[0m\u001b[0;36m1\u001b[0m\u001b[0;34m,\u001b[0m \u001b[0mn_steps\u001b[0m\u001b[0;34m)\u001b[0m\u001b[0;34m)\u001b[0m\u001b[0;34m:\u001b[0m\u001b[0;34m\u001b[0m\u001b[0;34m\u001b[0m\u001b[0m\n\u001b[1;32m     38\u001b[0m \u001b[0;34m\u001b[0m\u001b[0m\n\u001b[0;32m---> 39\u001b[0;31m         r, v, f, pote, pair_mask = velocity_verlet(r, v, f, m, eps, sig, dt, boundary, N, L,\n\u001b[0m\u001b[1;32m     40\u001b[0m                                                    pair_list_update, rc, step, pair_mask)\n\u001b[1;32m     41\u001b[0m \u001b[0;34m\u001b[0m\u001b[0m\n",
      "\u001b[0;32m<ipython-input-11-6b03630ed792>\u001b[0m in \u001b[0;36mvelocity_verlet\u001b[0;34m(r, v, f, m, eps, sig, dt, boundary, N, L, pair_list_update, rc, step, pair_mask)\u001b[0m\n\u001b[1;32m      5\u001b[0m     \u001b[0mrdt\u001b[0m\u001b[0;34m,\u001b[0m \u001b[0mv\u001b[0m \u001b[0;34m=\u001b[0m \u001b[0mboundary\u001b[0m\u001b[0;34m(\u001b[0m\u001b[0mrdt\u001b[0m\u001b[0;34m,\u001b[0m \u001b[0mv\u001b[0m\u001b[0;34m,\u001b[0m \u001b[0mL\u001b[0m\u001b[0;34m)\u001b[0m\u001b[0;34m\u001b[0m\u001b[0;34m\u001b[0m\u001b[0m\n\u001b[1;32m      6\u001b[0m \u001b[0;34m\u001b[0m\u001b[0m\n\u001b[0;32m----> 7\u001b[0;31m     \u001b[0;32mif\u001b[0m \u001b[0;32mnot\u001b[0m \u001b[0mstep\u001b[0m \u001b[0;34m%\u001b[0m \u001b[0mpair_list_update\u001b[0m\u001b[0;34m:\u001b[0m \u001b[0mpair_mask\u001b[0m \u001b[0;34m=\u001b[0m \u001b[0mpair_list\u001b[0m\u001b[0;34m(\u001b[0m\u001b[0mrdt\u001b[0m\u001b[0;34m,\u001b[0m \u001b[0mN\u001b[0m\u001b[0;34m,\u001b[0m \u001b[0mrc\u001b[0m\u001b[0;34m,\u001b[0m \u001b[0mL\u001b[0m\u001b[0;34m)\u001b[0m\u001b[0;34m\u001b[0m\u001b[0;34m\u001b[0m\u001b[0m\n\u001b[0m\u001b[1;32m      8\u001b[0m \u001b[0;34m\u001b[0m\u001b[0m\n\u001b[1;32m      9\u001b[0m     \u001b[0mfdt\u001b[0m\u001b[0;34m,\u001b[0m \u001b[0mpote\u001b[0m \u001b[0;34m=\u001b[0m \u001b[0mforce\u001b[0m\u001b[0;34m(\u001b[0m\u001b[0mrdt\u001b[0m\u001b[0;34m,\u001b[0m \u001b[0mN\u001b[0m\u001b[0;34m,\u001b[0m \u001b[0msig\u001b[0m\u001b[0;34m,\u001b[0m \u001b[0meps\u001b[0m\u001b[0;34m,\u001b[0m \u001b[0mpair_mask\u001b[0m\u001b[0;34m,\u001b[0m \u001b[0mL\u001b[0m\u001b[0;34m)\u001b[0m\u001b[0;34m\u001b[0m\u001b[0;34m\u001b[0m\u001b[0m\n",
      "\u001b[0;32m<ipython-input-7-a358fde6477a>\u001b[0m in \u001b[0;36mpair_list\u001b[0;34m(r, N, rc, L)\u001b[0m\n\u001b[1;32m     10\u001b[0m             \u001b[0mdr_ij\u001b[0m \u001b[0;34m=\u001b[0m \u001b[0mpbc_dist\u001b[0m\u001b[0;34m(\u001b[0m\u001b[0mr_ij\u001b[0m\u001b[0;34m,\u001b[0m \u001b[0mL\u001b[0m\u001b[0;34m)\u001b[0m\u001b[0;34m\u001b[0m\u001b[0;34m\u001b[0m\u001b[0m\n\u001b[1;32m     11\u001b[0m \u001b[0;34m\u001b[0m\u001b[0m\n\u001b[0;32m---> 12\u001b[0;31m             \u001b[0;32mif\u001b[0m \u001b[0mdr_ij\u001b[0m \u001b[0;34m<=\u001b[0m \u001b[0mrc\u001b[0m\u001b[0;34m:\u001b[0m \u001b[0mpair_mask\u001b[0m \u001b[0;34m=\u001b[0m \u001b[0mnp\u001b[0m\u001b[0;34m.\u001b[0m\u001b[0mvstack\u001b[0m\u001b[0;34m(\u001b[0m\u001b[0;34m[\u001b[0m\u001b[0mpair_mask\u001b[0m\u001b[0;34m,\u001b[0m \u001b[0mnp\u001b[0m\u001b[0;34m.\u001b[0m\u001b[0marray\u001b[0m\u001b[0;34m(\u001b[0m\u001b[0;34m[\u001b[0m\u001b[0mi\u001b[0m\u001b[0;34m,\u001b[0m \u001b[0mj\u001b[0m\u001b[0;34m]\u001b[0m\u001b[0;34m)\u001b[0m\u001b[0;34m]\u001b[0m\u001b[0;34m)\u001b[0m\u001b[0;34m\u001b[0m\u001b[0;34m\u001b[0m\u001b[0m\n\u001b[0m\u001b[1;32m     13\u001b[0m             \u001b[0;32melse\u001b[0m\u001b[0;34m:\u001b[0m \u001b[0;32mpass\u001b[0m\u001b[0;34m\u001b[0m\u001b[0;34m\u001b[0m\u001b[0m\n\u001b[1;32m     14\u001b[0m \u001b[0;34m\u001b[0m\u001b[0m\n",
      "\u001b[0;32m<__array_function__ internals>\u001b[0m in \u001b[0;36mvstack\u001b[0;34m(*args, **kwargs)\u001b[0m\n",
      "\u001b[0;32m~/miniconda3/envs/Work/lib/python3.8/site-packages/numpy/core/shape_base.py\u001b[0m in \u001b[0;36mvstack\u001b[0;34m(tup)\u001b[0m\n\u001b[1;32m    281\u001b[0m     \u001b[0;32mif\u001b[0m \u001b[0;32mnot\u001b[0m \u001b[0misinstance\u001b[0m\u001b[0;34m(\u001b[0m\u001b[0marrs\u001b[0m\u001b[0;34m,\u001b[0m \u001b[0mlist\u001b[0m\u001b[0;34m)\u001b[0m\u001b[0;34m:\u001b[0m\u001b[0;34m\u001b[0m\u001b[0;34m\u001b[0m\u001b[0m\n\u001b[1;32m    282\u001b[0m         \u001b[0marrs\u001b[0m \u001b[0;34m=\u001b[0m \u001b[0;34m[\u001b[0m\u001b[0marrs\u001b[0m\u001b[0;34m]\u001b[0m\u001b[0;34m\u001b[0m\u001b[0;34m\u001b[0m\u001b[0m\n\u001b[0;32m--> 283\u001b[0;31m     \u001b[0;32mreturn\u001b[0m \u001b[0m_nx\u001b[0m\u001b[0;34m.\u001b[0m\u001b[0mconcatenate\u001b[0m\u001b[0;34m(\u001b[0m\u001b[0marrs\u001b[0m\u001b[0;34m,\u001b[0m \u001b[0;36m0\u001b[0m\u001b[0;34m)\u001b[0m\u001b[0;34m\u001b[0m\u001b[0;34m\u001b[0m\u001b[0m\n\u001b[0m\u001b[1;32m    284\u001b[0m \u001b[0;34m\u001b[0m\u001b[0m\n\u001b[1;32m    285\u001b[0m \u001b[0;34m\u001b[0m\u001b[0m\n",
      "\u001b[0;32m<__array_function__ internals>\u001b[0m in \u001b[0;36mconcatenate\u001b[0;34m(*args, **kwargs)\u001b[0m\n",
      "\u001b[0;31mKeyboardInterrupt\u001b[0m: "
     ]
    }
   ],
   "source": [
    "KINE_Scaling10, POTE_Scaling10 = main(n_steps = 100, N = 700, L = 8.24, dt = 1E-3, TEMPS = 100, init_random = 1, boundary = pbc, update = 100,\n",
    "                                      pair_list_update = 1, rc = 1000., file1 = 'Test.pdb', file2 = 'Vel.txt', file3 = 'POTE.txt', file4 = 'KINE.txt',\n",
    "                                      r_init = r_init, v_init = v_init)"
   ]
  },
  {
   "cell_type": "code",
   "execution_count": 131,
   "id": "de4cd0bb",
   "metadata": {},
   "outputs": [
    {
     "data": {
      "text/plain": [
       "8009"
      ]
     },
     "execution_count": 131,
     "metadata": {},
     "output_type": "execute_result"
    }
   ],
   "source": [
    "2*60*60+13*60+29"
   ]
  },
  {
   "cell_type": "code",
   "execution_count": 134,
   "id": "90ffebd5",
   "metadata": {},
   "outputs": [
    {
     "data": {
      "text/plain": [
       "Text(0, 0.5, 'Time (s)')"
      ]
     },
     "execution_count": 134,
     "metadata": {},
     "output_type": "execute_result"
    },
    {
     "data": {
      "image/png": "[encoded data removed]",
      "text/plain": [
       "<Figure size 432x288 with 1 Axes>"
      ]
     },
     "metadata": {
      "needs_background": "light"
     },
     "output_type": "display_data"
    }
   ],
   "source": [
    "WITH_PAIR = [0, 2, 15, 38, 72]\n",
    "WO_PAIR = [0, 60, 1610, 8009, 20351]\n",
    "N = [10, 100, 300, 500, 700]\n",
    "plt.plot(N, WITH_PAIR, label = 'With Pair-List')\n",
    "plt.plot(N, WO_PAIR, label = 'Without Pair-List')\n",
    "plt.grid(True)\n",
    "plt.title('Scaling with & w/o a Pair List', fontweight = 'bold')\n",
    "plt.xlabel('No. of Particles')\n",
    "plt.ylabel('Time (s)')"
   ]
  },
  {
   "cell_type": "markdown",
   "id": "ad17f8fc",
   "metadata": {},
   "source": [
    "# Not normal"
   ]
  },
  {
   "cell_type": "code",
   "execution_count": 38,
   "id": "cd09949a",
   "metadata": {},
   "outputs": [
    {
     "name": "stderr",
     "output_type": "stream",
     "text": [
      "  0%|          | 30/99999 [00:00<05:56, 280.74it/s]"
     ]
    },
    {
     "name": "stdout",
     "output_type": "stream",
     "text": [
      "[[  0   0   1   1   1   1   1   1   1   1   2   2   2   3   3   4   5   5\n",
      "    5   5   6   6   6   7   7   8   8   8   9   9   9   9  10  11  12  12\n",
      "   12  12  13  13  13  13  14  14  14  15  15  15  15  15  15  16  16  16\n",
      "   16  16  17  18  18  19  19  19  20  20  20  20  20  21  21  21  21  22\n",
      "   22  23  23  23  23  24  24  24  25  25  25  25  26  26  26  26  27  27\n",
      "   27  28  29  30  31  31  31  31  32  32  33  33  34  35  35  36  36  37\n",
      "   38  39  39  39  41  41  41  41  41  42  42  43  45  46  46  47  47  47\n",
      "   47  49  49  49  49  51  51  52  53  53  54  54  55  55  56  56  56  57\n",
      "   57  58  59  60  60  61  61  62  63  64  65  65  66  66  67  68  69  69\n",
      "   69  69  69  70  71  71  72  72  72  72  73  73  74  76  76  76  76  78\n",
      "   78  78  78  79  79  80  80  80  82  82  83  83  84  85  85  85  86  86\n",
      "   86  87  90  90  90  93  95  96  96  96  96  99 100 100 100 100 100 101\n",
      "  101 101 102 102 103 105 105 105 105 106 106 107 107 107 107 108 109 110\n",
      "  111 111 111 112 112 112 113 113 113 114 114 115 115 115 116 116 118 118\n",
      "  118 119 120 120 121 122 124 124 126 126 126 126 127 128 128 128 130 130\n",
      "  130 132 132 132 133 134 134 137 137 138 138 140 143 143 144 144 146 146\n",
      "  147 148 149 151 153 154 157 157 159 159 160 160 161 161 161 166 168 174\n",
      "  175 181 187]\n",
      " [ 42 109  49  69  78 100 101 148 182 186  70 145 199  61  98  37  13  66\n",
      "  103 165  64 123 199  58  77  51  63 169  40  97 102 191 125 139  65 136\n",
      "  162 194  94 103 165 193  84 165 193  16  64 116 160 175 179  85 116 166\n",
      "  179 180  95  26 138  23 103 142  66  83 133 149 185  33  52  87 110  35\n",
      "   38  74 103 142 168 134 181 186  80 106 108 170  39 137 138 190 107 154\n",
      "  176  40 129  88  95 108 144 178  50  74  87 127  48  94 147  68  79 143\n",
      "   62 138 167 190  47  51 159 169 194  91 152 165  87  91 177 111 124 159\n",
      "  192  90 101 114 156 128 169 110  55  87 120 140  87 127  58  77  83 169\n",
      "  193  77  69  91 117  81 162 115 169 123 159 162  83 149 103  79  78 101\n",
      "  158 182 186 199  75 153 107 147 161 176 122 198 168  80 157 187 195 101\n",
      "  148 182 186  86 183 108 157 187  94 170 133 185 194 100 166 179 174 183\n",
      "  184 127  92 114 156 144 144 112 126 148 160 132 146 148 166 181 186 114\n",
      "  156 182 151 191 142 118 119 125 135 195 197 147 150 154 176 170 131 150\n",
      "  124 159 192 126 148 160 161 167 173 151 156 133 149 185 179 180 119 125\n",
      "  135 135 140 196 198 198 159 192 137 138 160 164 139 159 162 184 153 155\n",
      "  171 134 155 181 185 146 181 146 166 164 190 189 174 183 158 170 166 181\n",
      "  194 160 185 188 171 176 187 195 162 192 163 179 167 173 192 179 171 183\n",
      "  179 197 195]]\n"
     ]
    },
    {
     "name": "stderr",
     "output_type": "stream",
     "text": [
      "100%|██████████| 99999/99999 [05:58<00:00, 278.73it/s]\n"
     ]
    }
   ],
   "source": [
    "NN_KINE, NN_POTE, NN_VEL = main(n_steps = 100000, N = 200, L = 10, dt = 1E-3, TEMPS = 300, init_random = 1, boundary = pbc, update = 100,\n",
    "                  pair_list_update = 10, rc = 1., rb = 1.5, file1 = 'Test_NN.pdb', file2 = 'Vel_NN.txt', file3 = 'POTE.txt', file4 = 'KINE.txt',\n",
    "                  distri = 'uniform')"
   ]
  },
  {
   "cell_type": "code",
   "execution_count": 42,
   "id": "95b6fe60",
   "metadata": {},
   "outputs": [
    {
     "data": {
      "image/png": "[encoded data removed]",
      "text/plain": [
       "<Figure size 432x288 with 1 Axes>"
      ]
     },
     "metadata": {
      "needs_background": "light"
     },
     "output_type": "display_data"
    }
   ],
   "source": [
    "ax = plt.hist(NN_VEL[0].flatten(), bins = 50)"
   ]
  },
  {
   "cell_type": "code",
   "execution_count": 41,
   "id": "fb087db1",
   "metadata": {},
   "outputs": [
    {
     "data": {
      "text/plain": [
       "(array([ 1.,  0.,  0.,  0.,  1.,  0.,  1.,  1.,  5.,  2.,  8.,  1.,  8.,\n",
       "        10., 11., 14., 23., 28., 23., 27., 15., 33., 42., 21., 39., 26.,\n",
       "        32., 25., 22., 24., 24., 28., 20., 14.,  8., 19., 11.,  8.,  5.,\n",
       "         5.,  5.,  3.,  2.,  1.,  3.,  0.,  0.,  0.,  0.,  1.]),\n",
       " array([-0.96408229, -0.92545248, -0.88682267, -0.84819287, -0.80956306,\n",
       "        -0.77093325, -0.73230344, -0.69367363, -0.65504383, -0.61641402,\n",
       "        -0.57778421, -0.5391544 , -0.5005246 , -0.46189479, -0.42326498,\n",
       "        -0.38463517, -0.34600536, -0.30737556, -0.26874575, -0.23011594,\n",
       "        -0.19148613, -0.15285632, -0.11422652, -0.07559671, -0.0369669 ,\n",
       "         0.00166291,  0.04029271,  0.07892252,  0.11755233,  0.15618214,\n",
       "         0.19481195,  0.23344175,  0.27207156,  0.31070137,  0.34933118,\n",
       "         0.38796098,  0.42659079,  0.4652206 ,  0.50385041,  0.54248022,\n",
       "         0.58111002,  0.61973983,  0.65836964,  0.69699945,  0.73562925,\n",
       "         0.77425906,  0.81288887,  0.85151868,  0.89014849,  0.92877829,\n",
       "         0.9674081 ]),\n",
       " <BarContainer object of 50 artists>)"
      ]
     },
     "execution_count": 41,
     "metadata": {},
     "output_type": "execute_result"
    },
    {
     "data": {
      "image/png": "[encoded data removed]",
      "text/plain": [
       "<Figure size 432x288 with 1 Axes>"
      ]
     },
     "metadata": {
      "needs_background": "light"
     },
     "output_type": "display_data"
    }
   ],
   "source": [
    "plt.hist(NN_VEL[-1].flatten(), bins = 50)"
   ]
  },
  {
   "cell_type": "code",
   "execution_count": null,
   "id": "62720e2f-798e-4f9f-a7fb-282079ce4bf2",
   "metadata": {},
   "outputs": [],
   "source": []
  }
 ],
 "metadata": {
  "kernelspec": {
   "display_name": "Python 3",
   "language": "python",
   "name": "python3"
  },
  "language_info": {
   "codemirror_mode": {
    "name": "ipython",
    "version": 3
   },
   "file_extension": ".py",
   "mimetype": "text/x-python",
   "name": "python",
   "nbconvert_exporter": "python",
   "pygments_lexer": "ipython3",
   "version": "3.9.4"
  }
 },
 "nbformat": 4,
 "nbformat_minor": 5
}
